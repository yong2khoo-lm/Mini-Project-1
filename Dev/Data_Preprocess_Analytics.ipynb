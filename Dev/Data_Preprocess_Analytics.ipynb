{
 "cells": [
  {
   "cell_type": "code",
   "execution_count": 1,
   "metadata": {},
   "outputs": [
    {
     "name": "stderr",
     "output_type": "stream",
     "text": [
      "C:\\Users\\LowJoonK\\AppData\\Local\\Continuum\\anaconda3\\lib\\site-packages\\statsmodels\\tools\\_testing.py:19: FutureWarning: pandas.util.testing is deprecated. Use the functions in the public API at pandas.testing instead.\n",
      "  import pandas.util.testing as tm\n"
     ]
    }
   ],
   "source": [
    "import pandas as pd\n",
    "import numpy as np\n",
    "import seaborn as sns\n",
    "import matplotlib.pyplot as plt\n",
    "\n",
    "import re"
   ]
  },
  {
   "cell_type": "code",
   "execution_count": 2,
   "metadata": {},
   "outputs": [
    {
     "data": {
      "text/html": [
       "<div>\n",
       "<style scoped>\n",
       "    .dataframe tbody tr th:only-of-type {\n",
       "        vertical-align: middle;\n",
       "    }\n",
       "\n",
       "    .dataframe tbody tr th {\n",
       "        vertical-align: top;\n",
       "    }\n",
       "\n",
       "    .dataframe thead th {\n",
       "        text-align: right;\n",
       "    }\n",
       "</style>\n",
       "<table border=\"1\" class=\"dataframe\">\n",
       "  <thead>\n",
       "    <tr style=\"text-align: right;\">\n",
       "      <th></th>\n",
       "      <th>link</th>\n",
       "      <th>name</th>\n",
       "      <th>current_title</th>\n",
       "      <th>current_location</th>\n",
       "      <th>experiences</th>\n",
       "      <th>educations</th>\n",
       "      <th>skills</th>\n",
       "    </tr>\n",
       "  </thead>\n",
       "  <tbody>\n",
       "    <tr>\n",
       "      <th>0</th>\n",
       "      <td>https://www.linkedin.com/in/pooya-movahed-b897...</td>\n",
       "      <td>Pooya Movahed</td>\n",
       "      <td>Data Scientist at ExxonMobil</td>\n",
       "      <td>Houston, Texas, United States</td>\n",
       "      <td>[{'titles': ['ExxonMobil', 'Data Scientist', '...</td>\n",
       "      <td>[['Doctor of Philosophy (Ph.D.), Mechanical En...</td>\n",
       "      <td>['Hydrodynamic instabilities', 'Machine Learni...</td>\n",
       "    </tr>\n",
       "    <tr>\n",
       "      <th>1</th>\n",
       "      <td>https://www.linkedin.com/in/emmayaoxie</td>\n",
       "      <td>Yao Xie, CFA</td>\n",
       "      <td>Data Scientist at PayPal</td>\n",
       "      <td>San Francisco Bay Area</td>\n",
       "      <td>[{'titles': ['Data Scientist 2'], 'exp': ['Pay...</td>\n",
       "      <td>[['Master of Science - MS, Computer Science', ...</td>\n",
       "      <td>['Financial Modeling', 'Quantitative Analytics...</td>\n",
       "    </tr>\n",
       "    <tr>\n",
       "      <th>2</th>\n",
       "      <td>https://www.linkedin.com/in/xiaozhou-shen</td>\n",
       "      <td>Xiaozhou Shen</td>\n",
       "      <td>Data Scientist at Bayer Crop Science</td>\n",
       "      <td>Portland, Oregon Metropolitan Area</td>\n",
       "      <td>[{'titles': ['Data Scientist'], 'exp': ['Bayer...</td>\n",
       "      <td>[['Master of Science - MS, Computer Science', ...</td>\n",
       "      <td>['Fortran', 'C (Programming Language)', 'C++',...</td>\n",
       "    </tr>\n",
       "    <tr>\n",
       "      <th>3</th>\n",
       "      <td>https://www.linkedin.com/in/yacine-brini</td>\n",
       "      <td>Yacine Brini</td>\n",
       "      <td>Data Scientist at Patreon</td>\n",
       "      <td>San Francisco, California, United States</td>\n",
       "      <td>[{'titles': ['Senior Data Scientist'], 'exp': ...</td>\n",
       "      <td>[['Master of Engineering (M.Eng.), Industrial ...</td>\n",
       "      <td>['MySQL', 'Python', 'French', 'English', 'Entr...</td>\n",
       "    </tr>\n",
       "    <tr>\n",
       "      <th>4</th>\n",
       "      <td>https://www.linkedin.com/in/eddy-yeo-wai-kit</td>\n",
       "      <td>Wai Kit, (Eddy) Y.</td>\n",
       "      <td>Senior Data Scientist | Software Engineer | Su...</td>\n",
       "      <td>Singapore, Singapore</td>\n",
       "      <td>[{'titles': ['Micron Technology', 'Senior Data...</td>\n",
       "      <td>[['Bachelor of Science (B.Sc.), Computer Scien...</td>\n",
       "      <td>['C#', 'Ruby on Rails', 'C++', 'Amazon Web Ser...</td>\n",
       "    </tr>\n",
       "  </tbody>\n",
       "</table>\n",
       "</div>"
      ],
      "text/plain": [
       "                                                link                name  \\\n",
       "0  https://www.linkedin.com/in/pooya-movahed-b897...       Pooya Movahed   \n",
       "1             https://www.linkedin.com/in/emmayaoxie        Yao Xie, CFA   \n",
       "2          https://www.linkedin.com/in/xiaozhou-shen       Xiaozhou Shen   \n",
       "3           https://www.linkedin.com/in/yacine-brini        Yacine Brini   \n",
       "4       https://www.linkedin.com/in/eddy-yeo-wai-kit  Wai Kit, (Eddy) Y.   \n",
       "\n",
       "                                       current_title  \\\n",
       "0                       Data Scientist at ExxonMobil   \n",
       "1                           Data Scientist at PayPal   \n",
       "2               Data Scientist at Bayer Crop Science   \n",
       "3                          Data Scientist at Patreon   \n",
       "4  Senior Data Scientist | Software Engineer | Su...   \n",
       "\n",
       "                           current_location  \\\n",
       "0             Houston, Texas, United States   \n",
       "1                    San Francisco Bay Area   \n",
       "2        Portland, Oregon Metropolitan Area   \n",
       "3  San Francisco, California, United States   \n",
       "4                      Singapore, Singapore   \n",
       "\n",
       "                                         experiences  \\\n",
       "0  [{'titles': ['ExxonMobil', 'Data Scientist', '...   \n",
       "1  [{'titles': ['Data Scientist 2'], 'exp': ['Pay...   \n",
       "2  [{'titles': ['Data Scientist'], 'exp': ['Bayer...   \n",
       "3  [{'titles': ['Senior Data Scientist'], 'exp': ...   \n",
       "4  [{'titles': ['Micron Technology', 'Senior Data...   \n",
       "\n",
       "                                          educations  \\\n",
       "0  [['Doctor of Philosophy (Ph.D.), Mechanical En...   \n",
       "1  [['Master of Science - MS, Computer Science', ...   \n",
       "2  [['Master of Science - MS, Computer Science', ...   \n",
       "3  [['Master of Engineering (M.Eng.), Industrial ...   \n",
       "4  [['Bachelor of Science (B.Sc.), Computer Scien...   \n",
       "\n",
       "                                              skills  \n",
       "0  ['Hydrodynamic instabilities', 'Machine Learni...  \n",
       "1  ['Financial Modeling', 'Quantitative Analytics...  \n",
       "2  ['Fortran', 'C (Programming Language)', 'C++',...  \n",
       "3  ['MySQL', 'Python', 'French', 'English', 'Entr...  \n",
       "4  ['C#', 'Ruby on Rails', 'C++', 'Amazon Web Ser...  "
      ]
     },
     "execution_count": 2,
     "metadata": {},
     "output_type": "execute_result"
    }
   ],
   "source": [
    "# Import Datataset\n",
    "df = pd.read_csv('full-all-2-with-headers.csv', encoding='utf-16')\n",
    "df.head()"
   ]
  },
  {
   "cell_type": "code",
   "execution_count": 3,
   "metadata": {},
   "outputs": [
    {
     "name": "stdout",
     "output_type": "stream",
     "text": [
      "link\n",
      "name\n",
      "current_title\n",
      "current_location\n",
      "experiences\n",
      "educations\n",
      "skills\n"
     ]
    }
   ],
   "source": [
    "for col in df.columns:\n",
    "    print(col)"
   ]
  },
  {
   "cell_type": "code",
   "execution_count": 4,
   "metadata": {},
   "outputs": [
    {
     "data": {
      "text/plain": [
       "0      [{'titles': ['ExxonMobil', 'Data Scientist', '...\n",
       "1      [{'titles': ['Data Scientist 2'], 'exp': ['Pay...\n",
       "2      [{'titles': ['Data Scientist'], 'exp': ['Bayer...\n",
       "3      [{'titles': ['Senior Data Scientist'], 'exp': ...\n",
       "4      [{'titles': ['Micron Technology', 'Senior Data...\n",
       "                             ...                        \n",
       "125    [{'titles': ['Junior Associate'], 'exp': ['McK...\n",
       "126    [{'titles': ['Doctoral Candidate'], 'exp': ['N...\n",
       "127    [{'titles': ['Data Scientist'], 'exp': ['Carso...\n",
       "128    [{'titles': ['Associate'], 'exp': ['Sprint Mil...\n",
       "129    [{'titles': ['Data Analyst Intern'], 'exp': ['...\n",
       "Name: experiences, Length: 130, dtype: object"
      ]
     },
     "execution_count": 4,
     "metadata": {},
     "output_type": "execute_result"
    }
   ],
   "source": [
    "df['experiences']"
   ]
  },
  {
   "cell_type": "code",
   "execution_count": 5,
   "metadata": {},
   "outputs": [
    {
     "data": {
      "text/plain": [
       "0      [['Doctor of Philosophy (Ph.D.), Mechanical En...\n",
       "1      [['Master of Science - MS, Computer Science', ...\n",
       "2      [['Master of Science - MS, Computer Science', ...\n",
       "3      [['Master of Engineering (M.Eng.), Industrial ...\n",
       "4      [['Bachelor of Science (B.Sc.), Computer Scien...\n",
       "                             ...                        \n",
       "125    [['Master of Engineering (MEng), Chemical Engi...\n",
       "126    [['Doctor of Philosophy - PhD, Data Science an...\n",
       "127    [[\"Master's degree, Mechanical Engineering in ...\n",
       "128    [['Bachelors of Game Development, Game Program...\n",
       "129    [[\"Bachelor's degree, Computer Science\", 'Sep ...\n",
       "Name: educations, Length: 130, dtype: object"
      ]
     },
     "execution_count": 5,
     "metadata": {},
     "output_type": "execute_result"
    }
   ],
   "source": [
    "df['educations']"
   ]
  },
  {
   "cell_type": "code",
   "execution_count": 6,
   "metadata": {},
   "outputs": [
    {
     "data": {
      "text/plain": [
       "0      ['Hydrodynamic instabilities', 'Machine Learni...\n",
       "1      ['Financial Modeling', 'Quantitative Analytics...\n",
       "2      ['Fortran', 'C (Programming Language)', 'C++',...\n",
       "3      ['MySQL', 'Python', 'French', 'English', 'Entr...\n",
       "4      ['C#', 'Ruby on Rails', 'C++', 'Amazon Web Ser...\n",
       "                             ...                        \n",
       "125    ['Applied Mathematics', 'Nonprofits', 'Custome...\n",
       "126    ['Machine Learning', 'R (Programming Language)...\n",
       "127    ['Machine Learning', 'R (Programming Language)...\n",
       "128    ['Business Intelligence (BI)', 'Analytical Ski...\n",
       "129    ['Machine Learning', 'Computer Vision', 'Busin...\n",
       "Name: skills, Length: 130, dtype: object"
      ]
     },
     "execution_count": 6,
     "metadata": {},
     "output_type": "execute_result"
    }
   ],
   "source": [
    "df['skills']"
   ]
  },
  {
   "cell_type": "code",
   "execution_count": 7,
   "metadata": {},
   "outputs": [
    {
     "data": {
      "text/html": [
       "<div>\n",
       "<style scoped>\n",
       "    .dataframe tbody tr th:only-of-type {\n",
       "        vertical-align: middle;\n",
       "    }\n",
       "\n",
       "    .dataframe tbody tr th {\n",
       "        vertical-align: top;\n",
       "    }\n",
       "\n",
       "    .dataframe thead th {\n",
       "        text-align: right;\n",
       "    }\n",
       "</style>\n",
       "<table border=\"1\" class=\"dataframe\">\n",
       "  <thead>\n",
       "    <tr style=\"text-align: right;\">\n",
       "      <th></th>\n",
       "      <th>link</th>\n",
       "      <th>name</th>\n",
       "      <th>current_title</th>\n",
       "      <th>current_location</th>\n",
       "      <th>experiences</th>\n",
       "      <th>educations</th>\n",
       "      <th>skills</th>\n",
       "    </tr>\n",
       "  </thead>\n",
       "  <tbody>\n",
       "    <tr>\n",
       "      <th>count</th>\n",
       "      <td>130</td>\n",
       "      <td>130</td>\n",
       "      <td>130</td>\n",
       "      <td>129</td>\n",
       "      <td>130</td>\n",
       "      <td>130</td>\n",
       "      <td>130</td>\n",
       "    </tr>\n",
       "    <tr>\n",
       "      <th>unique</th>\n",
       "      <td>130</td>\n",
       "      <td>130</td>\n",
       "      <td>96</td>\n",
       "      <td>42</td>\n",
       "      <td>129</td>\n",
       "      <td>126</td>\n",
       "      <td>129</td>\n",
       "    </tr>\n",
       "    <tr>\n",
       "      <th>top</th>\n",
       "      <td>https://www.linkedin.com/in/pooya-movahed-b897...</td>\n",
       "      <td>Pooya Movahed</td>\n",
       "      <td>Data Scientist</td>\n",
       "      <td>Kuala Lumpur, Federal Territory of Kuala Lumpu...</td>\n",
       "      <td>[{'titles': ['Standard Chartered Bank', 'Vice ...</td>\n",
       "      <td>[['Petroleum Engineering', '2013 - 2018']]</td>\n",
       "      <td>['Machine Learning', 'R (Programming Language)...</td>\n",
       "    </tr>\n",
       "    <tr>\n",
       "      <th>freq</th>\n",
       "      <td>1</td>\n",
       "      <td>1</td>\n",
       "      <td>22</td>\n",
       "      <td>38</td>\n",
       "      <td>2</td>\n",
       "      <td>2</td>\n",
       "      <td>2</td>\n",
       "    </tr>\n",
       "  </tbody>\n",
       "</table>\n",
       "</div>"
      ],
      "text/plain": [
       "                                                     link           name  \\\n",
       "count                                                 130            130   \n",
       "unique                                                130            130   \n",
       "top     https://www.linkedin.com/in/pooya-movahed-b897...  Pooya Movahed   \n",
       "freq                                                    1              1   \n",
       "\n",
       "         current_title                                   current_location  \\\n",
       "count              130                                                129   \n",
       "unique              96                                                 42   \n",
       "top     Data Scientist  Kuala Lumpur, Federal Territory of Kuala Lumpu...   \n",
       "freq                22                                                 38   \n",
       "\n",
       "                                              experiences  \\\n",
       "count                                                 130   \n",
       "unique                                                129   \n",
       "top     [{'titles': ['Standard Chartered Bank', 'Vice ...   \n",
       "freq                                                    2   \n",
       "\n",
       "                                        educations  \\\n",
       "count                                          130   \n",
       "unique                                         126   \n",
       "top     [['Petroleum Engineering', '2013 - 2018']]   \n",
       "freq                                             2   \n",
       "\n",
       "                                                   skills  \n",
       "count                                                 130  \n",
       "unique                                                129  \n",
       "top     ['Machine Learning', 'R (Programming Language)...  \n",
       "freq                                                    2  "
      ]
     },
     "execution_count": 7,
     "metadata": {},
     "output_type": "execute_result"
    }
   ],
   "source": [
    "df.shape\n",
    "df.describe()"
   ]
  },
  {
   "cell_type": "code",
   "execution_count": 8,
   "metadata": {},
   "outputs": [
    {
     "name": "stdout",
     "output_type": "stream",
     "text": [
      "Total Data Scientist SampleSize: 130\n"
     ]
    }
   ],
   "source": [
    "samplesize = len(df.index)\n",
    "#samplesize\n",
    "print('Total Data Scientist SampleSize: ' + str(samplesize))\n",
    "#print(df[df.columns[0]].count())"
   ]
  },
  {
   "cell_type": "markdown",
   "metadata": {},
   "source": [
    "# DataScientist by Area_Pie"
   ]
  },
  {
   "cell_type": "code",
   "execution_count": 34,
   "metadata": {},
   "outputs": [
    {
     "data": {
      "text/plain": [
       "Kuala Lumpur, Federal Territory of Kuala Lumpur, Malaysia    38\n",
       "Petaling Jaya, Selangor, Malaysia                            12\n",
       "Federal Territory of Kuala Lumpur, Malaysia                   8\n",
       "Malaysia                                                      6\n",
       "Selangor, Malaysia                                            6\n",
       "Cyberjaya, Selangor, Malaysia                                 5\n",
       "San Francisco Bay Area                                        5\n",
       "Shah Alam, Selangor, Malaysia                                 4\n",
       "Ipoh, Perak, Malaysia                                         2\n",
       "Kajang, Selangor, Malaysia                                    2\n",
       "Greater Kuala Lumpur                                          2\n",
       "Bayan Lepas, Penang, Malaysia                                 2\n",
       "Malacca, Malaysia                                             2\n",
       "Menlo Park, California, United States                         2\n",
       "United States                                                 2\n",
       "Gombak, Selangor, Malaysia                                    2\n",
       "Bengaluru, Karnataka, India                                   2\n",
       "Singapore, Singapore                                          2\n",
       "Penang, Malaysia                                              2\n",
       "Semenyih, Selangor, Malaysia                                  1\n",
       "Subang Jaya, Selangor, Malaysia                               1\n",
       "Klang, Selangor, Malaysia                                     1\n",
       "Australia                                                     1\n",
       "Pasir Gudang, Johore, Malaysia                                1\n",
       "Puchong, Selangor, Malaysia                                   1\n",
       "Banting, Selangor, Malaysia                                   1\n",
       "Gelugor, Penang, Malaysia                                     1\n",
       "Georgetown, Penang, Malaysia                                  1\n",
       "Houston, Texas, United States                                 1\n",
       "Kedah, Malaysia                                               1\n",
       "Seremban, Negri Sembilan, Malaysia                            1\n",
       "San Jose, California, United States                           1\n",
       "Ankara, Turkey                                                1\n",
       "Brazil                                                        1\n",
       "Washington, District of Columbia, United States               1\n",
       "Lexington, Kentucky, United States                            1\n",
       "Stuttgart Region                                              1\n",
       "Redwood City, California, United States                       1\n",
       "Mumbai, Maharashtra, India                                    1\n",
       "San Francisco, California, United States                      1\n",
       "Portland, Oregon Metropolitan Area                            1\n",
       "Hulu Langat, Selangor, Malaysia                               1\n",
       "Name: current_location, dtype: int64"
      ]
     },
     "execution_count": 34,
     "metadata": {},
     "output_type": "execute_result"
    }
   ],
   "source": [
    "DSCount = (df['current_location']).value_counts()\n",
    "DSCount"
   ]
  },
  {
   "cell_type": "code",
   "execution_count": 41,
   "metadata": {},
   "outputs": [
    {
     "data": {
      "image/png": "[encoded data removed]",
      "text/plain": [
       "<Figure size 432x288 with 1 Axes>"
      ]
     },
     "metadata": {},
     "output_type": "display_data"
    }
   ],
   "source": [
    "#how to insert label?\n",
    "#how to sort by lagest to lowest?\n",
    "#how to increase the pie chart size?\n",
    "#Data cleaning on location required?\n",
    "\n",
    "#define data\n",
    "DSCount = (df['current_location']).value_counts()\n",
    "#labels = ['current_location']\n",
    "\n",
    "#define Seaborn color palette to use\n",
    "colors = sns.color_palette('pastel')[0:5]\n",
    "\n",
    "#create pie chart\n",
    "#plt.pie(DSCount, labels = labels, colors = colors, autopct='%.0f%%')\n",
    "plt.pie(DSCount, colors = colors, autopct='%.0f%%')\n",
    "plt.show()"
   ]
  },
  {
   "cell_type": "code",
   "execution_count": null,
   "metadata": {},
   "outputs": [],
   "source": []
  },
  {
   "cell_type": "markdown",
   "metadata": {},
   "source": [
    "# DataScientist by Job_Title_Pie"
   ]
  },
  {
   "cell_type": "code",
   "execution_count": null,
   "metadata": {},
   "outputs": [],
   "source": []
  },
  {
   "cell_type": "markdown",
   "metadata": {},
   "source": [
    "# Prepare Skills for Viz - DataScientist Skills Pareto"
   ]
  },
  {
   "cell_type": "code",
   "execution_count": 9,
   "metadata": {},
   "outputs": [],
   "source": [
    "#clean 'skills' list special character\n",
    "df['skills'] = df['skills'].apply(eval)"
   ]
  },
  {
   "cell_type": "code",
   "execution_count": 10,
   "metadata": {},
   "outputs": [
    {
     "data": {
      "text/plain": [
       "0      [Hydrodynamic instabilities, Machine Learning,...\n",
       "1      [Financial Modeling, Quantitative Analytics, V...\n",
       "2      [Fortran, C (Programming Language), C++, Plasm...\n",
       "3      [MySQL, Python, French, English, Entrepreneuri...\n",
       "4      [C#, Ruby on Rails, C++, Amazon Web Services (...\n",
       "                             ...                        \n",
       "125    [Applied Mathematics, Nonprofits, Customer Com...\n",
       "126    [Machine Learning, R (Programming Language), S...\n",
       "127    [Machine Learning, R (Programming Language), S...\n",
       "128    [Business Intelligence (BI), Analytical Skills...\n",
       "129    [Machine Learning, Computer Vision, Business I...\n",
       "Name: skills, Length: 130, dtype: object"
      ]
     },
     "execution_count": 10,
     "metadata": {},
     "output_type": "execute_result"
    }
   ],
   "source": [
    "df['skills']"
   ]
  },
  {
   "cell_type": "code",
   "execution_count": 11,
   "metadata": {},
   "outputs": [
    {
     "name": "stdout",
     "output_type": "stream",
     "text": [
      "list 0 is <class 'list'>\n",
      "list 1 is <class 'list'>\n",
      "list 2 is <class 'list'>\n",
      "list 3 is <class 'list'>\n",
      "list 4 is <class 'list'>\n",
      "list 5 is <class 'list'>\n",
      "list 6 is <class 'list'>\n",
      "list 7 is <class 'list'>\n",
      "list 8 is <class 'list'>\n",
      "list 9 is <class 'list'>\n",
      "list 10 is <class 'list'>\n",
      "list 11 is <class 'list'>\n",
      "list 12 is <class 'list'>\n",
      "list 13 is <class 'list'>\n",
      "list 14 is <class 'list'>\n",
      "list 15 is <class 'list'>\n",
      "list 16 is <class 'list'>\n",
      "list 17 is <class 'list'>\n",
      "list 18 is <class 'list'>\n",
      "list 19 is <class 'list'>\n",
      "list 20 is <class 'list'>\n",
      "list 21 is <class 'list'>\n",
      "list 22 is <class 'list'>\n",
      "list 23 is <class 'list'>\n",
      "list 24 is <class 'list'>\n",
      "list 25 is <class 'list'>\n",
      "list 26 is <class 'list'>\n",
      "list 27 is <class 'list'>\n",
      "list 28 is <class 'list'>\n",
      "list 29 is <class 'list'>\n",
      "list 30 is <class 'list'>\n",
      "list 31 is <class 'list'>\n",
      "list 32 is <class 'list'>\n",
      "list 33 is <class 'list'>\n",
      "list 34 is <class 'list'>\n",
      "list 35 is <class 'list'>\n",
      "list 36 is <class 'list'>\n",
      "list 37 is <class 'list'>\n",
      "list 38 is <class 'list'>\n",
      "list 39 is <class 'list'>\n",
      "list 40 is <class 'list'>\n",
      "list 41 is <class 'list'>\n",
      "list 42 is <class 'list'>\n",
      "list 43 is <class 'list'>\n",
      "list 44 is <class 'list'>\n",
      "list 45 is <class 'list'>\n",
      "list 46 is <class 'list'>\n",
      "list 47 is <class 'list'>\n",
      "list 48 is <class 'list'>\n",
      "list 49 is <class 'list'>\n",
      "list 50 is <class 'list'>\n",
      "list 51 is <class 'list'>\n",
      "list 52 is <class 'list'>\n",
      "list 53 is <class 'list'>\n",
      "list 54 is <class 'list'>\n",
      "list 55 is <class 'list'>\n",
      "list 56 is <class 'list'>\n",
      "list 57 is <class 'list'>\n",
      "list 58 is <class 'list'>\n",
      "list 59 is <class 'list'>\n",
      "list 60 is <class 'list'>\n",
      "list 61 is <class 'list'>\n",
      "list 62 is <class 'list'>\n",
      "list 63 is <class 'list'>\n",
      "list 64 is <class 'list'>\n",
      "list 65 is <class 'list'>\n",
      "list 66 is <class 'list'>\n",
      "list 67 is <class 'list'>\n",
      "list 68 is <class 'list'>\n",
      "list 69 is <class 'list'>\n",
      "list 70 is <class 'list'>\n",
      "list 71 is <class 'list'>\n",
      "list 72 is <class 'list'>\n",
      "list 73 is <class 'list'>\n",
      "list 74 is <class 'list'>\n",
      "list 75 is <class 'list'>\n",
      "list 76 is <class 'list'>\n",
      "list 77 is <class 'list'>\n",
      "list 78 is <class 'list'>\n",
      "list 79 is <class 'list'>\n",
      "list 80 is <class 'list'>\n",
      "list 81 is <class 'list'>\n",
      "list 82 is <class 'list'>\n",
      "list 83 is <class 'list'>\n",
      "list 84 is <class 'list'>\n",
      "list 85 is <class 'list'>\n",
      "list 86 is <class 'list'>\n",
      "list 87 is <class 'list'>\n",
      "list 88 is <class 'list'>\n",
      "list 89 is <class 'list'>\n",
      "list 90 is <class 'list'>\n",
      "list 91 is <class 'list'>\n",
      "list 92 is <class 'list'>\n",
      "list 93 is <class 'list'>\n",
      "list 94 is <class 'list'>\n",
      "list 95 is <class 'list'>\n",
      "list 96 is <class 'list'>\n",
      "list 97 is <class 'list'>\n",
      "list 98 is <class 'list'>\n",
      "list 99 is <class 'list'>\n",
      "list 100 is <class 'list'>\n",
      "list 101 is <class 'list'>\n",
      "list 102 is <class 'list'>\n",
      "list 103 is <class 'list'>\n",
      "list 104 is <class 'list'>\n",
      "list 105 is <class 'list'>\n",
      "list 106 is <class 'list'>\n",
      "list 107 is <class 'list'>\n",
      "list 108 is <class 'list'>\n",
      "list 109 is <class 'list'>\n",
      "list 110 is <class 'list'>\n",
      "list 111 is <class 'list'>\n",
      "list 112 is <class 'list'>\n",
      "list 113 is <class 'list'>\n",
      "list 114 is <class 'list'>\n",
      "list 115 is <class 'list'>\n",
      "list 116 is <class 'list'>\n",
      "list 117 is <class 'list'>\n",
      "list 118 is <class 'list'>\n",
      "list 119 is <class 'list'>\n",
      "list 120 is <class 'list'>\n",
      "list 121 is <class 'list'>\n",
      "list 122 is <class 'list'>\n",
      "list 123 is <class 'list'>\n",
      "list 124 is <class 'list'>\n",
      "list 125 is <class 'list'>\n",
      "list 126 is <class 'list'>\n",
      "list 127 is <class 'list'>\n",
      "list 128 is <class 'list'>\n",
      "list 129 is <class 'list'>\n"
     ]
    }
   ],
   "source": [
    "#check 'skills' type\n",
    "for i, l in enumerate(df['skills']):\n",
    " print('list',i,'is',type(l))"
   ]
  },
  {
   "cell_type": "code",
   "execution_count": 12,
   "metadata": {},
   "outputs": [],
   "source": [
    "def skills_to_1D(series):\n",
    " return pd.Series([x for _list in series for x in _list])"
   ]
  },
  {
   "cell_type": "code",
   "execution_count": 13,
   "metadata": {},
   "outputs": [
    {
     "data": {
      "text/plain": [
       "Data Analysis                    65\n",
       "Python (Programming Language)    61\n",
       "Microsoft Excel                  58\n",
       "Machine Learning                 57\n",
       "SQL                              56\n",
       "                                 ..\n",
       "Instrumentation                   1\n",
       "Malay                             1\n",
       "Design for Manufacturing          1\n",
       "Pareto Analysis                   1\n",
       "Data Analyst                      1\n",
       "Length: 702, dtype: int64"
      ]
     },
     "execution_count": 13,
     "metadata": {},
     "output_type": "execute_result"
    }
   ],
   "source": [
    "#frequency count for each skill\n",
    "skills_to_1D(df['skills']).value_counts()"
   ]
  },
  {
   "cell_type": "code",
   "execution_count": 14,
   "metadata": {
    "scrolled": false
   },
   "outputs": [
    {
     "data": {
      "text/plain": [
       "Text(0.5, 1.0, 'Skills Sequence')"
      ]
     },
     "execution_count": 14,
     "metadata": {},
     "output_type": "execute_result"
    },
    {
     "data": {
      "image/png": "[encoded data removed]",
      "text/plain": [
       "<Figure size 1440x720 with 1 Axes>"
      ]
     },
     "metadata": {
      "needs_background": "light"
     },
     "output_type": "display_data"
    }
   ],
   "source": [
    "#top 30# Skills\n",
    "skills_top_30 = skills_to_1D(df['skills']).value_counts()[:30]\n",
    "\n",
    "fig, ax = plt.subplots(figsize = (20,10))\n",
    "ax.bar(skills_top_30.index,\n",
    "        skills_top_30.values)\n",
    "ax.set_ylabel('Frequency', size = 12)\n",
    "plt.xticks(rotation = 90)\n",
    "ax.set_title('Skills Sequence', size = 14)"
   ]
  },
  {
   "cell_type": "markdown",
   "metadata": {},
   "source": [
    "skills_expanded_clm = df['skills'].apply(pd.Series)\n",
    "skills_expanded_clm.head() #NaN replaced with 0?"
   ]
  },
  {
   "cell_type": "markdown",
   "metadata": {},
   "source": [
    "skills_expanded_clm.iloc[:,0].value_counts(normalize = True)"
   ]
  },
  {
   "cell_type": "code",
   "execution_count": 15,
   "metadata": {},
   "outputs": [],
   "source": [
    "#https://towardsdatascience.com/dealing-with-list-values-in-pandas-dataframes-a177e534f173\n",
    "#think for skills which library and chart type to use?"
   ]
  },
  {
   "cell_type": "code",
   "execution_count": 16,
   "metadata": {},
   "outputs": [
    {
     "data": {
      "image/png": "[encoded data removed]",
      "text/plain": [
       "<Figure size 432x288 with 1 Axes>"
      ]
     },
     "metadata": {
      "needs_background": "light"
     },
     "output_type": "display_data"
    }
   ],
   "source": [
    "skills = skills_to_1D(df['skills']).str.split(',', expand=True).stack().reset_index(drop=True)\n",
    "ax = sns.countplot(y=skills, order=skills.value_counts().iloc[:30].index, palette='rocket') #Change iloc as per top-n\n",
    "ax.tick_params(axis='y', length=0)\n",
    "plt.tight_layout()\n",
    "plt.show()"
   ]
  },
  {
   "cell_type": "code",
   "execution_count": 27,
   "metadata": {},
   "outputs": [
    {
     "data": {
      "text/html": [
       "<div>\n",
       "<style scoped>\n",
       "    .dataframe tbody tr th:only-of-type {\n",
       "        vertical-align: middle;\n",
       "    }\n",
       "\n",
       "    .dataframe tbody tr th {\n",
       "        vertical-align: top;\n",
       "    }\n",
       "\n",
       "    .dataframe thead th {\n",
       "        text-align: right;\n",
       "    }\n",
       "</style>\n",
       "<table border=\"1\" class=\"dataframe\">\n",
       "  <thead>\n",
       "    <tr style=\"text-align: right;\">\n",
       "      <th></th>\n",
       "      <th>0</th>\n",
       "    </tr>\n",
       "  </thead>\n",
       "  <tbody>\n",
       "    <tr>\n",
       "      <th>Data Analysis</th>\n",
       "      <td>65</td>\n",
       "    </tr>\n",
       "    <tr>\n",
       "      <th>Python (Programming Language)</th>\n",
       "      <td>61</td>\n",
       "    </tr>\n",
       "    <tr>\n",
       "      <th>Microsoft Excel</th>\n",
       "      <td>58</td>\n",
       "    </tr>\n",
       "    <tr>\n",
       "      <th>Machine Learning</th>\n",
       "      <td>57</td>\n",
       "    </tr>\n",
       "    <tr>\n",
       "      <th>SQL</th>\n",
       "      <td>56</td>\n",
       "    </tr>\n",
       "  </tbody>\n",
       "</table>\n",
       "</div>"
      ],
      "text/plain": [
       "                                0\n",
       "Data Analysis                  65\n",
       "Python (Programming Language)  61\n",
       "Microsoft Excel                58\n",
       "Machine Learning               57\n",
       "SQL                            56"
      ]
     },
     "execution_count": 27,
     "metadata": {},
     "output_type": "execute_result"
    }
   ],
   "source": [
    "from matplotlib.ticker import PercentFormatter\n",
    "\n",
    "skills_df = pd.DataFrame(skills_to_1D(df['skills']).value_counts())\n",
    "#skills_df.columns = ['Skill','Frequency']\n",
    "skills_df.head()\n",
    "#skills_sort = skills_df.sort_values(by='count', ascending=False)"
   ]
  },
  {
   "cell_type": "code",
   "execution_count": null,
   "metadata": {},
   "outputs": [],
   "source": [
    "# Not success to draw Pareto for Skills (Bar cart ok, but not yet assign %)"
   ]
  },
  {
   "cell_type": "markdown",
   "metadata": {},
   "source": [
    "# DataScientist by Education"
   ]
  },
  {
   "cell_type": "code",
   "execution_count": null,
   "metadata": {},
   "outputs": [],
   "source": []
  },
  {
   "cell_type": "markdown",
   "metadata": {},
   "source": [
    "# DataScientist Working Years Working Years Experience Distribution"
   ]
  },
  {
   "cell_type": "code",
   "execution_count": null,
   "metadata": {},
   "outputs": [],
   "source": []
  }
 ],
 "metadata": {
  "kernelspec": {
   "display_name": "Python 3",
   "language": "python",
   "name": "python3"
  },
  "language_info": {
   "codemirror_mode": {
    "name": "ipython",
    "version": 3
   },
   "file_extension": ".py",
   "mimetype": "text/x-python",
   "name": "python",
   "nbconvert_exporter": "python",
   "pygments_lexer": "ipython3",
   "version": "3.7.4"
  }
 },
 "nbformat": 4,
 "nbformat_minor": 2
}
