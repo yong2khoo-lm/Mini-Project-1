{
 "cells": [
  {
   "cell_type": "code",
   "execution_count": 4,
   "id": "60bb0ef1",
   "metadata": {},
   "outputs": [],
   "source": [
    "import pandas as pd \n",
    "\n",
    "df = pd.read_csv('./full-all-2-with-headers.csv', encoding='utf-16')"
   ]
  },
  {
   "cell_type": "code",
   "execution_count": 7,
   "id": "7ad16d11",
   "metadata": {},
   "outputs": [
    {
     "data": {
      "text/plain": [
       "0                        Pooya Movahed\n",
       "1                         Yao Xie, CFA\n",
       "2                        Xiaozhou Shen\n",
       "3                         Yacine Brini\n",
       "4                   Wai Kit, (Eddy) Y.\n",
       "                    ...               \n",
       "125                    Khoon Kheng Teh\n",
       "126    Muhammed Haziq Bin Muhammed Nor\n",
       "127                   Kai Chyuan Cheng\n",
       "128               Naim Iskandar Zahari\n",
       "129                        Sai Weng Ng\n",
       "Name: name, Length: 130, dtype: object"
      ]
     },
     "execution_count": 7,
     "metadata": {},
     "output_type": "execute_result"
    }
   ],
   "source": [
    "df[\"name\"]"
   ]
  },
  {
   "cell_type": "code",
   "execution_count": null,
   "id": "b19f0c13",
   "metadata": {},
   "outputs": [],
   "source": []
  }
 ],
 "metadata": {
  "kernelspec": {
   "display_name": "Python 3 (ipykernel)",
   "language": "python",
   "name": "python3"
  },
  "language_info": {
   "codemirror_mode": {
    "name": "ipython",
    "version": 3
   },
   "file_extension": ".py",
   "mimetype": "text/x-python",
   "name": "python",
   "nbconvert_exporter": "python",
   "pygments_lexer": "ipython3",
   "version": "3.9.12"
  }
 },
 "nbformat": 4,
 "nbformat_minor": 5
}
