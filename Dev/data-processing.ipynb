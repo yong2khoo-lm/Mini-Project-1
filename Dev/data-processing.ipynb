{
 "cells": [
  {
   "cell_type": "code",
   "execution_count": 4,
   "id": "1b5eb2b7",
   "metadata": {},
   "outputs": [],
   "source": [
    "import pandas as pd \n",
    "\n",
    "df = pd.read_csv('./full-all-2-with-headers.csv', encoding='utf-16')"
   ]
  },
  {
   "cell_type": "code",
   "execution_count": 11,
   "id": "8df9f647",
   "metadata": {},
   "outputs": [
    {
     "data": {
      "text/plain": [
       "0                        Pooya Movahed\n",
       "1                         Yao Xie, CFA\n",
       "2                        Xiaozhou Shen\n",
       "3                         Yacine Brini\n",
       "4                   Wai Kit, (Eddy) Y.\n",
       "                    ...               \n",
       "125                    Khoon Kheng Teh\n",
       "126    Muhammed Haziq Bin Muhammed Nor\n",
       "127                   Kai Chyuan Cheng\n",
       "128               Naim Iskandar Zahari\n",
       "129                        Sai Weng Ng\n",
       "Name: name, Length: 130, dtype: object"
      ]
     },
     "execution_count": 11,
     "metadata": {},
     "output_type": "execute_result"
    }
   ],
   "source": [
    "df[\"name\"]"
   ]
  },
  {
   "cell_type": "code",
   "execution_count": 10,
   "id": "1c717259",
   "metadata": {},
   "outputs": [
    {
     "data": {
      "text/plain": [
       "0      ['Hydrodynamic instabilities', 'Machine Learni...\n",
       "1      ['Financial Modeling', 'Quantitative Analytics...\n",
       "2      ['Fortran', 'C (Programming Language)', 'C++',...\n",
       "3      ['MySQL', 'Python', 'French', 'English', 'Entr...\n",
       "4      ['C#', 'Ruby on Rails', 'C++', 'Amazon Web Ser...\n",
       "                             ...                        \n",
       "125    ['Applied Mathematics', 'Nonprofits', 'Custome...\n",
       "126    ['Machine Learning', 'R (Programming Language)...\n",
       "127    ['Machine Learning', 'R (Programming Language)...\n",
       "128    ['Business Intelligence (BI)', 'Analytical Ski...\n",
       "129    ['Machine Learning', 'Computer Vision', 'Busin...\n",
       "Name: skills, Length: 130, dtype: object"
      ]
     },
     "execution_count": 10,
     "metadata": {},
     "output_type": "execute_result"
    }
   ],
   "source": [
    "df[\"skills\"]"
   ]
  },
  {
   "cell_type": "code",
   "execution_count": null,
   "id": "62d2186b",
   "metadata": {},
   "outputs": [],
   "source": []
  }
 ],
 "metadata": {
  "kernelspec": {
   "display_name": "Python 3 (ipykernel)",
   "language": "python",
   "name": "python3"
  },
  "language_info": {
   "codemirror_mode": {
    "name": "ipython",
    "version": 3
   },
   "file_extension": ".py",
   "mimetype": "text/x-python",
   "name": "python",
   "nbconvert_exporter": "python",
   "pygments_lexer": "ipython3",
   "version": "3.9.12"
  }
 },
 "nbformat": 4,
 "nbformat_minor": 5
}
