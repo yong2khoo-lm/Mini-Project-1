{
 "cells": [
  {
   "cell_type": "code",
   "execution_count": 21,
   "id": "8423a3bb",
   "metadata": {},
   "outputs": [],
   "source": [
    "import pandas as pd \n",
    "\n",
    "df = pd.read_csv('./full-all-2-with-headers.csv', encoding='utf-16')"
   ]
  },
  {
   "cell_type": "code",
   "execution_count": 22,
   "id": "d73b579d",
   "metadata": {},
   "outputs": [
    {
     "data": {
      "text/plain": [
       "0             Pooya Movahed\n",
       "1              Yao Xie, CFA\n",
       "2             Xiaozhou Shen\n",
       "3              Yacine Brini\n",
       "4        Wai Kit, (Eddy) Y.\n",
       "               ...         \n",
       "345        Mårten Björketun\n",
       "346            BH (Sam) Tan\n",
       "347              Nur Aqilah\n",
       "348             Fares Hasan\n",
       "349    Poo Kuan Hoong, Ph.D\n",
       "Name: name, Length: 350, dtype: object"
      ]
     },
     "execution_count": 22,
     "metadata": {},
     "output_type": "execute_result"
    }
   ],
   "source": [
    "df[\"name\"]"
   ]
  },
  {
   "cell_type": "code",
   "execution_count": 23,
   "id": "4ac95fba",
   "metadata": {},
   "outputs": [
    {
     "data": {
      "text/plain": [
       "0      [{'titles': ['ExxonMobil', 'Data Scientist', '...\n",
       "1      [{'titles': ['Data Scientist 2'], 'exp': ['Pay...\n",
       "2      [{'titles': ['Data Scientist'], 'exp': ['Bayer...\n",
       "3      [{'titles': ['Senior Data Scientist'], 'exp': ...\n",
       "4      [{'titles': ['Micron Technology', 'Senior Data...\n",
       "                             ...                        \n",
       "345    [{'titles': ['Principal Data Scientist'], 'exp...\n",
       "346    [{'titles': ['Assistant Officer'], 'exp': ['DO...\n",
       "347    [{'titles': ['Data Scientist'], 'exp': ['Intel...\n",
       "348    [{'titles': ['Lead Data Scientist'], 'exp': ['...\n",
       "349    [{'titles': ['Lead Data Scientist, RGM'], 'exp...\n",
       "Name: experiences, Length: 350, dtype: object"
      ]
     },
     "execution_count": 23,
     "metadata": {},
     "output_type": "execute_result"
    }
   ],
   "source": [
    "df[\"experiences\"]"
   ]
  },
  {
   "cell_type": "code",
   "execution_count": 24,
   "id": "110e1bcd",
   "metadata": {},
   "outputs": [
    {
     "data": {
      "text/plain": [
       "0      [['Doctor of Philosophy (Ph.D.), Mechanical En...\n",
       "1      [['Master of Science - MS, Computer Science', ...\n",
       "2      [['Master of Science - MS, Computer Science', ...\n",
       "3      [['Master of Engineering (M.Eng.), Industrial ...\n",
       "4      [['Bachelor of Science (B.Sc.), Computer Scien...\n",
       "                             ...                        \n",
       "345    [['Doctor of Philosophy - PhD, Physics', '2002...\n",
       "346    [['Master of Data Science, Data Science', '201...\n",
       "347    [['Doctor of Philosophy - PhD, Artificial Inte...\n",
       "348    [[\"Bachelor's in Information Science and Techn...\n",
       "349    [['Ph.D, Distributed System', '2004 - 2008'], ...\n",
       "Name: educations, Length: 350, dtype: object"
      ]
     },
     "execution_count": 24,
     "metadata": {},
     "output_type": "execute_result"
    }
   ],
   "source": [
    "df[\"educations\"]"
   ]
  },
  {
   "cell_type": "code",
   "execution_count": 25,
   "id": "d3869be0",
   "metadata": {},
   "outputs": [
    {
     "data": {
      "text/plain": [
       "0      ['Hydrodynamic instabilities', 'Machine Learni...\n",
       "1      ['Financial Modeling', 'Quantitative Analytics...\n",
       "2      ['Fortran', 'C (Programming Language)', 'C++',...\n",
       "3      ['MySQL', 'Python', 'French', 'English', 'Entr...\n",
       "4      ['C#', 'Ruby on Rails', 'C++', 'Amazon Web Ser...\n",
       "                             ...                        \n",
       "345    ['Nanotechnology', 'Physics', 'Surface Chemist...\n",
       "346    ['Teamwork', 'Data Science', 'Data Analysis', ...\n",
       "347    ['Machine Learning', 'R (Programming Language)...\n",
       "348    ['Machine Learning', 'C#', 'Artificial Intelli...\n",
       "349    ['Machine Learning', 'C++', 'Web Applications'...\n",
       "Name: skills, Length: 350, dtype: object"
      ]
     },
     "execution_count": 25,
     "metadata": {},
     "output_type": "execute_result"
    }
   ],
   "source": [
    "df[\"skills\"]"
   ]
  },
  {
   "cell_type": "code",
   "execution_count": 49,
   "id": "1a85a2d1",
   "metadata": {},
   "outputs": [
    {
     "name": "stdout",
     "output_type": "stream",
     "text": [
      "total skills captured: 5830, unique by words: 1310\n"
     ]
    }
   ],
   "source": [
    "# Quick look\n",
    "\n",
    "import json\n",
    "\n",
    "skills = []\n",
    "for each_person_skills in df[\"skills\"]:\n",
    "    each_person_skills_convert = each_person_skills.replace(\"'\", \"\\\"\")\n",
    "    each_person_skills_convert_list = json.loads(each_person_skills_convert)\n",
    "    for each_person_each_skill in each_person_skills_convert_list:\n",
    "        skills.append(each_person_each_skill.lower())\n",
    "        \n",
    "print(f\"total skills captured: {len(skills)}, unique by words: {len(list(set(skills)))}\")\n"
   ]
  }
 ],
 "metadata": {
  "kernelspec": {
   "display_name": "Python 3 (ipykernel)",
   "language": "python",
   "name": "python3"
  },
  "language_info": {
   "codemirror_mode": {
    "name": "ipython",
    "version": 3
   },
   "file_extension": ".py",
   "mimetype": "text/x-python",
   "name": "python",
   "nbconvert_exporter": "python",
   "pygments_lexer": "ipython3",
   "version": "3.9.12"
  }
 },
 "nbformat": 4,
 "nbformat_minor": 5
}
