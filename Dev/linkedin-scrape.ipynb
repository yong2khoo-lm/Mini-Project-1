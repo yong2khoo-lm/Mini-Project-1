{
 "cells": [
  {
   "cell_type": "code",
   "execution_count": null,
   "id": "e337b96e",
   "metadata": {
    "scrolled": true
   },
   "outputs": [],
   "source": [
    "from selenium import webdriver\n",
    "from webdriver_manager.chrome import ChromeDriverManager\n",
    "from selenium.webdriver.chrome.service import Service\n",
    "from selenium.webdriver.common.by import By\n",
    "from selenium.webdriver.common.keys import Keys\n",
    "from selenium.webdriver.support.ui import WebDriverWait\n",
    "from selenium.webdriver.support import expected_conditions as EC\n",
    "\n",
    "driver = webdriver.Chrome(service=Service(ChromeDriverManager().install()))\n",
    "\n",
    "email = \"\"\n",
    "password = \"\"\n",
    "driver.get(\"https://www.linkedin.com/login\")\n",
    "element = WebDriverWait(driver, 10).until(EC.presence_of_element_located((By.ID, \"username\")))\n",
    "\n",
    "email_elem = driver.find_element(By.ID, \"username\")\n",
    "email_elem.send_keys(email)\n",
    "\n",
    "password_elem = driver.find_element(By.ID, \"password\")\n",
    "password_elem.send_keys(password)\n",
    "password_elem.submit()\n",
    "\n",
    "driver.implicitly_wait(3)"
   ]
  },
  {
   "cell_type": "code",
   "execution_count": null,
   "id": "8b307031",
   "metadata": {},
   "outputs": [],
   "source": [
    "pages = range(25)\n",
    "links = []\n",
    "for page in pages:\n",
    "    url_search_by_people = f\"https://www.linkedin.com/search/results/people/?keywords=Data%20Scientist&origin=SWITCH_SEARCH_VERTICAL&page={page+15}\"\n",
    "    driver.get(url_search_by_people)\n",
    "    elems = driver.find_elements(By.CSS_SELECTOR, \".mb1 a.app-aware-link\")\n",
    "    for elem in elems:\n",
    "        link = elem.get_attribute('href').split(\"?\")[0]\n",
    "        if link != 'https://www.linkedin.com/search/results/people/headless':\n",
    "            links.append(link)\n"
   ]
  },
  {
   "cell_type": "code",
   "execution_count": null,
   "id": "0aad1a7a",
   "metadata": {
    "scrolled": true
   },
   "outputs": [],
   "source": [
    "print(links)"
   ]
  },
  {
   "cell_type": "code",
   "execution_count": null,
   "id": "64507968",
   "metadata": {
    "scrolled": true
   },
   "outputs": [],
   "source": [
    "from selenium.common.exceptions import NoSuchElementException\n",
    "import time\n",
    "import pandas as pd \n",
    "from selenium.webdriver.common.by import By\n",
    "\n",
    "#i try avoid list comprehension here, fearing it adds overhead\n",
    "candidates = []\n",
    "driver.implicitly_wait(2)\n",
    "for link in links:\n",
    "    print(f\"processing {link}\")\n",
    "    driver.get(link)\n",
    "    \n",
    "    elem_name = driver.find_element(By.CLASS_NAME, \"text-heading-xlarge\").text\n",
    "    elem_title = driver.find_element(By.CSS_SELECTOR, \"div.pv-text-details__left-panel > div.text-body-medium\").text\n",
    "    elem_loc = driver.find_element(By.CSS_SELECTOR, \"div.pv-text-details__left-panel > span.text-body-small\").text\n",
    "    \n",
    "    es_ = driver.find_elements(By.CSS_SELECTOR, \"section.artdeco-card.ember-view.relative.break-words\")\n",
    "    \n",
    "    time.sleep(1)    \n",
    "    ###Experience###\n",
    "    section_exp = []\n",
    "    for e_ in es_:\n",
    "        div_exps = e_.find_elements(By.CSS_SELECTOR, \"div#experience\")\n",
    "        if len(div_exps) > 0:\n",
    "            section_exp.append(e_)\n",
    "            break\n",
    "    \n",
    "    if len(section_exp) > 0:\n",
    "        elem_exp = section_exp[0]\n",
    "        elems_exp = elem_exp.find_elements(By.CSS_SELECTOR, \"div.pvs-list__outer-container div.display-flex.flex-column.full-width.align-self-center\")\n",
    "\n",
    "        exps = []\n",
    "        for elem_exp in elems_exp:\n",
    "            spans = elem_exp.find_elements(By.CSS_SELECTOR, \"span.t-14 > span\")\n",
    "            exp = [span.text for span in spans if span.get_attribute(\"aria-hidden\") is not None]\n",
    "            \n",
    "            title_spans = elem_exp.find_elements(By.CSS_SELECTOR, \"span.mr1 > span\")\n",
    "            titles = [span.text for span in title_spans if span.get_attribute(\"aria-hidden\") is not None]\n",
    "            exps.append({\"titles\":titles, \"exp\": exp})\n",
    "    ##################\n",
    "    \n",
    "    ###Education###\n",
    "    section_edu = []\n",
    "    for e_ in es_:\n",
    "        div_edus = e_.find_elements(By.CSS_SELECTOR, \"div#education\")\n",
    "        if len(div_edus) > 0:\n",
    "            section_edu.append(e_)\n",
    "            break\n",
    "    \n",
    "    if len(section_edu) > 0:\n",
    "        elem_edu = section_edu[0]\n",
    "        elems_edu = elem_edu.find_elements(By.CSS_SELECTOR, \"div.pvs-list__outer-container div.display-flex.flex-column.full-width.align-self-center\")\n",
    "\n",
    "        edus = []\n",
    "        for elem_edu in elems_edu:\n",
    "            spans = elem_edu.find_elements(By.CSS_SELECTOR, \"span.t-14 > span\")\n",
    "            edu = [span.text for span in spans if span.get_attribute(\"aria-hidden\") is not None]\n",
    "            edus.append(edu)\n",
    "            \n",
    "            \n",
    "    ###Skills###\n",
    "    skill_page_url = f\"{link}/details/skills\"\n",
    "    print(skill_page_url)\n",
    "    driver.get(skill_page_url)\n",
    "    time.sleep(2)    \n",
    "   \n",
    "    tt = driver.find_elements(By.CSS_SELECTOR, \"section.artdeco-card.ember-view\")\n",
    "    if len(tt) > 0:\n",
    "        span_skills = tt[0].find_elements(By.CSS_SELECTOR, \"div.display-flex.align-items-center span.mr1 > span\")\n",
    "        skills = list(set([span.text for span in span_skills if span.get_attribute(\"aria-hidden\") is not None]))\n",
    "        skills = [skill for skill in skills if skill]\n",
    "        \n",
    "    candidate = {\"link\": link, \"name\": elem_name, \"current_title\": elem_title, \"current_location\": elem_loc, \n",
    "                           \"exps\": exps, \"edus\": edus, \"skills\": skills}\n",
    "    \n",
    "    df = pd.DataFrame([candidate])\n",
    "    df.to_csv('full-all-2.csv', encoding=\"utf-16\", header=False, mode='a', index=False)\n",
    "    \n",
    "    candidates.append(candidate)\n",
    "    \n",
    "    \n",
    "print(f\"Done processing {len(candidates)} candidates ({count})\")"
   ]
  },
  {
   "cell_type": "code",
   "execution_count": null,
   "id": "34aa0c13",
   "metadata": {},
   "outputs": [],
   "source": [
    "#Debugging if necessary\n",
    "print(candidates)"
   ]
  }
 ],
 "metadata": {
  "kernelspec": {
   "display_name": "Python 3 (ipykernel)",
   "language": "python",
   "name": "python3"
  },
  "language_info": {
   "codemirror_mode": {
    "name": "ipython",
    "version": 3
   },
   "file_extension": ".py",
   "mimetype": "text/x-python",
   "name": "python",
   "nbconvert_exporter": "python",
   "pygments_lexer": "ipython3",
   "version": "3.9.12"
  }
 },
 "nbformat": 4,
 "nbformat_minor": 5
}
