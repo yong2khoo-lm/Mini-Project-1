{
 "cells": [
  {
   "cell_type": "code",
   "execution_count": 4,
   "id": "e8d76fa1",
   "metadata": {},
   "outputs": [
    {
     "name": "stdout",
     "output_type": "stream",
     "text": [
      "Collecting webdriver_manager\n",
      "  Downloading webdriver_manager-3.8.3-py2.py3-none-any.whl (26 kB)\n",
      "Requirement already satisfied: requests in g:\\anaconda3\\lib\\site-packages (from webdriver_manager) (2.27.1)\n",
      "Collecting python-dotenv\n",
      "  Downloading python_dotenv-0.20.0-py3-none-any.whl (17 kB)\n",
      "Requirement already satisfied: tqdm in g:\\anaconda3\\lib\\site-packages (from webdriver_manager) (4.64.0)\n",
      "Requirement already satisfied: certifi>=2017.4.17 in g:\\anaconda3\\lib\\site-packages (from requests->webdriver_manager) (2021.10.8)\n",
      "Requirement already satisfied: urllib3<1.27,>=1.21.1 in g:\\anaconda3\\lib\\site-packages (from requests->webdriver_manager) (1.26.9)\n",
      "Requirement already satisfied: charset-normalizer~=2.0.0 in g:\\anaconda3\\lib\\site-packages (from requests->webdriver_manager) (2.0.4)\n",
      "Requirement already satisfied: idna<4,>=2.5 in g:\\anaconda3\\lib\\site-packages (from requests->webdriver_manager) (3.3)\n",
      "Requirement already satisfied: colorama in g:\\anaconda3\\lib\\site-packages (from tqdm->webdriver_manager) (0.4.4)\n",
      "Installing collected packages: python-dotenv, webdriver-manager\n",
      "Successfully installed python-dotenv-0.20.0 webdriver-manager-3.8.3\n"
     ]
    }
   ],
   "source": [
    "!pip install webdriver_manager"
   ]
  },
  {
   "cell_type": "code",
   "execution_count": 7,
   "id": "d346dddb",
   "metadata": {},
   "outputs": [
    {
     "name": "stdout",
     "output_type": "stream",
     "text": [
      "Collecting selenium==4.2.0\n",
      "  Downloading selenium-4.2.0-py3-none-any.whl (983 kB)\n",
      "Requirement already satisfied: trio-websocket~=0.9 in c:\\users\\yong2\\appdata\\roaming\\python\\python39\\site-packages (from selenium==4.2.0) (0.9.2)\n",
      "Requirement already satisfied: urllib3[secure,socks]~=1.26 in g:\\anaconda3\\lib\\site-packages (from selenium==4.2.0) (1.26.9)\n",
      "Requirement already satisfied: trio~=0.17 in c:\\users\\yong2\\appdata\\roaming\\python\\python39\\site-packages (from selenium==4.2.0) (0.21.0)\n",
      "Requirement already satisfied: idna in g:\\anaconda3\\lib\\site-packages (from trio~=0.17->selenium==4.2.0) (3.3)\n",
      "Requirement already satisfied: outcome in c:\\users\\yong2\\appdata\\roaming\\python\\python39\\site-packages (from trio~=0.17->selenium==4.2.0) (1.2.0)\n",
      "Requirement already satisfied: sortedcontainers in g:\\anaconda3\\lib\\site-packages (from trio~=0.17->selenium==4.2.0) (2.4.0)\n",
      "Requirement already satisfied: attrs>=19.2.0 in g:\\anaconda3\\lib\\site-packages (from trio~=0.17->selenium==4.2.0) (21.4.0)\n",
      "Requirement already satisfied: sniffio in g:\\anaconda3\\lib\\site-packages (from trio~=0.17->selenium==4.2.0) (1.2.0)\n",
      "Requirement already satisfied: cffi>=1.14 in g:\\anaconda3\\lib\\site-packages (from trio~=0.17->selenium==4.2.0) (1.15.0)\n",
      "Requirement already satisfied: async-generator>=1.9 in c:\\users\\yong2\\appdata\\roaming\\python\\python39\\site-packages (from trio~=0.17->selenium==4.2.0) (1.10)\n",
      "Requirement already satisfied: pycparser in g:\\anaconda3\\lib\\site-packages (from cffi>=1.14->trio~=0.17->selenium==4.2.0) (2.21)\n",
      "Requirement already satisfied: wsproto>=0.14 in c:\\users\\yong2\\appdata\\roaming\\python\\python39\\site-packages (from trio-websocket~=0.9->selenium==4.2.0) (1.1.0)\n",
      "Requirement already satisfied: certifi in g:\\anaconda3\\lib\\site-packages (from urllib3[secure,socks]~=1.26->selenium==4.2.0) (2021.10.8)\n",
      "Requirement already satisfied: cryptography>=1.3.4 in g:\\anaconda3\\lib\\site-packages (from urllib3[secure,socks]~=1.26->selenium==4.2.0) (3.4.8)\n",
      "Requirement already satisfied: pyOpenSSL>=0.14 in g:\\anaconda3\\lib\\site-packages (from urllib3[secure,socks]~=1.26->selenium==4.2.0) (21.0.0)\n",
      "Requirement already satisfied: PySocks!=1.5.7,<2.0,>=1.5.6 in g:\\anaconda3\\lib\\site-packages (from urllib3[secure,socks]~=1.26->selenium==4.2.0) (1.7.1)\n",
      "Requirement already satisfied: six>=1.5.2 in g:\\anaconda3\\lib\\site-packages (from pyOpenSSL>=0.14->urllib3[secure,socks]~=1.26->selenium==4.2.0) (1.16.0)\n",
      "Requirement already satisfied: h11<1,>=0.9.0 in c:\\users\\yong2\\appdata\\roaming\\python\\python39\\site-packages (from wsproto>=0.14->trio-websocket~=0.9->selenium==4.2.0) (0.13.0)\n",
      "Installing collected packages: selenium\n",
      "  Attempting uninstall: selenium\n",
      "    Found existing installation: selenium 4.4.0\n",
      "    Uninstalling selenium-4.4.0:\n",
      "      Successfully uninstalled selenium-4.4.0\n",
      "Successfully installed selenium-4.2.0\n"
     ]
    }
   ],
   "source": [
    "!pip install selenium==4.2.0"
   ]
  },
  {
   "cell_type": "code",
   "execution_count": 24,
   "id": "e337b96e",
   "metadata": {
    "scrolled": true
   },
   "outputs": [
    {
     "name": "stderr",
     "output_type": "stream",
     "text": [
      "C:\\Users\\yong2\\AppData\\Local\\Temp\\ipykernel_28248\\304109516.py:18: DeprecationWarning: find_element_by_* commands are deprecated. Please use find_element() instead\n",
      "  email_elem = driver.find_element_by_id(\"username\")\n",
      "C:\\Users\\yong2\\AppData\\Local\\Temp\\ipykernel_28248\\304109516.py:21: DeprecationWarning: find_element_by_* commands are deprecated. Please use find_element() instead\n",
      "  password_elem = driver.find_element_by_id(\"password\")\n"
     ]
    }
   ],
   "source": [
    "from selenium import webdriver\n",
    "from webdriver_manager.chrome import ChromeDriverManager\n",
    "from selenium.webdriver.chrome.service import Service\n",
    "from selenium.webdriver.common.by import By\n",
    "from selenium.webdriver.common.keys import Keys\n",
    "from selenium.webdriver.support.ui import WebDriverWait\n",
    "from selenium.webdriver.support import expected_conditions as EC\n",
    "\n",
    "driver = webdriver.Chrome(service=Service(ChromeDriverManager().install()))\n",
    "\n",
    "email = \"\"\n",
    "password = \"\"\n",
    "driver.get(\"https://www.linkedin.com/login\")\n",
    "element = WebDriverWait(driver, 10).until(EC.presence_of_element_located((By.ID, \"username\")))\n",
    "\n",
    "email_elem = driver.find_element_by_id(\"username\")\n",
    "email_elem.send_keys(email)\n",
    "\n",
    "password_elem = driver.find_element_by_id(\"password\")\n",
    "password_elem.send_keys(password)\n",
    "password_elem.submit()\n",
    "\n",
    "driver.implicitly_wait(3)"
   ]
  },
  {
   "cell_type": "code",
   "execution_count": 2,
   "id": "8b307031",
   "metadata": {},
   "outputs": [
    {
     "name": "stderr",
     "output_type": "stream",
     "text": [
      "C:\\Users\\yong2\\AppData\\Local\\Temp\\ipykernel_28248\\1614278513.py:6: DeprecationWarning: find_elements_by_css_selector is deprecated. Please use find_elements(by=By.CSS_SELECTOR, value=css_selector) instead\n",
      "  elems = driver.find_elements_by_css_selector(\".mb1 a.app-aware-link\")\n"
     ]
    }
   ],
   "source": [
    "pages = range(25)\n",
    "links = []\n",
    "for page in pages:\n",
    "    url_search_by_people = f\"https://www.linkedin.com/search/results/people/?keywords=Data%20Scientist&origin=SWITCH_SEARCH_VERTICAL&page={page+15}\"\n",
    "    driver.get(url_search_by_people)\n",
    "    elems = driver.find_elements_by_css_selector(\".mb1 a.app-aware-link\")\n",
    "    for elem in elems:\n",
    "        link = elem.get_attribute('href').split(\"?\")[0]\n",
    "        if link != 'https://www.linkedin.com/search/results/people/headless':\n",
    "            links.append(link)\n"
   ]
  },
  {
   "cell_type": "code",
   "execution_count": 3,
   "id": "4fa0420c",
   "metadata": {},
   "outputs": [
    {
     "name": "stdout",
     "output_type": "stream",
     "text": [
      "['https://www.linkedin.com/in/razira-aniza-roslan-991b40145', 'https://www.linkedin.com/in/qabd88', 'https://www.linkedin.com/in/nurzahirah-mohd-muhiden-5b30851a8', 'https://www.linkedin.com/in/nikamalaiman', 'https://www.linkedin.com/in/wan-wahida-91b368209', 'https://www.linkedin.com/in/fakhrulammar', 'https://www.linkedin.com/in/eilyn-chong', 'https://www.linkedin.com/in/zulfiaftar-abd-jalil-878598174', 'https://www.linkedin.com/in/natashabuhary', 'https://www.linkedin.com/in/ainnur-farah-b49a7b191', 'https://www.linkedin.com/in/winsonyeap', 'https://www.linkedin.com/in/nrmzmh', 'https://www.linkedin.com/in/roobharajamohan', 'https://www.linkedin.com/in/noor-adilah-rashid', 'https://www.linkedin.com/in/zaraazam18', 'https://www.linkedin.com/in/miguel-prytoluk', 'https://www.linkedin.com/in/lee-yong-xian-47968a7b', 'https://www.linkedin.com/in/nurul-ashikin-samat-b23ba7134', 'https://www.linkedin.com/in/muhammad-hadi-mohd-zaki-b9407115b', 'https://www.linkedin.com/in/iylia-ezaty', 'https://www.linkedin.com/in/yik-siang-pang-55142920b', 'https://www.linkedin.com/in/basem-abdelwahab-117323233', 'https://www.linkedin.com/in/kong-you-liow-33078422b', 'https://www.linkedin.com/in/nurzawanah-zuhairah-014558213', 'https://www.linkedin.com/in/nkwaffa', 'https://www.linkedin.com/in/fatin-nadiah-mohd-razib-081609225', 'https://www.linkedin.com/in/junting-chen-20ab6137', 'https://www.linkedin.com/in/sepideh-mesbah-108b4121', 'https://www.linkedin.com/in/irfan-kadikoylu-45b761bb', 'https://www.linkedin.com/in/xuyuhe', 'https://www.linkedin.com/in/pooya-movahed-b897b981', 'https://www.linkedin.com/in/emmayaoxie', 'https://www.linkedin.com/in/xiaozhou-shen', 'https://www.linkedin.com/in/yacine-brini', 'https://www.linkedin.com/in/eddy-yeo-wai-kit', 'https://www.linkedin.com/in/yixuanliu717', 'https://www.linkedin.com/in/rahul-raman-0958209b', 'https://www.linkedin.com/in/tycatherine-jiang', 'https://www.linkedin.com/in/ravi-yadav', 'https://www.linkedin.com/in/gabriele-boncoraglio', 'https://www.linkedin.com/in/ikespand', 'https://www.linkedin.com/in/missmalvika', 'https://www.linkedin.com/in/shravan-sarma-devarakonda-4616445b', 'https://www.linkedin.com/in/alvinchiew', 'https://www.linkedin.com/in/yingtingloo', 'https://www.linkedin.com/in/fadhlirosli', 'https://www.linkedin.com/in/patilvc', 'https://www.linkedin.com/in/yeow-tk', 'https://www.linkedin.com/in/sunil-kafle', 'https://www.linkedin.com/in/parisgu', 'https://www.linkedin.com/in/nate-ehat', 'https://www.linkedin.com/in/benjamin-amaral', 'https://www.linkedin.com/in/faysalabdulaziz', 'https://www.linkedin.com/in/hari-kumar-n-3a4064119', 'https://www.linkedin.com/in/cicicemal', 'https://www.linkedin.com/in/denistanjingyu', 'https://www.linkedin.com/in/ahmad-alif-imran-77bb1a119', 'https://www.linkedin.com/in/azizarrashid', 'https://www.linkedin.com/in/woon-yen-pang-bba36815b', 'https://www.linkedin.com/in/ethan-jeremiah-chitty-88564416a', 'https://www.linkedin.com/in/dandanfeng', 'https://www.linkedin.com/in/yana-cheng-49969514', 'https://www.linkedin.com/in/choon-yan-teh-6852a015', 'https://www.linkedin.com/in/cheang-yee-mun-0b463a117', 'https://www.linkedin.com/in/sijingtoh', 'https://www.linkedin.com/in/sze-hui-wong-a55311118', 'https://www.linkedin.com/in/y-k-yuan-kai-tan-648b41129', 'https://www.linkedin.com/in/amir-aminuddin-azland-332385166', 'https://www.linkedin.com/in/nuur-fahima-husna-ghazali-21ba76a3', 'https://www.linkedin.com/in/weixinooi', 'https://www.linkedin.com/in/mjthou', 'https://www.linkedin.com/in/alvintanjianjia', 'https://www.linkedin.com/in/ashleythy', 'https://www.linkedin.com/in/abhishek-mahindrakar-csm%C2%AE-88b3641b', 'https://www.linkedin.com/in/izzudinhussein', 'https://www.linkedin.com/in/shafiqalias', 'https://www.linkedin.com/in/weihanler', 'https://www.linkedin.com/in/shareh-zulhelmi-496899159', 'https://www.linkedin.com/in/nicolenlchong', 'https://www.linkedin.com/in/wong-rui-yun-a1915a121', 'https://www.linkedin.com/in/ginnylu', 'https://www.linkedin.com/in/arif-amin-ahmad-puzi', 'https://www.linkedin.com/in/limyixiang', 'https://www.linkedin.com/in/ji-dian-yeoh-374ab855', 'https://www.linkedin.com/in/mohd-khairul-imran-a-kadir-46721264', 'https://www.linkedin.com/in/hasmirah-hassan', 'https://www.linkedin.com/in/farhankamaludin', 'https://www.linkedin.com/in/joshcx', 'https://www.linkedin.com/in/ernest-chiew', 'https://www.linkedin.com/in/osama-ali-ahmed', 'https://www.linkedin.com/in/kenyap95', 'https://www.linkedin.com/in/parvin-singh', 'https://www.linkedin.com/in/chi-jiang-edwin-loh-319209127', 'https://www.linkedin.com/in/elkhan-gahramanli', 'https://www.linkedin.com/in/fzdanial', 'https://www.linkedin.com/in/zohreh-madhoushi-a710b199', 'https://www.linkedin.com/in/ali-aryanfar', 'https://www.linkedin.com/in/daniel-samwel-amon-ochieng-otieno-ba28a813', 'https://www.linkedin.com/in/aqilahusnaamdan', 'https://www.linkedin.com/in/nfarahsyazwani', 'https://www.linkedin.com/in/kelvin-ng-han-yao-abb7a5145', 'https://www.linkedin.com/in/teo-yong-zheng-712183135', 'https://www.linkedin.com/in/alyariad', 'https://www.linkedin.com/in/muhammadfairuz', 'https://www.linkedin.com/in/mohamad-syafiq-75a11b108', 'https://www.linkedin.com/in/waijianlim', 'https://www.linkedin.com/in/scholarazwa', 'https://www.linkedin.com/in/teshwinagilan', 'https://www.linkedin.com/in/albert-pee-ka-zhen-9b343218b', 'https://www.linkedin.com/in/leong-siew-hua', 'https://www.linkedin.com/in/jiayonggan', 'https://www.linkedin.com/in/farha-rahman-644591117', 'https://www.linkedin.com/in/mei-pheng-tan-70a602130', 'https://www.linkedin.com/in/vicky-ali-48774129', 'https://www.linkedin.com/in/syahnizal', 'https://www.linkedin.com/in/seng-yui-tan-901530196', 'https://www.linkedin.com/in/haniff-hamdan-138908201', 'https://www.linkedin.com/in/sheh-jing-tan-807631107', 'https://www.linkedin.com/in/edmundhongkf', 'https://www.linkedin.com/in/muhammad-nurhakim-mohamed-bazet-917a65101', 'https://www.linkedin.com/in/nur-arisha-mohd-azhar', 'https://www.linkedin.com/in/azzubair-azeman-b96222142', 'https://www.linkedin.com/in/sook-fei-chia-b969a4160', 'https://www.linkedin.com/in/slyvia-tan', 'https://www.linkedin.com/in/taofiqbakarebeng', 'https://www.linkedin.com/in/izzahkhumaira', 'https://www.linkedin.com/in/ivan-gan-hong-oon', 'https://www.linkedin.com/in/max-yap', 'https://www.linkedin.com/in/gs-ts-dr-fauzy-che-yayah-20628426', 'https://www.linkedin.com/in/syaza-subhi-b81467147', 'https://www.linkedin.com/in/seemun-yum', 'https://www.linkedin.com/in/khairulnizam', 'https://www.linkedin.com/in/nikin-m-3a088a117', 'https://www.linkedin.com/in/ming-yoong-89238a183', 'https://www.linkedin.com/in/johncys', 'https://www.linkedin.com/in/glennchiajunweng', 'https://www.linkedin.com/in/bengsoon', 'https://www.linkedin.com/in/terence-toh-zhen-jian-10a922195', 'https://www.linkedin.com/in/kamarulhisham', 'https://www.linkedin.com/in/kehui-tee', 'https://www.linkedin.com/in/nabilaljohori', 'https://www.linkedin.com/in/rakesh-bahwandi-a28b15101', 'https://www.linkedin.com/in/wei-sheng-tan-597270187', 'https://www.linkedin.com/in/idzwein', 'https://www.linkedin.com/in/geraldin-divya-246236105', 'https://www.linkedin.com/in/cheang-hoi-him', 'https://www.linkedin.com/in/nur-nesa-nashuha-ismail-4368a710b', 'https://www.linkedin.com/in/hazirahindra', 'https://www.linkedin.com/in/kokbing96', 'https://www.linkedin.com/in/nuralyaanadhirah', 'https://www.linkedin.com/in/qurratu-aini-binti-musa-1a1941170', 'https://www.linkedin.com/in/fadzlifuzi', 'https://www.linkedin.com/in/andrew-rashid-day-53941214b', 'https://www.linkedin.com/in/narjes-khatoon-naseri-4590bbb8', 'https://www.linkedin.com/in/yasmin-zulaikha-84b05b206', 'https://www.linkedin.com/in/khoonkheng', 'https://www.linkedin.com/in/muhammedhaziq', 'https://www.linkedin.com/in/kaichyuan', 'https://www.linkedin.com/in/naimiskandar22', 'https://www.linkedin.com/in/sai-weng-ng-807740207', 'https://www.linkedin.com/in/lpshyuan', 'https://www.linkedin.com/in/sitisarahahmadsuhaimi', 'https://www.linkedin.com/in/cevest-y-a328985a', 'https://www.linkedin.com/in/yaqim-othman-74874a138', 'https://www.linkedin.com/in/sarah-hazwani-abdul-rahman-b0abb9108', 'https://www.linkedin.com/in/kian-huat-ng-58263678', 'https://www.linkedin.com/in/firdaus-khalid', 'https://www.linkedin.com/in/shaffilza', 'https://www.linkedin.com/in/paulo-dias-cia-827604', 'https://www.linkedin.com/in/amieruddin-zuki', 'https://www.linkedin.com/in/rebekahyg', 'https://www.linkedin.com/in/wei-lin-chin-6738b7171', 'https://www.linkedin.com/in/mashkur-billah-7b22441aa', 'https://www.linkedin.com/in/vigneshsubramanian25', 'https://www.linkedin.com/in/stephen-adedigba-990520227', 'https://www.linkedin.com/in/kong-jun-ng-375802225', 'https://www.linkedin.com/in/lai-kua-wa-ab4415216', 'https://www.linkedin.com/in/leong-khai-herng-2152a6212', 'https://www.linkedin.com/in/omar-sazali-68a235230', 'https://www.linkedin.com/in/yikherr', 'https://www.linkedin.com/in/azeemshah-amiruddin', 'https://www.linkedin.com/in/nachai-limsettho-ph-d-7609b8120', 'https://www.linkedin.com/in/vivek6449', 'https://www.linkedin.com/in/pierre-cayot-400734a4', 'https://www.linkedin.com/in/sriamirthan', 'https://www.linkedin.com/in/ofirmagdaci', 'https://www.linkedin.com/in/jannikwiessler', 'https://www.linkedin.com/in/evren-bayraktar-725151152', 'https://www.linkedin.com/in/ming-hao-teo-40b12256', 'https://www.linkedin.com/in/leilei-zhang-32728583', 'https://www.linkedin.com/in/elton-savio-a309a258', 'https://www.linkedin.com/in/tianyi-tim-zhang-38608435', 'https://www.linkedin.com/in/xiangli2533', 'https://www.linkedin.com/in/guangtingzhou', 'https://www.linkedin.com/in/williamardianto', 'https://www.linkedin.com/in/bayan-saparbayeva', 'https://www.linkedin.com/in/yi-lu-nyu', 'https://www.linkedin.com/in/krishnendu-chakraborty-iitd', 'https://www.linkedin.com/in/pranay-kale-11ba6a30', 'https://www.linkedin.com/in/han-zhu-derekchu', 'https://www.linkedin.com/in/bartosz-g%C3%B3recki-83a5a892', 'https://www.linkedin.com/in/shan-sung-liew', 'https://www.linkedin.com/in/siti-nadiyah-kader-0448076b', 'https://www.linkedin.com/in/jingwei-too-1b62b41b0', 'https://www.linkedin.com/in/ankethm', 'https://www.linkedin.com/in/humairah-yahya-80496a1b2', 'https://www.linkedin.com/in/muaz-rahim', 'https://www.linkedin.com/in/ritesh-mohan-srivastava-15852465', 'https://www.linkedin.com/in/nuryusra-arafah-bt-md-isa-yusuff-b0190a207', 'https://www.linkedin.com/in/ahmed-yahia-trad-7bb1b793', 'https://www.linkedin.com/in/divyanshu-vyas', 'https://www.linkedin.com/in/tbergasse', 'https://www.linkedin.com/in/bruno-chagas', 'https://www.linkedin.com/in/vamshi-gorantla', 'https://www.linkedin.com/in/sachinsanand', 'https://www.linkedin.com/in/alexandre-felix-16288a34', 'https://www.linkedin.com/in/xiaoguai-li-2b88236b', 'https://www.linkedin.com/in/mohd-faidzal-mat-lazin-10b731128', 'https://www.linkedin.com/in/jie-yuan-frm-caia-03501a127', 'https://www.linkedin.com/in/yangfan255', 'https://www.linkedin.com/in/alex-wei-zeng-low-phd-4309aa142', 'https://www.linkedin.com/in/xun-guo-w-5b5b81155', 'https://www.linkedin.com/in/raj-saraiya-408061103', 'https://www.linkedin.com/in/shuhaili-safee-45500678', 'https://www.linkedin.com/in/syed-faris-akmal-syed-zulkhieree', 'https://www.linkedin.com/in/khairiraimi', 'https://www.linkedin.com/in/naelahnordin', 'https://www.linkedin.com/in/kharshin', 'https://www.linkedin.com/in/charles-cmu']\n"
     ]
    }
   ],
   "source": [
    "print(links)"
   ]
  },
  {
   "cell_type": "code",
   "execution_count": 87,
   "id": "f7efe0f3",
   "metadata": {},
   "outputs": [],
   "source": [
    "links = ['https://www.linkedin.com/in/mohd-khairul-imran-a-kadir-46721264', 'https://www.linkedin.com/in/ahmadzuhair', 'https://www.linkedin.com/in/jia-chun-tan-8b73051a0', 'https://www.linkedin.com/in/yingtingloo', 'https://www.linkedin.com/in/tanpeiseng', 'https://www.linkedin.com/in/kesava-a-88272789', 'https://www.linkedin.com/in/seantanrh', 'https://www.linkedin.com/in/william-yap', 'https://www.linkedin.com/in/ann-nee-wong', 'https://www.linkedin.com/in/tan-kai-4975a11a9', 'https://www.linkedin.com/in/santosh-kumar-79a447b2', 'https://www.linkedin.com/in/kishor-magar-57a98023', 'https://www.linkedin.com/in/chanzhenyu', 'https://www.linkedin.com/in/muhammad-aqhari-nasrin-bin-ramli', 'https://www.linkedin.com/in/khawslee', 'https://www.linkedin.com/in/wei-sheng-tan-597270187', 'https://www.linkedin.com/in/rebekahyg', 'https://www.linkedin.com/in/limzhongheng', 'https://www.linkedin.com/in/sitisarahzab', 'https://www.linkedin.com/in/cody-c-a37b8918a', 'https://www.linkedin.com/in/weixinooi', 'https://www.linkedin.com/in/nicolenlchong', 'https://www.linkedin.com/in/fatin-amani-mohd-ali-87b614190', 'https://www.linkedin.com/in/faris-omar-b27a56144', 'https://www.linkedin.com/in/sze-yann-tham-796515190', 'https://www.linkedin.com/in/muhammad-anas-husnan-55a482b1', 'https://www.linkedin.com/in/jasbir-singh-32a83920', 'https://www.linkedin.com/in/li-vern-tan', 'https://www.linkedin.com/in/yx-00168', 'https://www.linkedin.com/in/kexin-lee-222374122', 'https://www.linkedin.com/in/daniel-yusoff-a40a4b166', 'https://www.linkedin.com/in/thkhaw', 'https://www.linkedin.com/in/ngkeanchew', 'https://www.linkedin.com/in/meng-kuan-lee-1089', 'https://www.linkedin.com/in/chiqin-lai-phd-4568a2119', 'https://www.linkedin.com/in/isaac-tan-how-ann-98147918a', 'https://www.linkedin.com/in/jing-yi-ong-mango1105', 'https://www.linkedin.com/in/vishal-singh-27a37838', 'https://www.linkedin.com/in/hariharan-muniandy-88a84817a', 'https://www.linkedin.com/in/muhamad-haris-idris-463bb6114', 'https://www.linkedin.com/in/philip-khor', 'https://www.linkedin.com/in/hui-theng-chew-leong-17119a193', 'https://www.linkedin.com/in/chungmeng', 'https://www.linkedin.com/in/thevesh', 'https://www.linkedin.com/in/abubakar-bala', 'https://www.linkedin.com/in/m%C3%A5rten-bj%C3%B6rketun-12505536', 'https://www.linkedin.com/in/bh-tan', 'https://www.linkedin.com/in/aqilahrose']"
   ]
  },
  {
   "cell_type": "code",
   "execution_count": 4,
   "id": "feafc91a",
   "metadata": {},
   "outputs": [
    {
     "name": "stdout",
     "output_type": "stream",
     "text": [
      "229\n"
     ]
    }
   ],
   "source": [
    "links_15_40 = ['https://www.linkedin.com/in/razira-aniza-roslan-991b40145', 'https://www.linkedin.com/in/qabd88', 'https://www.linkedin.com/in/nurzahirah-mohd-muhiden-5b30851a8', 'https://www.linkedin.com/in/nikamalaiman', 'https://www.linkedin.com/in/wan-wahida-91b368209', 'https://www.linkedin.com/in/fakhrulammar', 'https://www.linkedin.com/in/eilyn-chong', 'https://www.linkedin.com/in/zulfiaftar-abd-jalil-878598174', 'https://www.linkedin.com/in/natashabuhary', 'https://www.linkedin.com/in/ainnur-farah-b49a7b191', 'https://www.linkedin.com/in/winsonyeap', 'https://www.linkedin.com/in/nrmzmh', 'https://www.linkedin.com/in/roobharajamohan', 'https://www.linkedin.com/in/noor-adilah-rashid', 'https://www.linkedin.com/in/zaraazam18', 'https://www.linkedin.com/in/miguel-prytoluk', 'https://www.linkedin.com/in/lee-yong-xian-47968a7b', 'https://www.linkedin.com/in/nurul-ashikin-samat-b23ba7134', 'https://www.linkedin.com/in/muhammad-hadi-mohd-zaki-b9407115b', 'https://www.linkedin.com/in/iylia-ezaty', 'https://www.linkedin.com/in/yik-siang-pang-55142920b', 'https://www.linkedin.com/in/basem-abdelwahab-117323233', 'https://www.linkedin.com/in/kong-you-liow-33078422b', 'https://www.linkedin.com/in/nurzawanah-zuhairah-014558213', 'https://www.linkedin.com/in/nkwaffa', 'https://www.linkedin.com/in/fatin-nadiah-mohd-razib-081609225', 'https://www.linkedin.com/in/junting-chen-20ab6137', 'https://www.linkedin.com/in/sepideh-mesbah-108b4121', 'https://www.linkedin.com/in/irfan-kadikoylu-45b761bb', 'https://www.linkedin.com/in/xuyuhe', 'https://www.linkedin.com/in/pooya-movahed-b897b981', 'https://www.linkedin.com/in/emmayaoxie', 'https://www.linkedin.com/in/xiaozhou-shen', 'https://www.linkedin.com/in/yacine-brini', 'https://www.linkedin.com/in/eddy-yeo-wai-kit', 'https://www.linkedin.com/in/yixuanliu717', 'https://www.linkedin.com/in/rahul-raman-0958209b', 'https://www.linkedin.com/in/tycatherine-jiang', 'https://www.linkedin.com/in/ravi-yadav', 'https://www.linkedin.com/in/gabriele-boncoraglio', 'https://www.linkedin.com/in/ikespand', 'https://www.linkedin.com/in/missmalvika', 'https://www.linkedin.com/in/shravan-sarma-devarakonda-4616445b', 'https://www.linkedin.com/in/alvinchiew', 'https://www.linkedin.com/in/yingtingloo', 'https://www.linkedin.com/in/fadhlirosli', 'https://www.linkedin.com/in/patilvc', 'https://www.linkedin.com/in/yeow-tk', 'https://www.linkedin.com/in/sunil-kafle', 'https://www.linkedin.com/in/parisgu', 'https://www.linkedin.com/in/nate-ehat', 'https://www.linkedin.com/in/benjamin-amaral', 'https://www.linkedin.com/in/faysalabdulaziz', 'https://www.linkedin.com/in/hari-kumar-n-3a4064119', 'https://www.linkedin.com/in/cicicemal', 'https://www.linkedin.com/in/denistanjingyu', 'https://www.linkedin.com/in/ahmad-alif-imran-77bb1a119', 'https://www.linkedin.com/in/azizarrashid', 'https://www.linkedin.com/in/woon-yen-pang-bba36815b', 'https://www.linkedin.com/in/ethan-jeremiah-chitty-88564416a', 'https://www.linkedin.com/in/dandanfeng', 'https://www.linkedin.com/in/yana-cheng-49969514', 'https://www.linkedin.com/in/choon-yan-teh-6852a015', 'https://www.linkedin.com/in/cheang-yee-mun-0b463a117', 'https://www.linkedin.com/in/sijingtoh', 'https://www.linkedin.com/in/sze-hui-wong-a55311118', 'https://www.linkedin.com/in/y-k-yuan-kai-tan-648b41129', 'https://www.linkedin.com/in/amir-aminuddin-azland-332385166', 'https://www.linkedin.com/in/nuur-fahima-husna-ghazali-21ba76a3', 'https://www.linkedin.com/in/weixinooi', 'https://www.linkedin.com/in/mjthou', 'https://www.linkedin.com/in/alvintanjianjia', 'https://www.linkedin.com/in/ashleythy', 'https://www.linkedin.com/in/abhishek-mahindrakar-csm%C2%AE-88b3641b', 'https://www.linkedin.com/in/izzudinhussein', 'https://www.linkedin.com/in/shafiqalias', 'https://www.linkedin.com/in/weihanler', 'https://www.linkedin.com/in/shareh-zulhelmi-496899159', 'https://www.linkedin.com/in/nicolenlchong', 'https://www.linkedin.com/in/wong-rui-yun-a1915a121', 'https://www.linkedin.com/in/ginnylu', 'https://www.linkedin.com/in/arif-amin-ahmad-puzi', 'https://www.linkedin.com/in/limyixiang', 'https://www.linkedin.com/in/ji-dian-yeoh-374ab855', 'https://www.linkedin.com/in/mohd-khairul-imran-a-kadir-46721264', 'https://www.linkedin.com/in/hasmirah-hassan', 'https://www.linkedin.com/in/farhankamaludin', 'https://www.linkedin.com/in/joshcx', 'https://www.linkedin.com/in/ernest-chiew', 'https://www.linkedin.com/in/osama-ali-ahmed', 'https://www.linkedin.com/in/kenyap95', 'https://www.linkedin.com/in/parvin-singh', 'https://www.linkedin.com/in/chi-jiang-edwin-loh-319209127', 'https://www.linkedin.com/in/elkhan-gahramanli', 'https://www.linkedin.com/in/fzdanial', 'https://www.linkedin.com/in/zohreh-madhoushi-a710b199', 'https://www.linkedin.com/in/ali-aryanfar', 'https://www.linkedin.com/in/daniel-samwel-amon-ochieng-otieno-ba28a813', 'https://www.linkedin.com/in/aqilahusnaamdan', 'https://www.linkedin.com/in/nfarahsyazwani', 'https://www.linkedin.com/in/kelvin-ng-han-yao-abb7a5145', 'https://www.linkedin.com/in/teo-yong-zheng-712183135', 'https://www.linkedin.com/in/alyariad', 'https://www.linkedin.com/in/muhammadfairuz', 'https://www.linkedin.com/in/mohamad-syafiq-75a11b108', 'https://www.linkedin.com/in/waijianlim', 'https://www.linkedin.com/in/scholarazwa', 'https://www.linkedin.com/in/teshwinagilan', 'https://www.linkedin.com/in/albert-pee-ka-zhen-9b343218b', 'https://www.linkedin.com/in/leong-siew-hua', 'https://www.linkedin.com/in/jiayonggan', 'https://www.linkedin.com/in/farha-rahman-644591117', 'https://www.linkedin.com/in/mei-pheng-tan-70a602130', 'https://www.linkedin.com/in/vicky-ali-48774129', 'https://www.linkedin.com/in/syahnizal', 'https://www.linkedin.com/in/seng-yui-tan-901530196', 'https://www.linkedin.com/in/haniff-hamdan-138908201', 'https://www.linkedin.com/in/sheh-jing-tan-807631107', 'https://www.linkedin.com/in/edmundhongkf', 'https://www.linkedin.com/in/muhammad-nurhakim-mohamed-bazet-917a65101', 'https://www.linkedin.com/in/nur-arisha-mohd-azhar', 'https://www.linkedin.com/in/azzubair-azeman-b96222142', 'https://www.linkedin.com/in/sook-fei-chia-b969a4160', 'https://www.linkedin.com/in/slyvia-tan', 'https://www.linkedin.com/in/taofiqbakarebeng', 'https://www.linkedin.com/in/izzahkhumaira', 'https://www.linkedin.com/in/ivan-gan-hong-oon', 'https://www.linkedin.com/in/max-yap', 'https://www.linkedin.com/in/gs-ts-dr-fauzy-che-yayah-20628426', 'https://www.linkedin.com/in/syaza-subhi-b81467147', 'https://www.linkedin.com/in/seemun-yum', 'https://www.linkedin.com/in/khairulnizam', 'https://www.linkedin.com/in/nikin-m-3a088a117', 'https://www.linkedin.com/in/ming-yoong-89238a183', 'https://www.linkedin.com/in/johncys', 'https://www.linkedin.com/in/glennchiajunweng', 'https://www.linkedin.com/in/bengsoon', 'https://www.linkedin.com/in/terence-toh-zhen-jian-10a922195', 'https://www.linkedin.com/in/kamarulhisham', 'https://www.linkedin.com/in/kehui-tee', 'https://www.linkedin.com/in/nabilaljohori', 'https://www.linkedin.com/in/rakesh-bahwandi-a28b15101', 'https://www.linkedin.com/in/wei-sheng-tan-597270187', 'https://www.linkedin.com/in/idzwein', 'https://www.linkedin.com/in/geraldin-divya-246236105', 'https://www.linkedin.com/in/cheang-hoi-him', 'https://www.linkedin.com/in/nur-nesa-nashuha-ismail-4368a710b', 'https://www.linkedin.com/in/hazirahindra', 'https://www.linkedin.com/in/kokbing96', 'https://www.linkedin.com/in/nuralyaanadhirah', 'https://www.linkedin.com/in/qurratu-aini-binti-musa-1a1941170', 'https://www.linkedin.com/in/fadzlifuzi', 'https://www.linkedin.com/in/andrew-rashid-day-53941214b', 'https://www.linkedin.com/in/narjes-khatoon-naseri-4590bbb8', 'https://www.linkedin.com/in/yasmin-zulaikha-84b05b206', 'https://www.linkedin.com/in/khoonkheng', 'https://www.linkedin.com/in/muhammedhaziq', 'https://www.linkedin.com/in/kaichyuan', 'https://www.linkedin.com/in/naimiskandar22', 'https://www.linkedin.com/in/sai-weng-ng-807740207', 'https://www.linkedin.com/in/lpshyuan', 'https://www.linkedin.com/in/sitisarahahmadsuhaimi', 'https://www.linkedin.com/in/cevest-y-a328985a', 'https://www.linkedin.com/in/yaqim-othman-74874a138', 'https://www.linkedin.com/in/sarah-hazwani-abdul-rahman-b0abb9108', 'https://www.linkedin.com/in/kian-huat-ng-58263678', 'https://www.linkedin.com/in/firdaus-khalid', 'https://www.linkedin.com/in/shaffilza', 'https://www.linkedin.com/in/paulo-dias-cia-827604', 'https://www.linkedin.com/in/amieruddin-zuki', 'https://www.linkedin.com/in/rebekahyg', 'https://www.linkedin.com/in/wei-lin-chin-6738b7171', 'https://www.linkedin.com/in/mashkur-billah-7b22441aa', 'https://www.linkedin.com/in/vigneshsubramanian25', 'https://www.linkedin.com/in/stephen-adedigba-990520227', 'https://www.linkedin.com/in/kong-jun-ng-375802225', 'https://www.linkedin.com/in/lai-kua-wa-ab4415216', 'https://www.linkedin.com/in/leong-khai-herng-2152a6212', 'https://www.linkedin.com/in/omar-sazali-68a235230', 'https://www.linkedin.com/in/yikherr', 'https://www.linkedin.com/in/azeemshah-amiruddin', 'https://www.linkedin.com/in/nachai-limsettho-ph-d-7609b8120', 'https://www.linkedin.com/in/vivek6449', 'https://www.linkedin.com/in/pierre-cayot-400734a4', 'https://www.linkedin.com/in/sriamirthan', 'https://www.linkedin.com/in/ofirmagdaci', 'https://www.linkedin.com/in/jannikwiessler', 'https://www.linkedin.com/in/evren-bayraktar-725151152', 'https://www.linkedin.com/in/ming-hao-teo-40b12256', 'https://www.linkedin.com/in/leilei-zhang-32728583', 'https://www.linkedin.com/in/elton-savio-a309a258', 'https://www.linkedin.com/in/tianyi-tim-zhang-38608435', 'https://www.linkedin.com/in/xiangli2533', 'https://www.linkedin.com/in/guangtingzhou', 'https://www.linkedin.com/in/williamardianto', 'https://www.linkedin.com/in/bayan-saparbayeva', 'https://www.linkedin.com/in/yi-lu-nyu', 'https://www.linkedin.com/in/krishnendu-chakraborty-iitd', 'https://www.linkedin.com/in/pranay-kale-11ba6a30', 'https://www.linkedin.com/in/han-zhu-derekchu', 'https://www.linkedin.com/in/shan-sung-liew', 'https://www.linkedin.com/in/siti-nadiyah-kader-0448076b', 'https://www.linkedin.com/in/jingwei-too-1b62b41b0', 'https://www.linkedin.com/in/ankethm', 'https://www.linkedin.com/in/humairah-yahya-80496a1b2', 'https://www.linkedin.com/in/muaz-rahim', 'https://www.linkedin.com/in/ritesh-mohan-srivastava-15852465', 'https://www.linkedin.com/in/nuryusra-arafah-bt-md-isa-yusuff-b0190a207', 'https://www.linkedin.com/in/ahmed-yahia-trad-7bb1b793', 'https://www.linkedin.com/in/divyanshu-vyas', 'https://www.linkedin.com/in/tbergasse', 'https://www.linkedin.com/in/bruno-chagas', 'https://www.linkedin.com/in/vamshi-gorantla', 'https://www.linkedin.com/in/sachinsanand', 'https://www.linkedin.com/in/alexandre-felix-16288a34', 'https://www.linkedin.com/in/xiaoguai-li-2b88236b', 'https://www.linkedin.com/in/mohd-faidzal-mat-lazin-10b731128', 'https://www.linkedin.com/in/jie-yuan-frm-caia-03501a127', 'https://www.linkedin.com/in/yangfan255', 'https://www.linkedin.com/in/alex-wei-zeng-low-phd-4309aa142', 'https://www.linkedin.com/in/xun-guo-w-5b5b81155', 'https://www.linkedin.com/in/raj-saraiya-408061103', 'https://www.linkedin.com/in/shuhaili-safee-45500678', 'https://www.linkedin.com/in/syed-faris-akmal-syed-zulkhieree', 'https://www.linkedin.com/in/khairiraimi', 'https://www.linkedin.com/in/naelahnordin', 'https://www.linkedin.com/in/kharshin', 'https://www.linkedin.com/in/charles-cmu']\n",
    "print(len(links_15_40))"
   ]
  },
  {
   "cell_type": "code",
   "execution_count": 25,
   "id": "8bd9a4b7",
   "metadata": {},
   "outputs": [],
   "source": [
    "links = ['https://www.linkedin.com/in/razira-aniza-roslan-991b40145', 'https://www.linkedin.com/in/qabd88', 'https://www.linkedin.com/in/nurzahirah-mohd-muhiden-5b30851a8', 'https://www.linkedin.com/in/nikamalaiman', 'https://www.linkedin.com/in/wan-wahida-91b368209', 'https://www.linkedin.com/in/fakhrulammar', 'https://www.linkedin.com/in/eilyn-chong', 'https://www.linkedin.com/in/zulfiaftar-abd-jalil-878598174', 'https://www.linkedin.com/in/natashabuhary', 'https://www.linkedin.com/in/ainnur-farah-b49a7b191', 'https://www.linkedin.com/in/winsonyeap', 'https://www.linkedin.com/in/nrmzmh', 'https://www.linkedin.com/in/roobharajamohan', 'https://www.linkedin.com/in/noor-adilah-rashid', 'https://www.linkedin.com/in/zaraazam18', 'https://www.linkedin.com/in/miguel-prytoluk', 'https://www.linkedin.com/in/lee-yong-xian-47968a7b', 'https://www.linkedin.com/in/nurul-ashikin-samat-b23ba7134', 'https://www.linkedin.com/in/muhammad-hadi-mohd-zaki-b9407115b', 'https://www.linkedin.com/in/iylia-ezaty', 'https://www.linkedin.com/in/yik-siang-pang-55142920b', 'https://www.linkedin.com/in/basem-abdelwahab-117323233', 'https://www.linkedin.com/in/kong-you-liow-33078422b', 'https://www.linkedin.com/in/nurzawanah-zuhairah-014558213', 'https://www.linkedin.com/in/nkwaffa', 'https://www.linkedin.com/in/fatin-nadiah-mohd-razib-081609225', 'https://www.linkedin.com/in/junting-chen-20ab6137', 'https://www.linkedin.com/in/sepideh-mesbah-108b4121', 'https://www.linkedin.com/in/irfan-kadikoylu-45b761bb', 'https://www.linkedin.com/in/xuyuhe', 'https://www.linkedin.com/in/pooya-movahed-b897b981', 'https://www.linkedin.com/in/emmayaoxie', 'https://www.linkedin.com/in/xiaozhou-shen', 'https://www.linkedin.com/in/yacine-brini', 'https://www.linkedin.com/in/eddy-yeo-wai-kit', 'https://www.linkedin.com/in/yixuanliu717', 'https://www.linkedin.com/in/rahul-raman-0958209b', 'https://www.linkedin.com/in/tycatherine-jiang', 'https://www.linkedin.com/in/ravi-yadav', 'https://www.linkedin.com/in/gabriele-boncoraglio', 'https://www.linkedin.com/in/ikespand', 'https://www.linkedin.com/in/missmalvika', 'https://www.linkedin.com/in/shravan-sarma-devarakonda-4616445b', 'https://www.linkedin.com/in/alvinchiew', 'https://www.linkedin.com/in/yingtingloo', 'https://www.linkedin.com/in/fadhlirosli', 'https://www.linkedin.com/in/patilvc', 'https://www.linkedin.com/in/yeow-tk', 'https://www.linkedin.com/in/sunil-kafle', 'https://www.linkedin.com/in/parisgu', 'https://www.linkedin.com/in/nate-ehat', 'https://www.linkedin.com/in/benjamin-amaral', 'https://www.linkedin.com/in/faysalabdulaziz', 'https://www.linkedin.com/in/hari-kumar-n-3a4064119', 'https://www.linkedin.com/in/cicicemal', 'https://www.linkedin.com/in/denistanjingyu', 'https://www.linkedin.com/in/ahmad-alif-imran-77bb1a119', 'https://www.linkedin.com/in/azizarrashid', 'https://www.linkedin.com/in/woon-yen-pang-bba36815b', 'https://www.linkedin.com/in/ethan-jeremiah-chitty-88564416a', 'https://www.linkedin.com/in/dandanfeng', 'https://www.linkedin.com/in/yana-cheng-49969514', 'https://www.linkedin.com/in/choon-yan-teh-6852a015', 'https://www.linkedin.com/in/cheang-yee-mun-0b463a117', 'https://www.linkedin.com/in/sijingtoh', 'https://www.linkedin.com/in/sze-hui-wong-a55311118', 'https://www.linkedin.com/in/y-k-yuan-kai-tan-648b41129', 'https://www.linkedin.com/in/amir-aminuddin-azland-332385166', 'https://www.linkedin.com/in/nuur-fahima-husna-ghazali-21ba76a3', 'https://www.linkedin.com/in/weixinooi', 'https://www.linkedin.com/in/mjthou', 'https://www.linkedin.com/in/alvintanjianjia', 'https://www.linkedin.com/in/ashleythy', 'https://www.linkedin.com/in/abhishek-mahindrakar-csm%C2%AE-88b3641b', 'https://www.linkedin.com/in/izzudinhussein', 'https://www.linkedin.com/in/shafiqalias', 'https://www.linkedin.com/in/weihanler', 'https://www.linkedin.com/in/shareh-zulhelmi-496899159', 'https://www.linkedin.com/in/nicolenlchong', 'https://www.linkedin.com/in/wong-rui-yun-a1915a121', 'https://www.linkedin.com/in/ginnylu', 'https://www.linkedin.com/in/arif-amin-ahmad-puzi', 'https://www.linkedin.com/in/limyixiang', 'https://www.linkedin.com/in/ji-dian-yeoh-374ab855', 'https://www.linkedin.com/in/mohd-khairul-imran-a-kadir-46721264', 'https://www.linkedin.com/in/hasmirah-hassan', 'https://www.linkedin.com/in/farhankamaludin', 'https://www.linkedin.com/in/joshcx', 'https://www.linkedin.com/in/ernest-chiew', 'https://www.linkedin.com/in/osama-ali-ahmed', 'https://www.linkedin.com/in/kenyap95', 'https://www.linkedin.com/in/parvin-singh', 'https://www.linkedin.com/in/chi-jiang-edwin-loh-319209127', 'https://www.linkedin.com/in/elkhan-gahramanli', 'https://www.linkedin.com/in/fzdanial', 'https://www.linkedin.com/in/zohreh-madhoushi-a710b199', 'https://www.linkedin.com/in/ali-aryanfar', 'https://www.linkedin.com/in/daniel-samwel-amon-ochieng-otieno-ba28a813', 'https://www.linkedin.com/in/aqilahusnaamdan', 'https://www.linkedin.com/in/nfarahsyazwani', 'https://www.linkedin.com/in/kelvin-ng-han-yao-abb7a5145', 'https://www.linkedin.com/in/teo-yong-zheng-712183135', 'https://www.linkedin.com/in/alyariad', 'https://www.linkedin.com/in/muhammadfairuz', 'https://www.linkedin.com/in/mohamad-syafiq-75a11b108', 'https://www.linkedin.com/in/waijianlim', 'https://www.linkedin.com/in/scholarazwa', 'https://www.linkedin.com/in/teshwinagilan', 'https://www.linkedin.com/in/albert-pee-ka-zhen-9b343218b', 'https://www.linkedin.com/in/leong-siew-hua', 'https://www.linkedin.com/in/jiayonggan', 'https://www.linkedin.com/in/farha-rahman-644591117', 'https://www.linkedin.com/in/mei-pheng-tan-70a602130', 'https://www.linkedin.com/in/vicky-ali-48774129', 'https://www.linkedin.com/in/syahnizal', 'https://www.linkedin.com/in/seng-yui-tan-901530196', 'https://www.linkedin.com/in/haniff-hamdan-138908201', 'https://www.linkedin.com/in/sheh-jing-tan-807631107', 'https://www.linkedin.com/in/edmundhongkf', 'https://www.linkedin.com/in/muhammad-nurhakim-mohamed-bazet-917a65101', 'https://www.linkedin.com/in/nur-arisha-mohd-azhar', 'https://www.linkedin.com/in/azzubair-azeman-b96222142', 'https://www.linkedin.com/in/sook-fei-chia-b969a4160', 'https://www.linkedin.com/in/slyvia-tan', 'https://www.linkedin.com/in/taofiqbakarebeng', 'https://www.linkedin.com/in/izzahkhumaira', 'https://www.linkedin.com/in/ivan-gan-hong-oon', 'https://www.linkedin.com/in/max-yap', 'https://www.linkedin.com/in/gs-ts-dr-fauzy-che-yayah-20628426', 'https://www.linkedin.com/in/syaza-subhi-b81467147', 'https://www.linkedin.com/in/seemun-yum', 'https://www.linkedin.com/in/khairulnizam', 'https://www.linkedin.com/in/nikin-m-3a088a117', 'https://www.linkedin.com/in/ming-yoong-89238a183', 'https://www.linkedin.com/in/johncys', 'https://www.linkedin.com/in/glennchiajunweng', 'https://www.linkedin.com/in/bengsoon', 'https://www.linkedin.com/in/terence-toh-zhen-jian-10a922195', 'https://www.linkedin.com/in/kamarulhisham', 'https://www.linkedin.com/in/kehui-tee', 'https://www.linkedin.com/in/nabilaljohori', 'https://www.linkedin.com/in/rakesh-bahwandi-a28b15101', 'https://www.linkedin.com/in/wei-sheng-tan-597270187', 'https://www.linkedin.com/in/idzwein', 'https://www.linkedin.com/in/geraldin-divya-246236105', 'https://www.linkedin.com/in/cheang-hoi-him', 'https://www.linkedin.com/in/nur-nesa-nashuha-ismail-4368a710b', 'https://www.linkedin.com/in/hazirahindra', 'https://www.linkedin.com/in/kokbing96', 'https://www.linkedin.com/in/nuralyaanadhirah', 'https://www.linkedin.com/in/qurratu-aini-binti-musa-1a1941170', 'https://www.linkedin.com/in/fadzlifuzi', 'https://www.linkedin.com/in/andrew-rashid-day-53941214b', 'https://www.linkedin.com/in/narjes-khatoon-naseri-4590bbb8', 'https://www.linkedin.com/in/yasmin-zulaikha-84b05b206', 'https://www.linkedin.com/in/khoonkheng', 'https://www.linkedin.com/in/muhammedhaziq', 'https://www.linkedin.com/in/kaichyuan', 'https://www.linkedin.com/in/naimiskandar22', 'https://www.linkedin.com/in/sai-weng-ng-807740207', 'https://www.linkedin.com/in/lpshyuan', 'https://www.linkedin.com/in/sitisarahahmadsuhaimi', 'https://www.linkedin.com/in/cevest-y-a328985a', 'https://www.linkedin.com/in/yaqim-othman-74874a138', 'https://www.linkedin.com/in/sarah-hazwani-abdul-rahman-b0abb9108', 'https://www.linkedin.com/in/kian-huat-ng-58263678', 'https://www.linkedin.com/in/firdaus-khalid', 'https://www.linkedin.com/in/shaffilza', 'https://www.linkedin.com/in/paulo-dias-cia-827604', 'https://www.linkedin.com/in/amieruddin-zuki', 'https://www.linkedin.com/in/rebekahyg', 'https://www.linkedin.com/in/wei-lin-chin-6738b7171', 'https://www.linkedin.com/in/mashkur-billah-7b22441aa', 'https://www.linkedin.com/in/vigneshsubramanian25', 'https://www.linkedin.com/in/stephen-adedigba-990520227', 'https://www.linkedin.com/in/kong-jun-ng-375802225', 'https://www.linkedin.com/in/lai-kua-wa-ab4415216', 'https://www.linkedin.com/in/leong-khai-herng-2152a6212', 'https://www.linkedin.com/in/omar-sazali-68a235230', 'https://www.linkedin.com/in/yikherr', 'https://www.linkedin.com/in/azeemshah-amiruddin', 'https://www.linkedin.com/in/nachai-limsettho-ph-d-7609b8120', 'https://www.linkedin.com/in/vivek6449', 'https://www.linkedin.com/in/pierre-cayot-400734a4', 'https://www.linkedin.com/in/sriamirthan', 'https://www.linkedin.com/in/ofirmagdaci', 'https://www.linkedin.com/in/jannikwiessler', 'https://www.linkedin.com/in/evren-bayraktar-725151152', 'https://www.linkedin.com/in/ming-hao-teo-40b12256', 'https://www.linkedin.com/in/leilei-zhang-32728583', 'https://www.linkedin.com/in/elton-savio-a309a258', 'https://www.linkedin.com/in/tianyi-tim-zhang-38608435', 'https://www.linkedin.com/in/xiangli2533', 'https://www.linkedin.com/in/guangtingzhou', 'https://www.linkedin.com/in/williamardianto', 'https://www.linkedin.com/in/bayan-saparbayeva', 'https://www.linkedin.com/in/yi-lu-nyu', 'https://www.linkedin.com/in/krishnendu-chakraborty-iitd', 'https://www.linkedin.com/in/pranay-kale-11ba6a30', 'https://www.linkedin.com/in/han-zhu-derekchu', 'https://www.linkedin.com/in/shan-sung-liew', 'https://www.linkedin.com/in/siti-nadiyah-kader-0448076b', 'https://www.linkedin.com/in/jingwei-too-1b62b41b0', 'https://www.linkedin.com/in/ankethm', 'https://www.linkedin.com/in/humairah-yahya-80496a1b2', 'https://www.linkedin.com/in/muaz-rahim', 'https://www.linkedin.com/in/ritesh-mohan-srivastava-15852465', 'https://www.linkedin.com/in/nuryusra-arafah-bt-md-isa-yusuff-b0190a207', 'https://www.linkedin.com/in/ahmed-yahia-trad-7bb1b793', 'https://www.linkedin.com/in/divyanshu-vyas', 'https://www.linkedin.com/in/tbergasse', 'https://www.linkedin.com/in/bruno-chagas', 'https://www.linkedin.com/in/vamshi-gorantla', 'https://www.linkedin.com/in/sachinsanand', 'https://www.linkedin.com/in/alexandre-felix-16288a34', 'https://www.linkedin.com/in/xiaoguai-li-2b88236b', 'https://www.linkedin.com/in/mohd-faidzal-mat-lazin-10b731128', 'https://www.linkedin.com/in/jie-yuan-frm-caia-03501a127', 'https://www.linkedin.com/in/yangfan255', 'https://www.linkedin.com/in/alex-wei-zeng-low-phd-4309aa142', 'https://www.linkedin.com/in/xun-guo-w-5b5b81155', 'https://www.linkedin.com/in/raj-saraiya-408061103', 'https://www.linkedin.com/in/shuhaili-safee-45500678', 'https://www.linkedin.com/in/syed-faris-akmal-syed-zulkhieree', 'https://www.linkedin.com/in/khairiraimi', 'https://www.linkedin.com/in/naelahnordin', 'https://www.linkedin.com/in/kharshin', 'https://www.linkedin.com/in/charles-cmu']\n"
   ]
  },
  {
   "cell_type": "code",
   "execution_count": 31,
   "id": "7c312d16",
   "metadata": {},
   "outputs": [],
   "source": [
    "links = ['https://www.linkedin.com/in/dr-nur-ayuni-mohamed-2896218a', 'https://www.linkedin.com/in/zhi-yang-ooi-170735181', 'https://www.linkedin.com/in/wbtan7', 'https://www.linkedin.com/in/shenghan', 'https://www.linkedin.com/in/han-ming-cheah-5166b6127', 'https://www.linkedin.com/in/rusernyeoh123', 'https://www.linkedin.com/in/ooihs', 'https://www.linkedin.com/in/peirkern', 'https://www.linkedin.com/in/khai-ping-lai-65bb0a193', 'https://www.linkedin.com/in/yi-wei-tye-689072132', 'https://www.linkedin.com/in/chee-siang-tan-0b9223144', 'https://www.linkedin.com/in/weisheng4321', 'https://www.linkedin.com/in/puteri-hasya-damia', 'https://www.linkedin.com/in/stephen-kua-032959140', 'https://www.linkedin.com/in/chongjeeseng', 'https://www.linkedin.com/in/chinwaizhen', 'https://www.linkedin.com/in/ericlowkimhoe', 'https://www.linkedin.com/in/steven-tan-chee-yu-790143136', 'https://www.linkedin.com/in/a-luqman-hakim-mohd-yunus', 'https://www.linkedin.com/in/teo-boon-long-487712116', 'https://www.linkedin.com/in/vincenttoong', 'https://www.linkedin.com/in/jia-wei-teh', 'https://www.linkedin.com/in/chee-yau-kee-17293087', 'https://www.linkedin.com/in/yewjie', 'https://www.linkedin.com/in/wayne-t-w-ng-80275637', 'https://www.linkedin.com/in/boon-khai-yeoh', 'https://www.linkedin.com/in/siewchen', 'https://www.linkedin.com/in/darveenvijayan', 'https://www.linkedin.com/in/chun-wen-khoo', 'https://www.linkedin.com/in/shangcheongwong', 'https://www.linkedin.com/in/dr-pranesh-krishnan', 'https://www.linkedin.com/in/ching-herny-chin', 'https://www.linkedin.com/in/divya-dhandevi-woodun-18b467ba', 'https://www.linkedin.com/in/mohamed-lubani', 'https://www.linkedin.com/in/kianchongkhoo', 'https://www.linkedin.com/in/chuahanchong', 'https://www.linkedin.com/in/kamal-izzudin-idris-6194741b1', 'https://www.linkedin.com/in/kohguanli', 'https://www.linkedin.com/in/amerwafiy', 'https://www.linkedin.com/in/kawserahmedpinto', 'https://www.linkedin.com/in/asadullah-qamar-bhatti', 'https://www.linkedin.com/in/wernyitan', 'https://www.linkedin.com/in/huan-yang-chan-a594a7142', 'https://www.linkedin.com/in/brendon-soong-b9128a181', 'https://www.linkedin.com/in/choy-siew-wearn-970095ab', 'https://www.linkedin.com/in/john-syin-ang', 'https://www.linkedin.com/in/ravindu-thaveesha', 'https://www.linkedin.com/in/jayakumar-viswanathan-48b53b147', 'https://www.linkedin.com/in/chingwaiyong', 'https://www.linkedin.com/in/prakash-gyan', 'https://www.linkedin.com/in/ee-kein-ivan-boo-b300941a0', 'https://www.linkedin.com/in/yiwei-ang-412bba138', 'https://www.linkedin.com/in/ammar-azman', 'https://www.linkedin.com/in/jai-wei-choo', 'https://www.linkedin.com/in/khairmiji', 'https://www.linkedin.com/in/jovinytliew', 'https://www.linkedin.com/in/sulaihasubi', 'https://www.linkedin.com/in/weng-hoong-seng', 'https://www.linkedin.com/in/marcusnaik', 'https://www.linkedin.com/in/amzar-muzani-bin-maarof', 'https://www.linkedin.com/in/yi-qin-teow-b847981b1', 'https://www.linkedin.com/in/hester-lim-569a27ab', 'https://www.linkedin.com/in/aarontanx', 'https://www.linkedin.com/in/ming-xiang-lee-23610a95', 'https://www.linkedin.com/in/justinloke', 'https://www.linkedin.com/in/thangeswariy', 'https://www.linkedin.com/in/ezonneoh', 'https://www.linkedin.com/in/gv-r-56780120a', 'https://www.linkedin.com/in/tianyan', 'https://www.linkedin.com/in/yew-leong-toh-04210975', 'https://www.linkedin.com/in/faiz-jim', 'https://www.linkedin.com/in/thongweiseng', 'https://www.linkedin.com/in/leezing', 'https://www.linkedin.com/in/sheikhhanif', 'https://www.linkedin.com/in/saibal13', 'https://www.linkedin.com/in/ngjiawaie', 'https://www.linkedin.com/in/mypratik', 'https://www.linkedin.com/in/georgewongsinhong', 'https://www.linkedin.com/in/ahmadzuhair', 'https://www.linkedin.com/in/jia-chun-tan-8b73051a0', 'https://www.linkedin.com/in/tanpeiseng', 'https://www.linkedin.com/in/kesava-a-88272789', 'https://www.linkedin.com/in/seantanrh', 'https://www.linkedin.com/in/william-yap', 'https://www.linkedin.com/in/ann-nee-wong', 'https://www.linkedin.com/in/tan-kai-4975a11a9', 'https://www.linkedin.com/in/santosh-kumar-79a447b2', 'https://www.linkedin.com/in/kishor-magar-57a98023', 'https://www.linkedin.com/in/chanzhenyu', 'https://www.linkedin.com/in/muhammad-aqhari-nasrin-bin-ramli', 'https://www.linkedin.com/in/khawslee', 'https://www.linkedin.com/in/limzhongheng', 'https://www.linkedin.com/in/sitisarahzab', 'https://www.linkedin.com/in/cody-c-a37b8918a', 'https://www.linkedin.com/in/fatin-amani-mohd-ali-87b614190', 'https://www.linkedin.com/in/faris-omar-b27a56144', 'https://www.linkedin.com/in/sze-yann-tham-796515190', 'https://www.linkedin.com/in/muhammad-anas-husnan-55a482b1', 'https://www.linkedin.com/in/jasbir-singh-32a83920', 'https://www.linkedin.com/in/li-vern-tan', 'https://www.linkedin.com/in/yx-00168', 'https://www.linkedin.com/in/kexin-lee-222374122', 'https://www.linkedin.com/in/daniel-yusoff-a40a4b166', 'https://www.linkedin.com/in/thkhaw', 'https://www.linkedin.com/in/ngkeanchew', 'https://www.linkedin.com/in/meng-kuan-lee-1089', 'https://www.linkedin.com/in/chiqin-lai-phd-4568a2119', 'https://www.linkedin.com/in/isaac-tan-how-ann-98147918a', 'https://www.linkedin.com/in/jing-yi-ong-mango1105', 'https://www.linkedin.com/in/vishal-singh-27a37838', 'https://www.linkedin.com/in/hariharan-muniandy-88a84817a', 'https://www.linkedin.com/in/muhamad-haris-idris-463bb6114', 'https://www.linkedin.com/in/philip-khor', 'https://www.linkedin.com/in/hui-theng-chew-leong-17119a193', 'https://www.linkedin.com/in/chungmeng', 'https://www.linkedin.com/in/thevesh', 'https://www.linkedin.com/in/abubakar-bala', 'https://www.linkedin.com/in/m%C3%A5rten-bj%C3%B6rketun-12505536', 'https://www.linkedin.com/in/bh-tan', 'https://www.linkedin.com/in/aqilahrose']"
   ]
  },
  {
   "cell_type": "code",
   "execution_count": 36,
   "id": "64507968",
   "metadata": {
    "scrolled": true
   },
   "outputs": [
    {
     "name": "stdout",
     "output_type": "stream",
     "text": [
      "processing https://www.linkedin.com/in/yx-00168\n"
     ]
    },
    {
     "name": "stderr",
     "output_type": "stream",
     "text": [
      "C:\\Users\\yong2\\AppData\\Local\\Temp\\ipykernel_28248\\2546454168.py:18: DeprecationWarning: find_element_by_class_name is deprecated. Please use find_element(by=By.CLASS_NAME, value=name) instead\n",
      "  elem_name = driver.find_element_by_class_name(\"text-heading-xlarge\").text\n",
      "C:\\Users\\yong2\\AppData\\Local\\Temp\\ipykernel_28248\\2546454168.py:19: DeprecationWarning: find_element_by_css_selector is deprecated. Please use find_element(by=By.CSS_SELECTOR, value=css_selector) instead\n",
      "  elem_title = driver.find_element_by_css_selector(\"div.pv-text-details__left-panel > div.text-body-medium\").text\n",
      "C:\\Users\\yong2\\AppData\\Local\\Temp\\ipykernel_28248\\2546454168.py:20: DeprecationWarning: find_element_by_css_selector is deprecated. Please use find_element(by=By.CSS_SELECTOR, value=css_selector) instead\n",
      "  elem_loc = driver.find_element_by_css_selector(\"div.pv-text-details__left-panel > span.text-body-small\").text\n",
      "C:\\Users\\yong2\\AppData\\Local\\Temp\\ipykernel_28248\\2546454168.py:22: DeprecationWarning: find_elements_by_css_selector is deprecated. Please use find_elements(by=By.CSS_SELECTOR, value=css_selector) instead\n",
      "  es_ = driver.find_elements_by_css_selector(\"section.artdeco-card.ember-view.relative.break-words\")\n",
      "C:\\Users\\yong2\\AppData\\Local\\Temp\\ipykernel_28248\\2546454168.py:28: DeprecationWarning: find_elements_by_css_selector is deprecated. Please use find_elements(by=By.CSS_SELECTOR, value=css_selector) instead\n",
      "  div_exps = e_.find_elements_by_css_selector(\"div#experience\")\n",
      "C:\\Users\\yong2\\AppData\\Local\\Temp\\ipykernel_28248\\2546454168.py:35: DeprecationWarning: find_elements_by_css_selector is deprecated. Please use find_elements(by=By.CSS_SELECTOR, value=css_selector) instead\n",
      "  elems_exp = elem_exp.find_elements_by_css_selector(\"div.pvs-list__outer-container div.display-flex.flex-column.full-width.align-self-center\")\n",
      "C:\\Users\\yong2\\AppData\\Local\\Temp\\ipykernel_28248\\2546454168.py:39: DeprecationWarning: find_elements_by_css_selector is deprecated. Please use find_elements(by=By.CSS_SELECTOR, value=css_selector) instead\n",
      "  spans = elem_exp.find_elements_by_css_selector(\"span.t-14 > span\")\n",
      "C:\\Users\\yong2\\AppData\\Local\\Temp\\ipykernel_28248\\2546454168.py:42: DeprecationWarning: find_elements_by_css_selector is deprecated. Please use find_elements(by=By.CSS_SELECTOR, value=css_selector) instead\n",
      "  title_spans = elem_exp.find_elements_by_css_selector(\"span.mr1 > span\")\n",
      "C:\\Users\\yong2\\AppData\\Local\\Temp\\ipykernel_28248\\2546454168.py:50: DeprecationWarning: find_elements_by_css_selector is deprecated. Please use find_elements(by=By.CSS_SELECTOR, value=css_selector) instead\n",
      "  div_edus = e_.find_elements_by_css_selector(\"div#education\")\n",
      "C:\\Users\\yong2\\AppData\\Local\\Temp\\ipykernel_28248\\2546454168.py:57: DeprecationWarning: find_elements_by_css_selector is deprecated. Please use find_elements(by=By.CSS_SELECTOR, value=css_selector) instead\n",
      "  elems_edu = elem_edu.find_elements_by_css_selector(\"div.pvs-list__outer-container div.display-flex.flex-column.full-width.align-self-center\")\n",
      "C:\\Users\\yong2\\AppData\\Local\\Temp\\ipykernel_28248\\2546454168.py:61: DeprecationWarning: find_elements_by_css_selector is deprecated. Please use find_elements(by=By.CSS_SELECTOR, value=css_selector) instead\n",
      "  spans = elem_edu.find_elements_by_css_selector(\"span.t-14 > span\")\n",
      "C:\\Users\\yong2\\AppData\\Local\\Temp\\ipykernel_28248\\2546454168.py:69: DeprecationWarning: find_elements_by_css_selector is deprecated. Please use find_elements(by=By.CSS_SELECTOR, value=css_selector) instead\n",
      "  div_skills = e_.find_elements_by_css_selector(\"div#skills\")\n",
      "C:\\Users\\yong2\\AppData\\Local\\Temp\\ipykernel_28248\\2546454168.py:76: DeprecationWarning: find_elements_by_css_selector is deprecated. Please use find_elements(by=By.CSS_SELECTOR, value=css_selector) instead\n",
      "  elems_skills = elem_skill.find_elements_by_css_selector(\"div.pvs-list__outer-container div.display-flex.flex-column.full-width.align-self-center\")\n",
      "C:\\Users\\yong2\\AppData\\Local\\Temp\\ipykernel_28248\\2546454168.py:80: DeprecationWarning: find_elements_by_css_selector is deprecated. Please use find_elements(by=By.CSS_SELECTOR, value=css_selector) instead\n",
      "  spans = elem_skill.find_elements_by_css_selector(\"span.mr1 > span\")\n"
     ]
    },
    {
     "name": "stdout",
     "output_type": "stream",
     "text": [
      "processing https://www.linkedin.com/in/kexin-lee-222374122\n"
     ]
    },
    {
     "name": "stderr",
     "output_type": "stream",
     "text": [
      "C:\\Users\\yong2\\AppData\\Local\\Temp\\ipykernel_28248\\2546454168.py:18: DeprecationWarning: find_element_by_class_name is deprecated. Please use find_element(by=By.CLASS_NAME, value=name) instead\n",
      "  elem_name = driver.find_element_by_class_name(\"text-heading-xlarge\").text\n",
      "C:\\Users\\yong2\\AppData\\Local\\Temp\\ipykernel_28248\\2546454168.py:19: DeprecationWarning: find_element_by_css_selector is deprecated. Please use find_element(by=By.CSS_SELECTOR, value=css_selector) instead\n",
      "  elem_title = driver.find_element_by_css_selector(\"div.pv-text-details__left-panel > div.text-body-medium\").text\n",
      "C:\\Users\\yong2\\AppData\\Local\\Temp\\ipykernel_28248\\2546454168.py:20: DeprecationWarning: find_element_by_css_selector is deprecated. Please use find_element(by=By.CSS_SELECTOR, value=css_selector) instead\n",
      "  elem_loc = driver.find_element_by_css_selector(\"div.pv-text-details__left-panel > span.text-body-small\").text\n",
      "C:\\Users\\yong2\\AppData\\Local\\Temp\\ipykernel_28248\\2546454168.py:22: DeprecationWarning: find_elements_by_css_selector is deprecated. Please use find_elements(by=By.CSS_SELECTOR, value=css_selector) instead\n",
      "  es_ = driver.find_elements_by_css_selector(\"section.artdeco-card.ember-view.relative.break-words\")\n",
      "C:\\Users\\yong2\\AppData\\Local\\Temp\\ipykernel_28248\\2546454168.py:28: DeprecationWarning: find_elements_by_css_selector is deprecated. Please use find_elements(by=By.CSS_SELECTOR, value=css_selector) instead\n",
      "  div_exps = e_.find_elements_by_css_selector(\"div#experience\")\n",
      "C:\\Users\\yong2\\AppData\\Local\\Temp\\ipykernel_28248\\2546454168.py:35: DeprecationWarning: find_elements_by_css_selector is deprecated. Please use find_elements(by=By.CSS_SELECTOR, value=css_selector) instead\n",
      "  elems_exp = elem_exp.find_elements_by_css_selector(\"div.pvs-list__outer-container div.display-flex.flex-column.full-width.align-self-center\")\n",
      "C:\\Users\\yong2\\AppData\\Local\\Temp\\ipykernel_28248\\2546454168.py:39: DeprecationWarning: find_elements_by_css_selector is deprecated. Please use find_elements(by=By.CSS_SELECTOR, value=css_selector) instead\n",
      "  spans = elem_exp.find_elements_by_css_selector(\"span.t-14 > span\")\n",
      "C:\\Users\\yong2\\AppData\\Local\\Temp\\ipykernel_28248\\2546454168.py:42: DeprecationWarning: find_elements_by_css_selector is deprecated. Please use find_elements(by=By.CSS_SELECTOR, value=css_selector) instead\n",
      "  title_spans = elem_exp.find_elements_by_css_selector(\"span.mr1 > span\")\n",
      "C:\\Users\\yong2\\AppData\\Local\\Temp\\ipykernel_28248\\2546454168.py:50: DeprecationWarning: find_elements_by_css_selector is deprecated. Please use find_elements(by=By.CSS_SELECTOR, value=css_selector) instead\n",
      "  div_edus = e_.find_elements_by_css_selector(\"div#education\")\n",
      "C:\\Users\\yong2\\AppData\\Local\\Temp\\ipykernel_28248\\2546454168.py:57: DeprecationWarning: find_elements_by_css_selector is deprecated. Please use find_elements(by=By.CSS_SELECTOR, value=css_selector) instead\n",
      "  elems_edu = elem_edu.find_elements_by_css_selector(\"div.pvs-list__outer-container div.display-flex.flex-column.full-width.align-self-center\")\n",
      "C:\\Users\\yong2\\AppData\\Local\\Temp\\ipykernel_28248\\2546454168.py:61: DeprecationWarning: find_elements_by_css_selector is deprecated. Please use find_elements(by=By.CSS_SELECTOR, value=css_selector) instead\n",
      "  spans = elem_edu.find_elements_by_css_selector(\"span.t-14 > span\")\n",
      "C:\\Users\\yong2\\AppData\\Local\\Temp\\ipykernel_28248\\2546454168.py:69: DeprecationWarning: find_elements_by_css_selector is deprecated. Please use find_elements(by=By.CSS_SELECTOR, value=css_selector) instead\n",
      "  div_skills = e_.find_elements_by_css_selector(\"div#skills\")\n",
      "C:\\Users\\yong2\\AppData\\Local\\Temp\\ipykernel_28248\\2546454168.py:76: DeprecationWarning: find_elements_by_css_selector is deprecated. Please use find_elements(by=By.CSS_SELECTOR, value=css_selector) instead\n",
      "  elems_skills = elem_skill.find_elements_by_css_selector(\"div.pvs-list__outer-container div.display-flex.flex-column.full-width.align-self-center\")\n",
      "C:\\Users\\yong2\\AppData\\Local\\Temp\\ipykernel_28248\\2546454168.py:80: DeprecationWarning: find_elements_by_css_selector is deprecated. Please use find_elements(by=By.CSS_SELECTOR, value=css_selector) instead\n",
      "  spans = elem_skill.find_elements_by_css_selector(\"span.mr1 > span\")\n"
     ]
    },
    {
     "name": "stdout",
     "output_type": "stream",
     "text": [
      "processing https://www.linkedin.com/in/daniel-yusoff-a40a4b166\n"
     ]
    },
    {
     "name": "stderr",
     "output_type": "stream",
     "text": [
      "C:\\Users\\yong2\\AppData\\Local\\Temp\\ipykernel_28248\\2546454168.py:18: DeprecationWarning: find_element_by_class_name is deprecated. Please use find_element(by=By.CLASS_NAME, value=name) instead\n",
      "  elem_name = driver.find_element_by_class_name(\"text-heading-xlarge\").text\n",
      "C:\\Users\\yong2\\AppData\\Local\\Temp\\ipykernel_28248\\2546454168.py:19: DeprecationWarning: find_element_by_css_selector is deprecated. Please use find_element(by=By.CSS_SELECTOR, value=css_selector) instead\n",
      "  elem_title = driver.find_element_by_css_selector(\"div.pv-text-details__left-panel > div.text-body-medium\").text\n",
      "C:\\Users\\yong2\\AppData\\Local\\Temp\\ipykernel_28248\\2546454168.py:20: DeprecationWarning: find_element_by_css_selector is deprecated. Please use find_element(by=By.CSS_SELECTOR, value=css_selector) instead\n",
      "  elem_loc = driver.find_element_by_css_selector(\"div.pv-text-details__left-panel > span.text-body-small\").text\n",
      "C:\\Users\\yong2\\AppData\\Local\\Temp\\ipykernel_28248\\2546454168.py:22: DeprecationWarning: find_elements_by_css_selector is deprecated. Please use find_elements(by=By.CSS_SELECTOR, value=css_selector) instead\n",
      "  es_ = driver.find_elements_by_css_selector(\"section.artdeco-card.ember-view.relative.break-words\")\n",
      "C:\\Users\\yong2\\AppData\\Local\\Temp\\ipykernel_28248\\2546454168.py:28: DeprecationWarning: find_elements_by_css_selector is deprecated. Please use find_elements(by=By.CSS_SELECTOR, value=css_selector) instead\n",
      "  div_exps = e_.find_elements_by_css_selector(\"div#experience\")\n",
      "C:\\Users\\yong2\\AppData\\Local\\Temp\\ipykernel_28248\\2546454168.py:35: DeprecationWarning: find_elements_by_css_selector is deprecated. Please use find_elements(by=By.CSS_SELECTOR, value=css_selector) instead\n",
      "  elems_exp = elem_exp.find_elements_by_css_selector(\"div.pvs-list__outer-container div.display-flex.flex-column.full-width.align-self-center\")\n",
      "C:\\Users\\yong2\\AppData\\Local\\Temp\\ipykernel_28248\\2546454168.py:39: DeprecationWarning: find_elements_by_css_selector is deprecated. Please use find_elements(by=By.CSS_SELECTOR, value=css_selector) instead\n",
      "  spans = elem_exp.find_elements_by_css_selector(\"span.t-14 > span\")\n",
      "C:\\Users\\yong2\\AppData\\Local\\Temp\\ipykernel_28248\\2546454168.py:42: DeprecationWarning: find_elements_by_css_selector is deprecated. Please use find_elements(by=By.CSS_SELECTOR, value=css_selector) instead\n",
      "  title_spans = elem_exp.find_elements_by_css_selector(\"span.mr1 > span\")\n",
      "C:\\Users\\yong2\\AppData\\Local\\Temp\\ipykernel_28248\\2546454168.py:50: DeprecationWarning: find_elements_by_css_selector is deprecated. Please use find_elements(by=By.CSS_SELECTOR, value=css_selector) instead\n",
      "  div_edus = e_.find_elements_by_css_selector(\"div#education\")\n",
      "C:\\Users\\yong2\\AppData\\Local\\Temp\\ipykernel_28248\\2546454168.py:57: DeprecationWarning: find_elements_by_css_selector is deprecated. Please use find_elements(by=By.CSS_SELECTOR, value=css_selector) instead\n",
      "  elems_edu = elem_edu.find_elements_by_css_selector(\"div.pvs-list__outer-container div.display-flex.flex-column.full-width.align-self-center\")\n",
      "C:\\Users\\yong2\\AppData\\Local\\Temp\\ipykernel_28248\\2546454168.py:61: DeprecationWarning: find_elements_by_css_selector is deprecated. Please use find_elements(by=By.CSS_SELECTOR, value=css_selector) instead\n",
      "  spans = elem_edu.find_elements_by_css_selector(\"span.t-14 > span\")\n",
      "C:\\Users\\yong2\\AppData\\Local\\Temp\\ipykernel_28248\\2546454168.py:69: DeprecationWarning: find_elements_by_css_selector is deprecated. Please use find_elements(by=By.CSS_SELECTOR, value=css_selector) instead\n",
      "  div_skills = e_.find_elements_by_css_selector(\"div#skills\")\n",
      "C:\\Users\\yong2\\AppData\\Local\\Temp\\ipykernel_28248\\2546454168.py:76: DeprecationWarning: find_elements_by_css_selector is deprecated. Please use find_elements(by=By.CSS_SELECTOR, value=css_selector) instead\n",
      "  elems_skills = elem_skill.find_elements_by_css_selector(\"div.pvs-list__outer-container div.display-flex.flex-column.full-width.align-self-center\")\n",
      "C:\\Users\\yong2\\AppData\\Local\\Temp\\ipykernel_28248\\2546454168.py:80: DeprecationWarning: find_elements_by_css_selector is deprecated. Please use find_elements(by=By.CSS_SELECTOR, value=css_selector) instead\n",
      "  spans = elem_skill.find_elements_by_css_selector(\"span.mr1 > span\")\n"
     ]
    },
    {
     "name": "stdout",
     "output_type": "stream",
     "text": [
      "processing https://www.linkedin.com/in/thkhaw\n"
     ]
    },
    {
     "name": "stderr",
     "output_type": "stream",
     "text": [
      "C:\\Users\\yong2\\AppData\\Local\\Temp\\ipykernel_28248\\2546454168.py:18: DeprecationWarning: find_element_by_class_name is deprecated. Please use find_element(by=By.CLASS_NAME, value=name) instead\n",
      "  elem_name = driver.find_element_by_class_name(\"text-heading-xlarge\").text\n",
      "C:\\Users\\yong2\\AppData\\Local\\Temp\\ipykernel_28248\\2546454168.py:19: DeprecationWarning: find_element_by_css_selector is deprecated. Please use find_element(by=By.CSS_SELECTOR, value=css_selector) instead\n",
      "  elem_title = driver.find_element_by_css_selector(\"div.pv-text-details__left-panel > div.text-body-medium\").text\n",
      "C:\\Users\\yong2\\AppData\\Local\\Temp\\ipykernel_28248\\2546454168.py:20: DeprecationWarning: find_element_by_css_selector is deprecated. Please use find_element(by=By.CSS_SELECTOR, value=css_selector) instead\n",
      "  elem_loc = driver.find_element_by_css_selector(\"div.pv-text-details__left-panel > span.text-body-small\").text\n",
      "C:\\Users\\yong2\\AppData\\Local\\Temp\\ipykernel_28248\\2546454168.py:22: DeprecationWarning: find_elements_by_css_selector is deprecated. Please use find_elements(by=By.CSS_SELECTOR, value=css_selector) instead\n",
      "  es_ = driver.find_elements_by_css_selector(\"section.artdeco-card.ember-view.relative.break-words\")\n",
      "C:\\Users\\yong2\\AppData\\Local\\Temp\\ipykernel_28248\\2546454168.py:28: DeprecationWarning: find_elements_by_css_selector is deprecated. Please use find_elements(by=By.CSS_SELECTOR, value=css_selector) instead\n",
      "  div_exps = e_.find_elements_by_css_selector(\"div#experience\")\n",
      "C:\\Users\\yong2\\AppData\\Local\\Temp\\ipykernel_28248\\2546454168.py:35: DeprecationWarning: find_elements_by_css_selector is deprecated. Please use find_elements(by=By.CSS_SELECTOR, value=css_selector) instead\n",
      "  elems_exp = elem_exp.find_elements_by_css_selector(\"div.pvs-list__outer-container div.display-flex.flex-column.full-width.align-self-center\")\n",
      "C:\\Users\\yong2\\AppData\\Local\\Temp\\ipykernel_28248\\2546454168.py:39: DeprecationWarning: find_elements_by_css_selector is deprecated. Please use find_elements(by=By.CSS_SELECTOR, value=css_selector) instead\n",
      "  spans = elem_exp.find_elements_by_css_selector(\"span.t-14 > span\")\n",
      "C:\\Users\\yong2\\AppData\\Local\\Temp\\ipykernel_28248\\2546454168.py:42: DeprecationWarning: find_elements_by_css_selector is deprecated. Please use find_elements(by=By.CSS_SELECTOR, value=css_selector) instead\n",
      "  title_spans = elem_exp.find_elements_by_css_selector(\"span.mr1 > span\")\n",
      "C:\\Users\\yong2\\AppData\\Local\\Temp\\ipykernel_28248\\2546454168.py:50: DeprecationWarning: find_elements_by_css_selector is deprecated. Please use find_elements(by=By.CSS_SELECTOR, value=css_selector) instead\n",
      "  div_edus = e_.find_elements_by_css_selector(\"div#education\")\n",
      "C:\\Users\\yong2\\AppData\\Local\\Temp\\ipykernel_28248\\2546454168.py:57: DeprecationWarning: find_elements_by_css_selector is deprecated. Please use find_elements(by=By.CSS_SELECTOR, value=css_selector) instead\n",
      "  elems_edu = elem_edu.find_elements_by_css_selector(\"div.pvs-list__outer-container div.display-flex.flex-column.full-width.align-self-center\")\n",
      "C:\\Users\\yong2\\AppData\\Local\\Temp\\ipykernel_28248\\2546454168.py:61: DeprecationWarning: find_elements_by_css_selector is deprecated. Please use find_elements(by=By.CSS_SELECTOR, value=css_selector) instead\n",
      "  spans = elem_edu.find_elements_by_css_selector(\"span.t-14 > span\")\n",
      "C:\\Users\\yong2\\AppData\\Local\\Temp\\ipykernel_28248\\2546454168.py:69: DeprecationWarning: find_elements_by_css_selector is deprecated. Please use find_elements(by=By.CSS_SELECTOR, value=css_selector) instead\n",
      "  div_skills = e_.find_elements_by_css_selector(\"div#skills\")\n",
      "C:\\Users\\yong2\\AppData\\Local\\Temp\\ipykernel_28248\\2546454168.py:76: DeprecationWarning: find_elements_by_css_selector is deprecated. Please use find_elements(by=By.CSS_SELECTOR, value=css_selector) instead\n",
      "  elems_skills = elem_skill.find_elements_by_css_selector(\"div.pvs-list__outer-container div.display-flex.flex-column.full-width.align-self-center\")\n",
      "C:\\Users\\yong2\\AppData\\Local\\Temp\\ipykernel_28248\\2546454168.py:80: DeprecationWarning: find_elements_by_css_selector is deprecated. Please use find_elements(by=By.CSS_SELECTOR, value=css_selector) instead\n",
      "  spans = elem_skill.find_elements_by_css_selector(\"span.mr1 > span\")\n"
     ]
    },
    {
     "name": "stdout",
     "output_type": "stream",
     "text": [
      "processing https://www.linkedin.com/in/ngkeanchew\n"
     ]
    },
    {
     "name": "stderr",
     "output_type": "stream",
     "text": [
      "C:\\Users\\yong2\\AppData\\Local\\Temp\\ipykernel_28248\\2546454168.py:18: DeprecationWarning: find_element_by_class_name is deprecated. Please use find_element(by=By.CLASS_NAME, value=name) instead\n",
      "  elem_name = driver.find_element_by_class_name(\"text-heading-xlarge\").text\n",
      "C:\\Users\\yong2\\AppData\\Local\\Temp\\ipykernel_28248\\2546454168.py:19: DeprecationWarning: find_element_by_css_selector is deprecated. Please use find_element(by=By.CSS_SELECTOR, value=css_selector) instead\n",
      "  elem_title = driver.find_element_by_css_selector(\"div.pv-text-details__left-panel > div.text-body-medium\").text\n",
      "C:\\Users\\yong2\\AppData\\Local\\Temp\\ipykernel_28248\\2546454168.py:20: DeprecationWarning: find_element_by_css_selector is deprecated. Please use find_element(by=By.CSS_SELECTOR, value=css_selector) instead\n",
      "  elem_loc = driver.find_element_by_css_selector(\"div.pv-text-details__left-panel > span.text-body-small\").text\n",
      "C:\\Users\\yong2\\AppData\\Local\\Temp\\ipykernel_28248\\2546454168.py:22: DeprecationWarning: find_elements_by_css_selector is deprecated. Please use find_elements(by=By.CSS_SELECTOR, value=css_selector) instead\n",
      "  es_ = driver.find_elements_by_css_selector(\"section.artdeco-card.ember-view.relative.break-words\")\n",
      "C:\\Users\\yong2\\AppData\\Local\\Temp\\ipykernel_28248\\2546454168.py:28: DeprecationWarning: find_elements_by_css_selector is deprecated. Please use find_elements(by=By.CSS_SELECTOR, value=css_selector) instead\n",
      "  div_exps = e_.find_elements_by_css_selector(\"div#experience\")\n",
      "C:\\Users\\yong2\\AppData\\Local\\Temp\\ipykernel_28248\\2546454168.py:35: DeprecationWarning: find_elements_by_css_selector is deprecated. Please use find_elements(by=By.CSS_SELECTOR, value=css_selector) instead\n",
      "  elems_exp = elem_exp.find_elements_by_css_selector(\"div.pvs-list__outer-container div.display-flex.flex-column.full-width.align-self-center\")\n",
      "C:\\Users\\yong2\\AppData\\Local\\Temp\\ipykernel_28248\\2546454168.py:39: DeprecationWarning: find_elements_by_css_selector is deprecated. Please use find_elements(by=By.CSS_SELECTOR, value=css_selector) instead\n",
      "  spans = elem_exp.find_elements_by_css_selector(\"span.t-14 > span\")\n",
      "C:\\Users\\yong2\\AppData\\Local\\Temp\\ipykernel_28248\\2546454168.py:42: DeprecationWarning: find_elements_by_css_selector is deprecated. Please use find_elements(by=By.CSS_SELECTOR, value=css_selector) instead\n",
      "  title_spans = elem_exp.find_elements_by_css_selector(\"span.mr1 > span\")\n",
      "C:\\Users\\yong2\\AppData\\Local\\Temp\\ipykernel_28248\\2546454168.py:50: DeprecationWarning: find_elements_by_css_selector is deprecated. Please use find_elements(by=By.CSS_SELECTOR, value=css_selector) instead\n",
      "  div_edus = e_.find_elements_by_css_selector(\"div#education\")\n",
      "C:\\Users\\yong2\\AppData\\Local\\Temp\\ipykernel_28248\\2546454168.py:57: DeprecationWarning: find_elements_by_css_selector is deprecated. Please use find_elements(by=By.CSS_SELECTOR, value=css_selector) instead\n",
      "  elems_edu = elem_edu.find_elements_by_css_selector(\"div.pvs-list__outer-container div.display-flex.flex-column.full-width.align-self-center\")\n",
      "C:\\Users\\yong2\\AppData\\Local\\Temp\\ipykernel_28248\\2546454168.py:61: DeprecationWarning: find_elements_by_css_selector is deprecated. Please use find_elements(by=By.CSS_SELECTOR, value=css_selector) instead\n",
      "  spans = elem_edu.find_elements_by_css_selector(\"span.t-14 > span\")\n",
      "C:\\Users\\yong2\\AppData\\Local\\Temp\\ipykernel_28248\\2546454168.py:69: DeprecationWarning: find_elements_by_css_selector is deprecated. Please use find_elements(by=By.CSS_SELECTOR, value=css_selector) instead\n",
      "  div_skills = e_.find_elements_by_css_selector(\"div#skills\")\n",
      "C:\\Users\\yong2\\AppData\\Local\\Temp\\ipykernel_28248\\2546454168.py:76: DeprecationWarning: find_elements_by_css_selector is deprecated. Please use find_elements(by=By.CSS_SELECTOR, value=css_selector) instead\n",
      "  elems_skills = elem_skill.find_elements_by_css_selector(\"div.pvs-list__outer-container div.display-flex.flex-column.full-width.align-self-center\")\n",
      "C:\\Users\\yong2\\AppData\\Local\\Temp\\ipykernel_28248\\2546454168.py:80: DeprecationWarning: find_elements_by_css_selector is deprecated. Please use find_elements(by=By.CSS_SELECTOR, value=css_selector) instead\n",
      "  spans = elem_skill.find_elements_by_css_selector(\"span.mr1 > span\")\n"
     ]
    },
    {
     "name": "stdout",
     "output_type": "stream",
     "text": [
      "processing https://www.linkedin.com/in/meng-kuan-lee-1089\n"
     ]
    },
    {
     "name": "stderr",
     "output_type": "stream",
     "text": [
      "C:\\Users\\yong2\\AppData\\Local\\Temp\\ipykernel_28248\\2546454168.py:18: DeprecationWarning: find_element_by_class_name is deprecated. Please use find_element(by=By.CLASS_NAME, value=name) instead\n",
      "  elem_name = driver.find_element_by_class_name(\"text-heading-xlarge\").text\n",
      "C:\\Users\\yong2\\AppData\\Local\\Temp\\ipykernel_28248\\2546454168.py:19: DeprecationWarning: find_element_by_css_selector is deprecated. Please use find_element(by=By.CSS_SELECTOR, value=css_selector) instead\n",
      "  elem_title = driver.find_element_by_css_selector(\"div.pv-text-details__left-panel > div.text-body-medium\").text\n",
      "C:\\Users\\yong2\\AppData\\Local\\Temp\\ipykernel_28248\\2546454168.py:20: DeprecationWarning: find_element_by_css_selector is deprecated. Please use find_element(by=By.CSS_SELECTOR, value=css_selector) instead\n",
      "  elem_loc = driver.find_element_by_css_selector(\"div.pv-text-details__left-panel > span.text-body-small\").text\n",
      "C:\\Users\\yong2\\AppData\\Local\\Temp\\ipykernel_28248\\2546454168.py:22: DeprecationWarning: find_elements_by_css_selector is deprecated. Please use find_elements(by=By.CSS_SELECTOR, value=css_selector) instead\n",
      "  es_ = driver.find_elements_by_css_selector(\"section.artdeco-card.ember-view.relative.break-words\")\n",
      "C:\\Users\\yong2\\AppData\\Local\\Temp\\ipykernel_28248\\2546454168.py:28: DeprecationWarning: find_elements_by_css_selector is deprecated. Please use find_elements(by=By.CSS_SELECTOR, value=css_selector) instead\n",
      "  div_exps = e_.find_elements_by_css_selector(\"div#experience\")\n",
      "C:\\Users\\yong2\\AppData\\Local\\Temp\\ipykernel_28248\\2546454168.py:35: DeprecationWarning: find_elements_by_css_selector is deprecated. Please use find_elements(by=By.CSS_SELECTOR, value=css_selector) instead\n",
      "  elems_exp = elem_exp.find_elements_by_css_selector(\"div.pvs-list__outer-container div.display-flex.flex-column.full-width.align-self-center\")\n",
      "C:\\Users\\yong2\\AppData\\Local\\Temp\\ipykernel_28248\\2546454168.py:39: DeprecationWarning: find_elements_by_css_selector is deprecated. Please use find_elements(by=By.CSS_SELECTOR, value=css_selector) instead\n",
      "  spans = elem_exp.find_elements_by_css_selector(\"span.t-14 > span\")\n",
      "C:\\Users\\yong2\\AppData\\Local\\Temp\\ipykernel_28248\\2546454168.py:42: DeprecationWarning: find_elements_by_css_selector is deprecated. Please use find_elements(by=By.CSS_SELECTOR, value=css_selector) instead\n",
      "  title_spans = elem_exp.find_elements_by_css_selector(\"span.mr1 > span\")\n",
      "C:\\Users\\yong2\\AppData\\Local\\Temp\\ipykernel_28248\\2546454168.py:50: DeprecationWarning: find_elements_by_css_selector is deprecated. Please use find_elements(by=By.CSS_SELECTOR, value=css_selector) instead\n",
      "  div_edus = e_.find_elements_by_css_selector(\"div#education\")\n",
      "C:\\Users\\yong2\\AppData\\Local\\Temp\\ipykernel_28248\\2546454168.py:57: DeprecationWarning: find_elements_by_css_selector is deprecated. Please use find_elements(by=By.CSS_SELECTOR, value=css_selector) instead\n",
      "  elems_edu = elem_edu.find_elements_by_css_selector(\"div.pvs-list__outer-container div.display-flex.flex-column.full-width.align-self-center\")\n",
      "C:\\Users\\yong2\\AppData\\Local\\Temp\\ipykernel_28248\\2546454168.py:61: DeprecationWarning: find_elements_by_css_selector is deprecated. Please use find_elements(by=By.CSS_SELECTOR, value=css_selector) instead\n",
      "  spans = elem_edu.find_elements_by_css_selector(\"span.t-14 > span\")\n",
      "C:\\Users\\yong2\\AppData\\Local\\Temp\\ipykernel_28248\\2546454168.py:69: DeprecationWarning: find_elements_by_css_selector is deprecated. Please use find_elements(by=By.CSS_SELECTOR, value=css_selector) instead\n",
      "  div_skills = e_.find_elements_by_css_selector(\"div#skills\")\n",
      "C:\\Users\\yong2\\AppData\\Local\\Temp\\ipykernel_28248\\2546454168.py:76: DeprecationWarning: find_elements_by_css_selector is deprecated. Please use find_elements(by=By.CSS_SELECTOR, value=css_selector) instead\n",
      "  elems_skills = elem_skill.find_elements_by_css_selector(\"div.pvs-list__outer-container div.display-flex.flex-column.full-width.align-self-center\")\n",
      "C:\\Users\\yong2\\AppData\\Local\\Temp\\ipykernel_28248\\2546454168.py:80: DeprecationWarning: find_elements_by_css_selector is deprecated. Please use find_elements(by=By.CSS_SELECTOR, value=css_selector) instead\n",
      "  spans = elem_skill.find_elements_by_css_selector(\"span.mr1 > span\")\n"
     ]
    },
    {
     "name": "stdout",
     "output_type": "stream",
     "text": [
      "processing https://www.linkedin.com/in/chiqin-lai-phd-4568a2119\n"
     ]
    },
    {
     "name": "stderr",
     "output_type": "stream",
     "text": [
      "C:\\Users\\yong2\\AppData\\Local\\Temp\\ipykernel_28248\\2546454168.py:18: DeprecationWarning: find_element_by_class_name is deprecated. Please use find_element(by=By.CLASS_NAME, value=name) instead\n",
      "  elem_name = driver.find_element_by_class_name(\"text-heading-xlarge\").text\n",
      "C:\\Users\\yong2\\AppData\\Local\\Temp\\ipykernel_28248\\2546454168.py:19: DeprecationWarning: find_element_by_css_selector is deprecated. Please use find_element(by=By.CSS_SELECTOR, value=css_selector) instead\n",
      "  elem_title = driver.find_element_by_css_selector(\"div.pv-text-details__left-panel > div.text-body-medium\").text\n",
      "C:\\Users\\yong2\\AppData\\Local\\Temp\\ipykernel_28248\\2546454168.py:20: DeprecationWarning: find_element_by_css_selector is deprecated. Please use find_element(by=By.CSS_SELECTOR, value=css_selector) instead\n",
      "  elem_loc = driver.find_element_by_css_selector(\"div.pv-text-details__left-panel > span.text-body-small\").text\n",
      "C:\\Users\\yong2\\AppData\\Local\\Temp\\ipykernel_28248\\2546454168.py:22: DeprecationWarning: find_elements_by_css_selector is deprecated. Please use find_elements(by=By.CSS_SELECTOR, value=css_selector) instead\n",
      "  es_ = driver.find_elements_by_css_selector(\"section.artdeco-card.ember-view.relative.break-words\")\n",
      "C:\\Users\\yong2\\AppData\\Local\\Temp\\ipykernel_28248\\2546454168.py:28: DeprecationWarning: find_elements_by_css_selector is deprecated. Please use find_elements(by=By.CSS_SELECTOR, value=css_selector) instead\n",
      "  div_exps = e_.find_elements_by_css_selector(\"div#experience\")\n",
      "C:\\Users\\yong2\\AppData\\Local\\Temp\\ipykernel_28248\\2546454168.py:35: DeprecationWarning: find_elements_by_css_selector is deprecated. Please use find_elements(by=By.CSS_SELECTOR, value=css_selector) instead\n",
      "  elems_exp = elem_exp.find_elements_by_css_selector(\"div.pvs-list__outer-container div.display-flex.flex-column.full-width.align-self-center\")\n",
      "C:\\Users\\yong2\\AppData\\Local\\Temp\\ipykernel_28248\\2546454168.py:39: DeprecationWarning: find_elements_by_css_selector is deprecated. Please use find_elements(by=By.CSS_SELECTOR, value=css_selector) instead\n",
      "  spans = elem_exp.find_elements_by_css_selector(\"span.t-14 > span\")\n",
      "C:\\Users\\yong2\\AppData\\Local\\Temp\\ipykernel_28248\\2546454168.py:42: DeprecationWarning: find_elements_by_css_selector is deprecated. Please use find_elements(by=By.CSS_SELECTOR, value=css_selector) instead\n",
      "  title_spans = elem_exp.find_elements_by_css_selector(\"span.mr1 > span\")\n",
      "C:\\Users\\yong2\\AppData\\Local\\Temp\\ipykernel_28248\\2546454168.py:50: DeprecationWarning: find_elements_by_css_selector is deprecated. Please use find_elements(by=By.CSS_SELECTOR, value=css_selector) instead\n",
      "  div_edus = e_.find_elements_by_css_selector(\"div#education\")\n",
      "C:\\Users\\yong2\\AppData\\Local\\Temp\\ipykernel_28248\\2546454168.py:57: DeprecationWarning: find_elements_by_css_selector is deprecated. Please use find_elements(by=By.CSS_SELECTOR, value=css_selector) instead\n",
      "  elems_edu = elem_edu.find_elements_by_css_selector(\"div.pvs-list__outer-container div.display-flex.flex-column.full-width.align-self-center\")\n",
      "C:\\Users\\yong2\\AppData\\Local\\Temp\\ipykernel_28248\\2546454168.py:61: DeprecationWarning: find_elements_by_css_selector is deprecated. Please use find_elements(by=By.CSS_SELECTOR, value=css_selector) instead\n",
      "  spans = elem_edu.find_elements_by_css_selector(\"span.t-14 > span\")\n",
      "C:\\Users\\yong2\\AppData\\Local\\Temp\\ipykernel_28248\\2546454168.py:69: DeprecationWarning: find_elements_by_css_selector is deprecated. Please use find_elements(by=By.CSS_SELECTOR, value=css_selector) instead\n",
      "  div_skills = e_.find_elements_by_css_selector(\"div#skills\")\n"
     ]
    },
    {
     "name": "stdout",
     "output_type": "stream",
     "text": [
      "processing https://www.linkedin.com/in/isaac-tan-how-ann-98147918a\n"
     ]
    },
    {
     "name": "stderr",
     "output_type": "stream",
     "text": [
      "C:\\Users\\yong2\\AppData\\Local\\Temp\\ipykernel_28248\\2546454168.py:18: DeprecationWarning: find_element_by_class_name is deprecated. Please use find_element(by=By.CLASS_NAME, value=name) instead\n",
      "  elem_name = driver.find_element_by_class_name(\"text-heading-xlarge\").text\n",
      "C:\\Users\\yong2\\AppData\\Local\\Temp\\ipykernel_28248\\2546454168.py:19: DeprecationWarning: find_element_by_css_selector is deprecated. Please use find_element(by=By.CSS_SELECTOR, value=css_selector) instead\n",
      "  elem_title = driver.find_element_by_css_selector(\"div.pv-text-details__left-panel > div.text-body-medium\").text\n",
      "C:\\Users\\yong2\\AppData\\Local\\Temp\\ipykernel_28248\\2546454168.py:20: DeprecationWarning: find_element_by_css_selector is deprecated. Please use find_element(by=By.CSS_SELECTOR, value=css_selector) instead\n",
      "  elem_loc = driver.find_element_by_css_selector(\"div.pv-text-details__left-panel > span.text-body-small\").text\n",
      "C:\\Users\\yong2\\AppData\\Local\\Temp\\ipykernel_28248\\2546454168.py:22: DeprecationWarning: find_elements_by_css_selector is deprecated. Please use find_elements(by=By.CSS_SELECTOR, value=css_selector) instead\n",
      "  es_ = driver.find_elements_by_css_selector(\"section.artdeco-card.ember-view.relative.break-words\")\n",
      "C:\\Users\\yong2\\AppData\\Local\\Temp\\ipykernel_28248\\2546454168.py:28: DeprecationWarning: find_elements_by_css_selector is deprecated. Please use find_elements(by=By.CSS_SELECTOR, value=css_selector) instead\n",
      "  div_exps = e_.find_elements_by_css_selector(\"div#experience\")\n",
      "C:\\Users\\yong2\\AppData\\Local\\Temp\\ipykernel_28248\\2546454168.py:35: DeprecationWarning: find_elements_by_css_selector is deprecated. Please use find_elements(by=By.CSS_SELECTOR, value=css_selector) instead\n",
      "  elems_exp = elem_exp.find_elements_by_css_selector(\"div.pvs-list__outer-container div.display-flex.flex-column.full-width.align-self-center\")\n",
      "C:\\Users\\yong2\\AppData\\Local\\Temp\\ipykernel_28248\\2546454168.py:39: DeprecationWarning: find_elements_by_css_selector is deprecated. Please use find_elements(by=By.CSS_SELECTOR, value=css_selector) instead\n",
      "  spans = elem_exp.find_elements_by_css_selector(\"span.t-14 > span\")\n",
      "C:\\Users\\yong2\\AppData\\Local\\Temp\\ipykernel_28248\\2546454168.py:42: DeprecationWarning: find_elements_by_css_selector is deprecated. Please use find_elements(by=By.CSS_SELECTOR, value=css_selector) instead\n",
      "  title_spans = elem_exp.find_elements_by_css_selector(\"span.mr1 > span\")\n",
      "C:\\Users\\yong2\\AppData\\Local\\Temp\\ipykernel_28248\\2546454168.py:50: DeprecationWarning: find_elements_by_css_selector is deprecated. Please use find_elements(by=By.CSS_SELECTOR, value=css_selector) instead\n",
      "  div_edus = e_.find_elements_by_css_selector(\"div#education\")\n",
      "C:\\Users\\yong2\\AppData\\Local\\Temp\\ipykernel_28248\\2546454168.py:57: DeprecationWarning: find_elements_by_css_selector is deprecated. Please use find_elements(by=By.CSS_SELECTOR, value=css_selector) instead\n",
      "  elems_edu = elem_edu.find_elements_by_css_selector(\"div.pvs-list__outer-container div.display-flex.flex-column.full-width.align-self-center\")\n",
      "C:\\Users\\yong2\\AppData\\Local\\Temp\\ipykernel_28248\\2546454168.py:61: DeprecationWarning: find_elements_by_css_selector is deprecated. Please use find_elements(by=By.CSS_SELECTOR, value=css_selector) instead\n",
      "  spans = elem_edu.find_elements_by_css_selector(\"span.t-14 > span\")\n",
      "C:\\Users\\yong2\\AppData\\Local\\Temp\\ipykernel_28248\\2546454168.py:69: DeprecationWarning: find_elements_by_css_selector is deprecated. Please use find_elements(by=By.CSS_SELECTOR, value=css_selector) instead\n",
      "  div_skills = e_.find_elements_by_css_selector(\"div#skills\")\n",
      "C:\\Users\\yong2\\AppData\\Local\\Temp\\ipykernel_28248\\2546454168.py:76: DeprecationWarning: find_elements_by_css_selector is deprecated. Please use find_elements(by=By.CSS_SELECTOR, value=css_selector) instead\n",
      "  elems_skills = elem_skill.find_elements_by_css_selector(\"div.pvs-list__outer-container div.display-flex.flex-column.full-width.align-self-center\")\n",
      "C:\\Users\\yong2\\AppData\\Local\\Temp\\ipykernel_28248\\2546454168.py:80: DeprecationWarning: find_elements_by_css_selector is deprecated. Please use find_elements(by=By.CSS_SELECTOR, value=css_selector) instead\n",
      "  spans = elem_skill.find_elements_by_css_selector(\"span.mr1 > span\")\n"
     ]
    },
    {
     "name": "stdout",
     "output_type": "stream",
     "text": [
      "processing https://www.linkedin.com/in/jing-yi-ong-mango1105\n"
     ]
    },
    {
     "name": "stderr",
     "output_type": "stream",
     "text": [
      "C:\\Users\\yong2\\AppData\\Local\\Temp\\ipykernel_28248\\2546454168.py:18: DeprecationWarning: find_element_by_class_name is deprecated. Please use find_element(by=By.CLASS_NAME, value=name) instead\n",
      "  elem_name = driver.find_element_by_class_name(\"text-heading-xlarge\").text\n",
      "C:\\Users\\yong2\\AppData\\Local\\Temp\\ipykernel_28248\\2546454168.py:19: DeprecationWarning: find_element_by_css_selector is deprecated. Please use find_element(by=By.CSS_SELECTOR, value=css_selector) instead\n",
      "  elem_title = driver.find_element_by_css_selector(\"div.pv-text-details__left-panel > div.text-body-medium\").text\n",
      "C:\\Users\\yong2\\AppData\\Local\\Temp\\ipykernel_28248\\2546454168.py:20: DeprecationWarning: find_element_by_css_selector is deprecated. Please use find_element(by=By.CSS_SELECTOR, value=css_selector) instead\n",
      "  elem_loc = driver.find_element_by_css_selector(\"div.pv-text-details__left-panel > span.text-body-small\").text\n",
      "C:\\Users\\yong2\\AppData\\Local\\Temp\\ipykernel_28248\\2546454168.py:22: DeprecationWarning: find_elements_by_css_selector is deprecated. Please use find_elements(by=By.CSS_SELECTOR, value=css_selector) instead\n",
      "  es_ = driver.find_elements_by_css_selector(\"section.artdeco-card.ember-view.relative.break-words\")\n",
      "C:\\Users\\yong2\\AppData\\Local\\Temp\\ipykernel_28248\\2546454168.py:28: DeprecationWarning: find_elements_by_css_selector is deprecated. Please use find_elements(by=By.CSS_SELECTOR, value=css_selector) instead\n",
      "  div_exps = e_.find_elements_by_css_selector(\"div#experience\")\n",
      "C:\\Users\\yong2\\AppData\\Local\\Temp\\ipykernel_28248\\2546454168.py:35: DeprecationWarning: find_elements_by_css_selector is deprecated. Please use find_elements(by=By.CSS_SELECTOR, value=css_selector) instead\n",
      "  elems_exp = elem_exp.find_elements_by_css_selector(\"div.pvs-list__outer-container div.display-flex.flex-column.full-width.align-self-center\")\n",
      "C:\\Users\\yong2\\AppData\\Local\\Temp\\ipykernel_28248\\2546454168.py:39: DeprecationWarning: find_elements_by_css_selector is deprecated. Please use find_elements(by=By.CSS_SELECTOR, value=css_selector) instead\n",
      "  spans = elem_exp.find_elements_by_css_selector(\"span.t-14 > span\")\n",
      "C:\\Users\\yong2\\AppData\\Local\\Temp\\ipykernel_28248\\2546454168.py:42: DeprecationWarning: find_elements_by_css_selector is deprecated. Please use find_elements(by=By.CSS_SELECTOR, value=css_selector) instead\n",
      "  title_spans = elem_exp.find_elements_by_css_selector(\"span.mr1 > span\")\n",
      "C:\\Users\\yong2\\AppData\\Local\\Temp\\ipykernel_28248\\2546454168.py:50: DeprecationWarning: find_elements_by_css_selector is deprecated. Please use find_elements(by=By.CSS_SELECTOR, value=css_selector) instead\n",
      "  div_edus = e_.find_elements_by_css_selector(\"div#education\")\n",
      "C:\\Users\\yong2\\AppData\\Local\\Temp\\ipykernel_28248\\2546454168.py:57: DeprecationWarning: find_elements_by_css_selector is deprecated. Please use find_elements(by=By.CSS_SELECTOR, value=css_selector) instead\n",
      "  elems_edu = elem_edu.find_elements_by_css_selector(\"div.pvs-list__outer-container div.display-flex.flex-column.full-width.align-self-center\")\n",
      "C:\\Users\\yong2\\AppData\\Local\\Temp\\ipykernel_28248\\2546454168.py:61: DeprecationWarning: find_elements_by_css_selector is deprecated. Please use find_elements(by=By.CSS_SELECTOR, value=css_selector) instead\n",
      "  spans = elem_edu.find_elements_by_css_selector(\"span.t-14 > span\")\n",
      "C:\\Users\\yong2\\AppData\\Local\\Temp\\ipykernel_28248\\2546454168.py:69: DeprecationWarning: find_elements_by_css_selector is deprecated. Please use find_elements(by=By.CSS_SELECTOR, value=css_selector) instead\n",
      "  div_skills = e_.find_elements_by_css_selector(\"div#skills\")\n",
      "C:\\Users\\yong2\\AppData\\Local\\Temp\\ipykernel_28248\\2546454168.py:76: DeprecationWarning: find_elements_by_css_selector is deprecated. Please use find_elements(by=By.CSS_SELECTOR, value=css_selector) instead\n",
      "  elems_skills = elem_skill.find_elements_by_css_selector(\"div.pvs-list__outer-container div.display-flex.flex-column.full-width.align-self-center\")\n",
      "C:\\Users\\yong2\\AppData\\Local\\Temp\\ipykernel_28248\\2546454168.py:80: DeprecationWarning: find_elements_by_css_selector is deprecated. Please use find_elements(by=By.CSS_SELECTOR, value=css_selector) instead\n",
      "  spans = elem_skill.find_elements_by_css_selector(\"span.mr1 > span\")\n"
     ]
    },
    {
     "name": "stdout",
     "output_type": "stream",
     "text": [
      "processing https://www.linkedin.com/in/vishal-singh-27a37838\n"
     ]
    },
    {
     "name": "stderr",
     "output_type": "stream",
     "text": [
      "C:\\Users\\yong2\\AppData\\Local\\Temp\\ipykernel_28248\\2546454168.py:18: DeprecationWarning: find_element_by_class_name is deprecated. Please use find_element(by=By.CLASS_NAME, value=name) instead\n",
      "  elem_name = driver.find_element_by_class_name(\"text-heading-xlarge\").text\n",
      "C:\\Users\\yong2\\AppData\\Local\\Temp\\ipykernel_28248\\2546454168.py:19: DeprecationWarning: find_element_by_css_selector is deprecated. Please use find_element(by=By.CSS_SELECTOR, value=css_selector) instead\n",
      "  elem_title = driver.find_element_by_css_selector(\"div.pv-text-details__left-panel > div.text-body-medium\").text\n",
      "C:\\Users\\yong2\\AppData\\Local\\Temp\\ipykernel_28248\\2546454168.py:20: DeprecationWarning: find_element_by_css_selector is deprecated. Please use find_element(by=By.CSS_SELECTOR, value=css_selector) instead\n",
      "  elem_loc = driver.find_element_by_css_selector(\"div.pv-text-details__left-panel > span.text-body-small\").text\n",
      "C:\\Users\\yong2\\AppData\\Local\\Temp\\ipykernel_28248\\2546454168.py:22: DeprecationWarning: find_elements_by_css_selector is deprecated. Please use find_elements(by=By.CSS_SELECTOR, value=css_selector) instead\n",
      "  es_ = driver.find_elements_by_css_selector(\"section.artdeco-card.ember-view.relative.break-words\")\n",
      "C:\\Users\\yong2\\AppData\\Local\\Temp\\ipykernel_28248\\2546454168.py:28: DeprecationWarning: find_elements_by_css_selector is deprecated. Please use find_elements(by=By.CSS_SELECTOR, value=css_selector) instead\n",
      "  div_exps = e_.find_elements_by_css_selector(\"div#experience\")\n",
      "C:\\Users\\yong2\\AppData\\Local\\Temp\\ipykernel_28248\\2546454168.py:35: DeprecationWarning: find_elements_by_css_selector is deprecated. Please use find_elements(by=By.CSS_SELECTOR, value=css_selector) instead\n",
      "  elems_exp = elem_exp.find_elements_by_css_selector(\"div.pvs-list__outer-container div.display-flex.flex-column.full-width.align-self-center\")\n",
      "C:\\Users\\yong2\\AppData\\Local\\Temp\\ipykernel_28248\\2546454168.py:39: DeprecationWarning: find_elements_by_css_selector is deprecated. Please use find_elements(by=By.CSS_SELECTOR, value=css_selector) instead\n",
      "  spans = elem_exp.find_elements_by_css_selector(\"span.t-14 > span\")\n",
      "C:\\Users\\yong2\\AppData\\Local\\Temp\\ipykernel_28248\\2546454168.py:42: DeprecationWarning: find_elements_by_css_selector is deprecated. Please use find_elements(by=By.CSS_SELECTOR, value=css_selector) instead\n",
      "  title_spans = elem_exp.find_elements_by_css_selector(\"span.mr1 > span\")\n",
      "C:\\Users\\yong2\\AppData\\Local\\Temp\\ipykernel_28248\\2546454168.py:50: DeprecationWarning: find_elements_by_css_selector is deprecated. Please use find_elements(by=By.CSS_SELECTOR, value=css_selector) instead\n",
      "  div_edus = e_.find_elements_by_css_selector(\"div#education\")\n",
      "C:\\Users\\yong2\\AppData\\Local\\Temp\\ipykernel_28248\\2546454168.py:57: DeprecationWarning: find_elements_by_css_selector is deprecated. Please use find_elements(by=By.CSS_SELECTOR, value=css_selector) instead\n",
      "  elems_edu = elem_edu.find_elements_by_css_selector(\"div.pvs-list__outer-container div.display-flex.flex-column.full-width.align-self-center\")\n",
      "C:\\Users\\yong2\\AppData\\Local\\Temp\\ipykernel_28248\\2546454168.py:61: DeprecationWarning: find_elements_by_css_selector is deprecated. Please use find_elements(by=By.CSS_SELECTOR, value=css_selector) instead\n",
      "  spans = elem_edu.find_elements_by_css_selector(\"span.t-14 > span\")\n",
      "C:\\Users\\yong2\\AppData\\Local\\Temp\\ipykernel_28248\\2546454168.py:69: DeprecationWarning: find_elements_by_css_selector is deprecated. Please use find_elements(by=By.CSS_SELECTOR, value=css_selector) instead\n",
      "  div_skills = e_.find_elements_by_css_selector(\"div#skills\")\n",
      "C:\\Users\\yong2\\AppData\\Local\\Temp\\ipykernel_28248\\2546454168.py:76: DeprecationWarning: find_elements_by_css_selector is deprecated. Please use find_elements(by=By.CSS_SELECTOR, value=css_selector) instead\n",
      "  elems_skills = elem_skill.find_elements_by_css_selector(\"div.pvs-list__outer-container div.display-flex.flex-column.full-width.align-self-center\")\n",
      "C:\\Users\\yong2\\AppData\\Local\\Temp\\ipykernel_28248\\2546454168.py:80: DeprecationWarning: find_elements_by_css_selector is deprecated. Please use find_elements(by=By.CSS_SELECTOR, value=css_selector) instead\n",
      "  spans = elem_skill.find_elements_by_css_selector(\"span.mr1 > span\")\n"
     ]
    },
    {
     "name": "stdout",
     "output_type": "stream",
     "text": [
      "processing https://www.linkedin.com/in/hariharan-muniandy-88a84817a\n"
     ]
    },
    {
     "name": "stderr",
     "output_type": "stream",
     "text": [
      "C:\\Users\\yong2\\AppData\\Local\\Temp\\ipykernel_28248\\2546454168.py:18: DeprecationWarning: find_element_by_class_name is deprecated. Please use find_element(by=By.CLASS_NAME, value=name) instead\n",
      "  elem_name = driver.find_element_by_class_name(\"text-heading-xlarge\").text\n",
      "C:\\Users\\yong2\\AppData\\Local\\Temp\\ipykernel_28248\\2546454168.py:19: DeprecationWarning: find_element_by_css_selector is deprecated. Please use find_element(by=By.CSS_SELECTOR, value=css_selector) instead\n",
      "  elem_title = driver.find_element_by_css_selector(\"div.pv-text-details__left-panel > div.text-body-medium\").text\n",
      "C:\\Users\\yong2\\AppData\\Local\\Temp\\ipykernel_28248\\2546454168.py:20: DeprecationWarning: find_element_by_css_selector is deprecated. Please use find_element(by=By.CSS_SELECTOR, value=css_selector) instead\n",
      "  elem_loc = driver.find_element_by_css_selector(\"div.pv-text-details__left-panel > span.text-body-small\").text\n",
      "C:\\Users\\yong2\\AppData\\Local\\Temp\\ipykernel_28248\\2546454168.py:22: DeprecationWarning: find_elements_by_css_selector is deprecated. Please use find_elements(by=By.CSS_SELECTOR, value=css_selector) instead\n",
      "  es_ = driver.find_elements_by_css_selector(\"section.artdeco-card.ember-view.relative.break-words\")\n",
      "C:\\Users\\yong2\\AppData\\Local\\Temp\\ipykernel_28248\\2546454168.py:28: DeprecationWarning: find_elements_by_css_selector is deprecated. Please use find_elements(by=By.CSS_SELECTOR, value=css_selector) instead\n",
      "  div_exps = e_.find_elements_by_css_selector(\"div#experience\")\n",
      "C:\\Users\\yong2\\AppData\\Local\\Temp\\ipykernel_28248\\2546454168.py:35: DeprecationWarning: find_elements_by_css_selector is deprecated. Please use find_elements(by=By.CSS_SELECTOR, value=css_selector) instead\n",
      "  elems_exp = elem_exp.find_elements_by_css_selector(\"div.pvs-list__outer-container div.display-flex.flex-column.full-width.align-self-center\")\n",
      "C:\\Users\\yong2\\AppData\\Local\\Temp\\ipykernel_28248\\2546454168.py:39: DeprecationWarning: find_elements_by_css_selector is deprecated. Please use find_elements(by=By.CSS_SELECTOR, value=css_selector) instead\n",
      "  spans = elem_exp.find_elements_by_css_selector(\"span.t-14 > span\")\n",
      "C:\\Users\\yong2\\AppData\\Local\\Temp\\ipykernel_28248\\2546454168.py:42: DeprecationWarning: find_elements_by_css_selector is deprecated. Please use find_elements(by=By.CSS_SELECTOR, value=css_selector) instead\n",
      "  title_spans = elem_exp.find_elements_by_css_selector(\"span.mr1 > span\")\n",
      "C:\\Users\\yong2\\AppData\\Local\\Temp\\ipykernel_28248\\2546454168.py:50: DeprecationWarning: find_elements_by_css_selector is deprecated. Please use find_elements(by=By.CSS_SELECTOR, value=css_selector) instead\n",
      "  div_edus = e_.find_elements_by_css_selector(\"div#education\")\n",
      "C:\\Users\\yong2\\AppData\\Local\\Temp\\ipykernel_28248\\2546454168.py:57: DeprecationWarning: find_elements_by_css_selector is deprecated. Please use find_elements(by=By.CSS_SELECTOR, value=css_selector) instead\n",
      "  elems_edu = elem_edu.find_elements_by_css_selector(\"div.pvs-list__outer-container div.display-flex.flex-column.full-width.align-self-center\")\n",
      "C:\\Users\\yong2\\AppData\\Local\\Temp\\ipykernel_28248\\2546454168.py:61: DeprecationWarning: find_elements_by_css_selector is deprecated. Please use find_elements(by=By.CSS_SELECTOR, value=css_selector) instead\n",
      "  spans = elem_edu.find_elements_by_css_selector(\"span.t-14 > span\")\n",
      "C:\\Users\\yong2\\AppData\\Local\\Temp\\ipykernel_28248\\2546454168.py:69: DeprecationWarning: find_elements_by_css_selector is deprecated. Please use find_elements(by=By.CSS_SELECTOR, value=css_selector) instead\n",
      "  div_skills = e_.find_elements_by_css_selector(\"div#skills\")\n",
      "C:\\Users\\yong2\\AppData\\Local\\Temp\\ipykernel_28248\\2546454168.py:76: DeprecationWarning: find_elements_by_css_selector is deprecated. Please use find_elements(by=By.CSS_SELECTOR, value=css_selector) instead\n",
      "  elems_skills = elem_skill.find_elements_by_css_selector(\"div.pvs-list__outer-container div.display-flex.flex-column.full-width.align-self-center\")\n",
      "C:\\Users\\yong2\\AppData\\Local\\Temp\\ipykernel_28248\\2546454168.py:80: DeprecationWarning: find_elements_by_css_selector is deprecated. Please use find_elements(by=By.CSS_SELECTOR, value=css_selector) instead\n",
      "  spans = elem_skill.find_elements_by_css_selector(\"span.mr1 > span\")\n"
     ]
    },
    {
     "name": "stdout",
     "output_type": "stream",
     "text": [
      "processing https://www.linkedin.com/in/muhamad-haris-idris-463bb6114\n"
     ]
    },
    {
     "name": "stderr",
     "output_type": "stream",
     "text": [
      "C:\\Users\\yong2\\AppData\\Local\\Temp\\ipykernel_28248\\2546454168.py:18: DeprecationWarning: find_element_by_class_name is deprecated. Please use find_element(by=By.CLASS_NAME, value=name) instead\n",
      "  elem_name = driver.find_element_by_class_name(\"text-heading-xlarge\").text\n",
      "C:\\Users\\yong2\\AppData\\Local\\Temp\\ipykernel_28248\\2546454168.py:19: DeprecationWarning: find_element_by_css_selector is deprecated. Please use find_element(by=By.CSS_SELECTOR, value=css_selector) instead\n",
      "  elem_title = driver.find_element_by_css_selector(\"div.pv-text-details__left-panel > div.text-body-medium\").text\n",
      "C:\\Users\\yong2\\AppData\\Local\\Temp\\ipykernel_28248\\2546454168.py:20: DeprecationWarning: find_element_by_css_selector is deprecated. Please use find_element(by=By.CSS_SELECTOR, value=css_selector) instead\n",
      "  elem_loc = driver.find_element_by_css_selector(\"div.pv-text-details__left-panel > span.text-body-small\").text\n",
      "C:\\Users\\yong2\\AppData\\Local\\Temp\\ipykernel_28248\\2546454168.py:22: DeprecationWarning: find_elements_by_css_selector is deprecated. Please use find_elements(by=By.CSS_SELECTOR, value=css_selector) instead\n",
      "  es_ = driver.find_elements_by_css_selector(\"section.artdeco-card.ember-view.relative.break-words\")\n",
      "C:\\Users\\yong2\\AppData\\Local\\Temp\\ipykernel_28248\\2546454168.py:28: DeprecationWarning: find_elements_by_css_selector is deprecated. Please use find_elements(by=By.CSS_SELECTOR, value=css_selector) instead\n",
      "  div_exps = e_.find_elements_by_css_selector(\"div#experience\")\n",
      "C:\\Users\\yong2\\AppData\\Local\\Temp\\ipykernel_28248\\2546454168.py:35: DeprecationWarning: find_elements_by_css_selector is deprecated. Please use find_elements(by=By.CSS_SELECTOR, value=css_selector) instead\n",
      "  elems_exp = elem_exp.find_elements_by_css_selector(\"div.pvs-list__outer-container div.display-flex.flex-column.full-width.align-self-center\")\n",
      "C:\\Users\\yong2\\AppData\\Local\\Temp\\ipykernel_28248\\2546454168.py:39: DeprecationWarning: find_elements_by_css_selector is deprecated. Please use find_elements(by=By.CSS_SELECTOR, value=css_selector) instead\n",
      "  spans = elem_exp.find_elements_by_css_selector(\"span.t-14 > span\")\n",
      "C:\\Users\\yong2\\AppData\\Local\\Temp\\ipykernel_28248\\2546454168.py:42: DeprecationWarning: find_elements_by_css_selector is deprecated. Please use find_elements(by=By.CSS_SELECTOR, value=css_selector) instead\n",
      "  title_spans = elem_exp.find_elements_by_css_selector(\"span.mr1 > span\")\n",
      "C:\\Users\\yong2\\AppData\\Local\\Temp\\ipykernel_28248\\2546454168.py:50: DeprecationWarning: find_elements_by_css_selector is deprecated. Please use find_elements(by=By.CSS_SELECTOR, value=css_selector) instead\n",
      "  div_edus = e_.find_elements_by_css_selector(\"div#education\")\n",
      "C:\\Users\\yong2\\AppData\\Local\\Temp\\ipykernel_28248\\2546454168.py:57: DeprecationWarning: find_elements_by_css_selector is deprecated. Please use find_elements(by=By.CSS_SELECTOR, value=css_selector) instead\n",
      "  elems_edu = elem_edu.find_elements_by_css_selector(\"div.pvs-list__outer-container div.display-flex.flex-column.full-width.align-self-center\")\n",
      "C:\\Users\\yong2\\AppData\\Local\\Temp\\ipykernel_28248\\2546454168.py:61: DeprecationWarning: find_elements_by_css_selector is deprecated. Please use find_elements(by=By.CSS_SELECTOR, value=css_selector) instead\n",
      "  spans = elem_edu.find_elements_by_css_selector(\"span.t-14 > span\")\n",
      "C:\\Users\\yong2\\AppData\\Local\\Temp\\ipykernel_28248\\2546454168.py:69: DeprecationWarning: find_elements_by_css_selector is deprecated. Please use find_elements(by=By.CSS_SELECTOR, value=css_selector) instead\n",
      "  div_skills = e_.find_elements_by_css_selector(\"div#skills\")\n",
      "C:\\Users\\yong2\\AppData\\Local\\Temp\\ipykernel_28248\\2546454168.py:76: DeprecationWarning: find_elements_by_css_selector is deprecated. Please use find_elements(by=By.CSS_SELECTOR, value=css_selector) instead\n",
      "  elems_skills = elem_skill.find_elements_by_css_selector(\"div.pvs-list__outer-container div.display-flex.flex-column.full-width.align-self-center\")\n",
      "C:\\Users\\yong2\\AppData\\Local\\Temp\\ipykernel_28248\\2546454168.py:80: DeprecationWarning: find_elements_by_css_selector is deprecated. Please use find_elements(by=By.CSS_SELECTOR, value=css_selector) instead\n",
      "  spans = elem_skill.find_elements_by_css_selector(\"span.mr1 > span\")\n"
     ]
    },
    {
     "name": "stdout",
     "output_type": "stream",
     "text": [
      "processing https://www.linkedin.com/in/philip-khor\n"
     ]
    },
    {
     "name": "stderr",
     "output_type": "stream",
     "text": [
      "C:\\Users\\yong2\\AppData\\Local\\Temp\\ipykernel_28248\\2546454168.py:18: DeprecationWarning: find_element_by_class_name is deprecated. Please use find_element(by=By.CLASS_NAME, value=name) instead\n",
      "  elem_name = driver.find_element_by_class_name(\"text-heading-xlarge\").text\n",
      "C:\\Users\\yong2\\AppData\\Local\\Temp\\ipykernel_28248\\2546454168.py:19: DeprecationWarning: find_element_by_css_selector is deprecated. Please use find_element(by=By.CSS_SELECTOR, value=css_selector) instead\n",
      "  elem_title = driver.find_element_by_css_selector(\"div.pv-text-details__left-panel > div.text-body-medium\").text\n",
      "C:\\Users\\yong2\\AppData\\Local\\Temp\\ipykernel_28248\\2546454168.py:20: DeprecationWarning: find_element_by_css_selector is deprecated. Please use find_element(by=By.CSS_SELECTOR, value=css_selector) instead\n",
      "  elem_loc = driver.find_element_by_css_selector(\"div.pv-text-details__left-panel > span.text-body-small\").text\n",
      "C:\\Users\\yong2\\AppData\\Local\\Temp\\ipykernel_28248\\2546454168.py:22: DeprecationWarning: find_elements_by_css_selector is deprecated. Please use find_elements(by=By.CSS_SELECTOR, value=css_selector) instead\n",
      "  es_ = driver.find_elements_by_css_selector(\"section.artdeco-card.ember-view.relative.break-words\")\n",
      "C:\\Users\\yong2\\AppData\\Local\\Temp\\ipykernel_28248\\2546454168.py:28: DeprecationWarning: find_elements_by_css_selector is deprecated. Please use find_elements(by=By.CSS_SELECTOR, value=css_selector) instead\n",
      "  div_exps = e_.find_elements_by_css_selector(\"div#experience\")\n",
      "C:\\Users\\yong2\\AppData\\Local\\Temp\\ipykernel_28248\\2546454168.py:35: DeprecationWarning: find_elements_by_css_selector is deprecated. Please use find_elements(by=By.CSS_SELECTOR, value=css_selector) instead\n",
      "  elems_exp = elem_exp.find_elements_by_css_selector(\"div.pvs-list__outer-container div.display-flex.flex-column.full-width.align-self-center\")\n",
      "C:\\Users\\yong2\\AppData\\Local\\Temp\\ipykernel_28248\\2546454168.py:39: DeprecationWarning: find_elements_by_css_selector is deprecated. Please use find_elements(by=By.CSS_SELECTOR, value=css_selector) instead\n",
      "  spans = elem_exp.find_elements_by_css_selector(\"span.t-14 > span\")\n",
      "C:\\Users\\yong2\\AppData\\Local\\Temp\\ipykernel_28248\\2546454168.py:42: DeprecationWarning: find_elements_by_css_selector is deprecated. Please use find_elements(by=By.CSS_SELECTOR, value=css_selector) instead\n",
      "  title_spans = elem_exp.find_elements_by_css_selector(\"span.mr1 > span\")\n",
      "C:\\Users\\yong2\\AppData\\Local\\Temp\\ipykernel_28248\\2546454168.py:50: DeprecationWarning: find_elements_by_css_selector is deprecated. Please use find_elements(by=By.CSS_SELECTOR, value=css_selector) instead\n",
      "  div_edus = e_.find_elements_by_css_selector(\"div#education\")\n",
      "C:\\Users\\yong2\\AppData\\Local\\Temp\\ipykernel_28248\\2546454168.py:57: DeprecationWarning: find_elements_by_css_selector is deprecated. Please use find_elements(by=By.CSS_SELECTOR, value=css_selector) instead\n",
      "  elems_edu = elem_edu.find_elements_by_css_selector(\"div.pvs-list__outer-container div.display-flex.flex-column.full-width.align-self-center\")\n",
      "C:\\Users\\yong2\\AppData\\Local\\Temp\\ipykernel_28248\\2546454168.py:61: DeprecationWarning: find_elements_by_css_selector is deprecated. Please use find_elements(by=By.CSS_SELECTOR, value=css_selector) instead\n",
      "  spans = elem_edu.find_elements_by_css_selector(\"span.t-14 > span\")\n",
      "C:\\Users\\yong2\\AppData\\Local\\Temp\\ipykernel_28248\\2546454168.py:69: DeprecationWarning: find_elements_by_css_selector is deprecated. Please use find_elements(by=By.CSS_SELECTOR, value=css_selector) instead\n",
      "  div_skills = e_.find_elements_by_css_selector(\"div#skills\")\n",
      "C:\\Users\\yong2\\AppData\\Local\\Temp\\ipykernel_28248\\2546454168.py:76: DeprecationWarning: find_elements_by_css_selector is deprecated. Please use find_elements(by=By.CSS_SELECTOR, value=css_selector) instead\n",
      "  elems_skills = elem_skill.find_elements_by_css_selector(\"div.pvs-list__outer-container div.display-flex.flex-column.full-width.align-self-center\")\n",
      "C:\\Users\\yong2\\AppData\\Local\\Temp\\ipykernel_28248\\2546454168.py:80: DeprecationWarning: find_elements_by_css_selector is deprecated. Please use find_elements(by=By.CSS_SELECTOR, value=css_selector) instead\n",
      "  spans = elem_skill.find_elements_by_css_selector(\"span.mr1 > span\")\n"
     ]
    },
    {
     "name": "stdout",
     "output_type": "stream",
     "text": [
      "processing https://www.linkedin.com/in/hui-theng-chew-leong-17119a193\n"
     ]
    },
    {
     "name": "stderr",
     "output_type": "stream",
     "text": [
      "C:\\Users\\yong2\\AppData\\Local\\Temp\\ipykernel_28248\\2546454168.py:18: DeprecationWarning: find_element_by_class_name is deprecated. Please use find_element(by=By.CLASS_NAME, value=name) instead\n",
      "  elem_name = driver.find_element_by_class_name(\"text-heading-xlarge\").text\n",
      "C:\\Users\\yong2\\AppData\\Local\\Temp\\ipykernel_28248\\2546454168.py:19: DeprecationWarning: find_element_by_css_selector is deprecated. Please use find_element(by=By.CSS_SELECTOR, value=css_selector) instead\n",
      "  elem_title = driver.find_element_by_css_selector(\"div.pv-text-details__left-panel > div.text-body-medium\").text\n",
      "C:\\Users\\yong2\\AppData\\Local\\Temp\\ipykernel_28248\\2546454168.py:20: DeprecationWarning: find_element_by_css_selector is deprecated. Please use find_element(by=By.CSS_SELECTOR, value=css_selector) instead\n",
      "  elem_loc = driver.find_element_by_css_selector(\"div.pv-text-details__left-panel > span.text-body-small\").text\n",
      "C:\\Users\\yong2\\AppData\\Local\\Temp\\ipykernel_28248\\2546454168.py:22: DeprecationWarning: find_elements_by_css_selector is deprecated. Please use find_elements(by=By.CSS_SELECTOR, value=css_selector) instead\n",
      "  es_ = driver.find_elements_by_css_selector(\"section.artdeco-card.ember-view.relative.break-words\")\n",
      "C:\\Users\\yong2\\AppData\\Local\\Temp\\ipykernel_28248\\2546454168.py:28: DeprecationWarning: find_elements_by_css_selector is deprecated. Please use find_elements(by=By.CSS_SELECTOR, value=css_selector) instead\n",
      "  div_exps = e_.find_elements_by_css_selector(\"div#experience\")\n",
      "C:\\Users\\yong2\\AppData\\Local\\Temp\\ipykernel_28248\\2546454168.py:35: DeprecationWarning: find_elements_by_css_selector is deprecated. Please use find_elements(by=By.CSS_SELECTOR, value=css_selector) instead\n",
      "  elems_exp = elem_exp.find_elements_by_css_selector(\"div.pvs-list__outer-container div.display-flex.flex-column.full-width.align-self-center\")\n",
      "C:\\Users\\yong2\\AppData\\Local\\Temp\\ipykernel_28248\\2546454168.py:39: DeprecationWarning: find_elements_by_css_selector is deprecated. Please use find_elements(by=By.CSS_SELECTOR, value=css_selector) instead\n",
      "  spans = elem_exp.find_elements_by_css_selector(\"span.t-14 > span\")\n",
      "C:\\Users\\yong2\\AppData\\Local\\Temp\\ipykernel_28248\\2546454168.py:42: DeprecationWarning: find_elements_by_css_selector is deprecated. Please use find_elements(by=By.CSS_SELECTOR, value=css_selector) instead\n",
      "  title_spans = elem_exp.find_elements_by_css_selector(\"span.mr1 > span\")\n",
      "C:\\Users\\yong2\\AppData\\Local\\Temp\\ipykernel_28248\\2546454168.py:50: DeprecationWarning: find_elements_by_css_selector is deprecated. Please use find_elements(by=By.CSS_SELECTOR, value=css_selector) instead\n",
      "  div_edus = e_.find_elements_by_css_selector(\"div#education\")\n",
      "C:\\Users\\yong2\\AppData\\Local\\Temp\\ipykernel_28248\\2546454168.py:57: DeprecationWarning: find_elements_by_css_selector is deprecated. Please use find_elements(by=By.CSS_SELECTOR, value=css_selector) instead\n",
      "  elems_edu = elem_edu.find_elements_by_css_selector(\"div.pvs-list__outer-container div.display-flex.flex-column.full-width.align-self-center\")\n",
      "C:\\Users\\yong2\\AppData\\Local\\Temp\\ipykernel_28248\\2546454168.py:61: DeprecationWarning: find_elements_by_css_selector is deprecated. Please use find_elements(by=By.CSS_SELECTOR, value=css_selector) instead\n",
      "  spans = elem_edu.find_elements_by_css_selector(\"span.t-14 > span\")\n",
      "C:\\Users\\yong2\\AppData\\Local\\Temp\\ipykernel_28248\\2546454168.py:69: DeprecationWarning: find_elements_by_css_selector is deprecated. Please use find_elements(by=By.CSS_SELECTOR, value=css_selector) instead\n",
      "  div_skills = e_.find_elements_by_css_selector(\"div#skills\")\n",
      "C:\\Users\\yong2\\AppData\\Local\\Temp\\ipykernel_28248\\2546454168.py:76: DeprecationWarning: find_elements_by_css_selector is deprecated. Please use find_elements(by=By.CSS_SELECTOR, value=css_selector) instead\n",
      "  elems_skills = elem_skill.find_elements_by_css_selector(\"div.pvs-list__outer-container div.display-flex.flex-column.full-width.align-self-center\")\n",
      "C:\\Users\\yong2\\AppData\\Local\\Temp\\ipykernel_28248\\2546454168.py:80: DeprecationWarning: find_elements_by_css_selector is deprecated. Please use find_elements(by=By.CSS_SELECTOR, value=css_selector) instead\n",
      "  spans = elem_skill.find_elements_by_css_selector(\"span.mr1 > span\")\n"
     ]
    },
    {
     "name": "stdout",
     "output_type": "stream",
     "text": [
      "processing https://www.linkedin.com/in/chungmeng\n"
     ]
    },
    {
     "name": "stderr",
     "output_type": "stream",
     "text": [
      "C:\\Users\\yong2\\AppData\\Local\\Temp\\ipykernel_28248\\2546454168.py:18: DeprecationWarning: find_element_by_class_name is deprecated. Please use find_element(by=By.CLASS_NAME, value=name) instead\n",
      "  elem_name = driver.find_element_by_class_name(\"text-heading-xlarge\").text\n",
      "C:\\Users\\yong2\\AppData\\Local\\Temp\\ipykernel_28248\\2546454168.py:19: DeprecationWarning: find_element_by_css_selector is deprecated. Please use find_element(by=By.CSS_SELECTOR, value=css_selector) instead\n",
      "  elem_title = driver.find_element_by_css_selector(\"div.pv-text-details__left-panel > div.text-body-medium\").text\n",
      "C:\\Users\\yong2\\AppData\\Local\\Temp\\ipykernel_28248\\2546454168.py:20: DeprecationWarning: find_element_by_css_selector is deprecated. Please use find_element(by=By.CSS_SELECTOR, value=css_selector) instead\n",
      "  elem_loc = driver.find_element_by_css_selector(\"div.pv-text-details__left-panel > span.text-body-small\").text\n",
      "C:\\Users\\yong2\\AppData\\Local\\Temp\\ipykernel_28248\\2546454168.py:22: DeprecationWarning: find_elements_by_css_selector is deprecated. Please use find_elements(by=By.CSS_SELECTOR, value=css_selector) instead\n",
      "  es_ = driver.find_elements_by_css_selector(\"section.artdeco-card.ember-view.relative.break-words\")\n",
      "C:\\Users\\yong2\\AppData\\Local\\Temp\\ipykernel_28248\\2546454168.py:28: DeprecationWarning: find_elements_by_css_selector is deprecated. Please use find_elements(by=By.CSS_SELECTOR, value=css_selector) instead\n",
      "  div_exps = e_.find_elements_by_css_selector(\"div#experience\")\n",
      "C:\\Users\\yong2\\AppData\\Local\\Temp\\ipykernel_28248\\2546454168.py:35: DeprecationWarning: find_elements_by_css_selector is deprecated. Please use find_elements(by=By.CSS_SELECTOR, value=css_selector) instead\n",
      "  elems_exp = elem_exp.find_elements_by_css_selector(\"div.pvs-list__outer-container div.display-flex.flex-column.full-width.align-self-center\")\n",
      "C:\\Users\\yong2\\AppData\\Local\\Temp\\ipykernel_28248\\2546454168.py:39: DeprecationWarning: find_elements_by_css_selector is deprecated. Please use find_elements(by=By.CSS_SELECTOR, value=css_selector) instead\n",
      "  spans = elem_exp.find_elements_by_css_selector(\"span.t-14 > span\")\n",
      "C:\\Users\\yong2\\AppData\\Local\\Temp\\ipykernel_28248\\2546454168.py:42: DeprecationWarning: find_elements_by_css_selector is deprecated. Please use find_elements(by=By.CSS_SELECTOR, value=css_selector) instead\n",
      "  title_spans = elem_exp.find_elements_by_css_selector(\"span.mr1 > span\")\n",
      "C:\\Users\\yong2\\AppData\\Local\\Temp\\ipykernel_28248\\2546454168.py:50: DeprecationWarning: find_elements_by_css_selector is deprecated. Please use find_elements(by=By.CSS_SELECTOR, value=css_selector) instead\n",
      "  div_edus = e_.find_elements_by_css_selector(\"div#education\")\n",
      "C:\\Users\\yong2\\AppData\\Local\\Temp\\ipykernel_28248\\2546454168.py:57: DeprecationWarning: find_elements_by_css_selector is deprecated. Please use find_elements(by=By.CSS_SELECTOR, value=css_selector) instead\n",
      "  elems_edu = elem_edu.find_elements_by_css_selector(\"div.pvs-list__outer-container div.display-flex.flex-column.full-width.align-self-center\")\n",
      "C:\\Users\\yong2\\AppData\\Local\\Temp\\ipykernel_28248\\2546454168.py:61: DeprecationWarning: find_elements_by_css_selector is deprecated. Please use find_elements(by=By.CSS_SELECTOR, value=css_selector) instead\n",
      "  spans = elem_edu.find_elements_by_css_selector(\"span.t-14 > span\")\n",
      "C:\\Users\\yong2\\AppData\\Local\\Temp\\ipykernel_28248\\2546454168.py:69: DeprecationWarning: find_elements_by_css_selector is deprecated. Please use find_elements(by=By.CSS_SELECTOR, value=css_selector) instead\n",
      "  div_skills = e_.find_elements_by_css_selector(\"div#skills\")\n",
      "C:\\Users\\yong2\\AppData\\Local\\Temp\\ipykernel_28248\\2546454168.py:76: DeprecationWarning: find_elements_by_css_selector is deprecated. Please use find_elements(by=By.CSS_SELECTOR, value=css_selector) instead\n",
      "  elems_skills = elem_skill.find_elements_by_css_selector(\"div.pvs-list__outer-container div.display-flex.flex-column.full-width.align-self-center\")\n",
      "C:\\Users\\yong2\\AppData\\Local\\Temp\\ipykernel_28248\\2546454168.py:80: DeprecationWarning: find_elements_by_css_selector is deprecated. Please use find_elements(by=By.CSS_SELECTOR, value=css_selector) instead\n",
      "  spans = elem_skill.find_elements_by_css_selector(\"span.mr1 > span\")\n"
     ]
    },
    {
     "name": "stdout",
     "output_type": "stream",
     "text": [
      "processing https://www.linkedin.com/in/thevesh\n"
     ]
    },
    {
     "name": "stderr",
     "output_type": "stream",
     "text": [
      "C:\\Users\\yong2\\AppData\\Local\\Temp\\ipykernel_28248\\2546454168.py:18: DeprecationWarning: find_element_by_class_name is deprecated. Please use find_element(by=By.CLASS_NAME, value=name) instead\n",
      "  elem_name = driver.find_element_by_class_name(\"text-heading-xlarge\").text\n",
      "C:\\Users\\yong2\\AppData\\Local\\Temp\\ipykernel_28248\\2546454168.py:19: DeprecationWarning: find_element_by_css_selector is deprecated. Please use find_element(by=By.CSS_SELECTOR, value=css_selector) instead\n",
      "  elem_title = driver.find_element_by_css_selector(\"div.pv-text-details__left-panel > div.text-body-medium\").text\n",
      "C:\\Users\\yong2\\AppData\\Local\\Temp\\ipykernel_28248\\2546454168.py:20: DeprecationWarning: find_element_by_css_selector is deprecated. Please use find_element(by=By.CSS_SELECTOR, value=css_selector) instead\n",
      "  elem_loc = driver.find_element_by_css_selector(\"div.pv-text-details__left-panel > span.text-body-small\").text\n",
      "C:\\Users\\yong2\\AppData\\Local\\Temp\\ipykernel_28248\\2546454168.py:22: DeprecationWarning: find_elements_by_css_selector is deprecated. Please use find_elements(by=By.CSS_SELECTOR, value=css_selector) instead\n",
      "  es_ = driver.find_elements_by_css_selector(\"section.artdeco-card.ember-view.relative.break-words\")\n",
      "C:\\Users\\yong2\\AppData\\Local\\Temp\\ipykernel_28248\\2546454168.py:28: DeprecationWarning: find_elements_by_css_selector is deprecated. Please use find_elements(by=By.CSS_SELECTOR, value=css_selector) instead\n",
      "  div_exps = e_.find_elements_by_css_selector(\"div#experience\")\n",
      "C:\\Users\\yong2\\AppData\\Local\\Temp\\ipykernel_28248\\2546454168.py:35: DeprecationWarning: find_elements_by_css_selector is deprecated. Please use find_elements(by=By.CSS_SELECTOR, value=css_selector) instead\n",
      "  elems_exp = elem_exp.find_elements_by_css_selector(\"div.pvs-list__outer-container div.display-flex.flex-column.full-width.align-self-center\")\n",
      "C:\\Users\\yong2\\AppData\\Local\\Temp\\ipykernel_28248\\2546454168.py:39: DeprecationWarning: find_elements_by_css_selector is deprecated. Please use find_elements(by=By.CSS_SELECTOR, value=css_selector) instead\n",
      "  spans = elem_exp.find_elements_by_css_selector(\"span.t-14 > span\")\n",
      "C:\\Users\\yong2\\AppData\\Local\\Temp\\ipykernel_28248\\2546454168.py:42: DeprecationWarning: find_elements_by_css_selector is deprecated. Please use find_elements(by=By.CSS_SELECTOR, value=css_selector) instead\n",
      "  title_spans = elem_exp.find_elements_by_css_selector(\"span.mr1 > span\")\n",
      "C:\\Users\\yong2\\AppData\\Local\\Temp\\ipykernel_28248\\2546454168.py:50: DeprecationWarning: find_elements_by_css_selector is deprecated. Please use find_elements(by=By.CSS_SELECTOR, value=css_selector) instead\n",
      "  div_edus = e_.find_elements_by_css_selector(\"div#education\")\n",
      "C:\\Users\\yong2\\AppData\\Local\\Temp\\ipykernel_28248\\2546454168.py:57: DeprecationWarning: find_elements_by_css_selector is deprecated. Please use find_elements(by=By.CSS_SELECTOR, value=css_selector) instead\n",
      "  elems_edu = elem_edu.find_elements_by_css_selector(\"div.pvs-list__outer-container div.display-flex.flex-column.full-width.align-self-center\")\n",
      "C:\\Users\\yong2\\AppData\\Local\\Temp\\ipykernel_28248\\2546454168.py:61: DeprecationWarning: find_elements_by_css_selector is deprecated. Please use find_elements(by=By.CSS_SELECTOR, value=css_selector) instead\n",
      "  spans = elem_edu.find_elements_by_css_selector(\"span.t-14 > span\")\n",
      "C:\\Users\\yong2\\AppData\\Local\\Temp\\ipykernel_28248\\2546454168.py:69: DeprecationWarning: find_elements_by_css_selector is deprecated. Please use find_elements(by=By.CSS_SELECTOR, value=css_selector) instead\n",
      "  div_skills = e_.find_elements_by_css_selector(\"div#skills\")\n",
      "C:\\Users\\yong2\\AppData\\Local\\Temp\\ipykernel_28248\\2546454168.py:76: DeprecationWarning: find_elements_by_css_selector is deprecated. Please use find_elements(by=By.CSS_SELECTOR, value=css_selector) instead\n",
      "  elems_skills = elem_skill.find_elements_by_css_selector(\"div.pvs-list__outer-container div.display-flex.flex-column.full-width.align-self-center\")\n",
      "C:\\Users\\yong2\\AppData\\Local\\Temp\\ipykernel_28248\\2546454168.py:80: DeprecationWarning: find_elements_by_css_selector is deprecated. Please use find_elements(by=By.CSS_SELECTOR, value=css_selector) instead\n",
      "  spans = elem_skill.find_elements_by_css_selector(\"span.mr1 > span\")\n"
     ]
    },
    {
     "name": "stdout",
     "output_type": "stream",
     "text": [
      "processing https://www.linkedin.com/in/abubakar-bala\n"
     ]
    },
    {
     "name": "stderr",
     "output_type": "stream",
     "text": [
      "C:\\Users\\yong2\\AppData\\Local\\Temp\\ipykernel_28248\\2546454168.py:18: DeprecationWarning: find_element_by_class_name is deprecated. Please use find_element(by=By.CLASS_NAME, value=name) instead\n",
      "  elem_name = driver.find_element_by_class_name(\"text-heading-xlarge\").text\n",
      "C:\\Users\\yong2\\AppData\\Local\\Temp\\ipykernel_28248\\2546454168.py:19: DeprecationWarning: find_element_by_css_selector is deprecated. Please use find_element(by=By.CSS_SELECTOR, value=css_selector) instead\n",
      "  elem_title = driver.find_element_by_css_selector(\"div.pv-text-details__left-panel > div.text-body-medium\").text\n",
      "C:\\Users\\yong2\\AppData\\Local\\Temp\\ipykernel_28248\\2546454168.py:20: DeprecationWarning: find_element_by_css_selector is deprecated. Please use find_element(by=By.CSS_SELECTOR, value=css_selector) instead\n",
      "  elem_loc = driver.find_element_by_css_selector(\"div.pv-text-details__left-panel > span.text-body-small\").text\n",
      "C:\\Users\\yong2\\AppData\\Local\\Temp\\ipykernel_28248\\2546454168.py:22: DeprecationWarning: find_elements_by_css_selector is deprecated. Please use find_elements(by=By.CSS_SELECTOR, value=css_selector) instead\n",
      "  es_ = driver.find_elements_by_css_selector(\"section.artdeco-card.ember-view.relative.break-words\")\n",
      "C:\\Users\\yong2\\AppData\\Local\\Temp\\ipykernel_28248\\2546454168.py:28: DeprecationWarning: find_elements_by_css_selector is deprecated. Please use find_elements(by=By.CSS_SELECTOR, value=css_selector) instead\n",
      "  div_exps = e_.find_elements_by_css_selector(\"div#experience\")\n",
      "C:\\Users\\yong2\\AppData\\Local\\Temp\\ipykernel_28248\\2546454168.py:35: DeprecationWarning: find_elements_by_css_selector is deprecated. Please use find_elements(by=By.CSS_SELECTOR, value=css_selector) instead\n",
      "  elems_exp = elem_exp.find_elements_by_css_selector(\"div.pvs-list__outer-container div.display-flex.flex-column.full-width.align-self-center\")\n",
      "C:\\Users\\yong2\\AppData\\Local\\Temp\\ipykernel_28248\\2546454168.py:39: DeprecationWarning: find_elements_by_css_selector is deprecated. Please use find_elements(by=By.CSS_SELECTOR, value=css_selector) instead\n",
      "  spans = elem_exp.find_elements_by_css_selector(\"span.t-14 > span\")\n",
      "C:\\Users\\yong2\\AppData\\Local\\Temp\\ipykernel_28248\\2546454168.py:42: DeprecationWarning: find_elements_by_css_selector is deprecated. Please use find_elements(by=By.CSS_SELECTOR, value=css_selector) instead\n",
      "  title_spans = elem_exp.find_elements_by_css_selector(\"span.mr1 > span\")\n",
      "C:\\Users\\yong2\\AppData\\Local\\Temp\\ipykernel_28248\\2546454168.py:50: DeprecationWarning: find_elements_by_css_selector is deprecated. Please use find_elements(by=By.CSS_SELECTOR, value=css_selector) instead\n",
      "  div_edus = e_.find_elements_by_css_selector(\"div#education\")\n",
      "C:\\Users\\yong2\\AppData\\Local\\Temp\\ipykernel_28248\\2546454168.py:57: DeprecationWarning: find_elements_by_css_selector is deprecated. Please use find_elements(by=By.CSS_SELECTOR, value=css_selector) instead\n",
      "  elems_edu = elem_edu.find_elements_by_css_selector(\"div.pvs-list__outer-container div.display-flex.flex-column.full-width.align-self-center\")\n",
      "C:\\Users\\yong2\\AppData\\Local\\Temp\\ipykernel_28248\\2546454168.py:61: DeprecationWarning: find_elements_by_css_selector is deprecated. Please use find_elements(by=By.CSS_SELECTOR, value=css_selector) instead\n",
      "  spans = elem_edu.find_elements_by_css_selector(\"span.t-14 > span\")\n",
      "C:\\Users\\yong2\\AppData\\Local\\Temp\\ipykernel_28248\\2546454168.py:69: DeprecationWarning: find_elements_by_css_selector is deprecated. Please use find_elements(by=By.CSS_SELECTOR, value=css_selector) instead\n",
      "  div_skills = e_.find_elements_by_css_selector(\"div#skills\")\n"
     ]
    },
    {
     "name": "stdout",
     "output_type": "stream",
     "text": [
      "processing https://www.linkedin.com/in/m%C3%A5rten-bj%C3%B6rketun-12505536\n"
     ]
    },
    {
     "name": "stderr",
     "output_type": "stream",
     "text": [
      "C:\\Users\\yong2\\AppData\\Local\\Temp\\ipykernel_28248\\2546454168.py:18: DeprecationWarning: find_element_by_class_name is deprecated. Please use find_element(by=By.CLASS_NAME, value=name) instead\n",
      "  elem_name = driver.find_element_by_class_name(\"text-heading-xlarge\").text\n",
      "C:\\Users\\yong2\\AppData\\Local\\Temp\\ipykernel_28248\\2546454168.py:19: DeprecationWarning: find_element_by_css_selector is deprecated. Please use find_element(by=By.CSS_SELECTOR, value=css_selector) instead\n",
      "  elem_title = driver.find_element_by_css_selector(\"div.pv-text-details__left-panel > div.text-body-medium\").text\n",
      "C:\\Users\\yong2\\AppData\\Local\\Temp\\ipykernel_28248\\2546454168.py:20: DeprecationWarning: find_element_by_css_selector is deprecated. Please use find_element(by=By.CSS_SELECTOR, value=css_selector) instead\n",
      "  elem_loc = driver.find_element_by_css_selector(\"div.pv-text-details__left-panel > span.text-body-small\").text\n",
      "C:\\Users\\yong2\\AppData\\Local\\Temp\\ipykernel_28248\\2546454168.py:22: DeprecationWarning: find_elements_by_css_selector is deprecated. Please use find_elements(by=By.CSS_SELECTOR, value=css_selector) instead\n",
      "  es_ = driver.find_elements_by_css_selector(\"section.artdeco-card.ember-view.relative.break-words\")\n",
      "C:\\Users\\yong2\\AppData\\Local\\Temp\\ipykernel_28248\\2546454168.py:28: DeprecationWarning: find_elements_by_css_selector is deprecated. Please use find_elements(by=By.CSS_SELECTOR, value=css_selector) instead\n",
      "  div_exps = e_.find_elements_by_css_selector(\"div#experience\")\n",
      "C:\\Users\\yong2\\AppData\\Local\\Temp\\ipykernel_28248\\2546454168.py:35: DeprecationWarning: find_elements_by_css_selector is deprecated. Please use find_elements(by=By.CSS_SELECTOR, value=css_selector) instead\n",
      "  elems_exp = elem_exp.find_elements_by_css_selector(\"div.pvs-list__outer-container div.display-flex.flex-column.full-width.align-self-center\")\n",
      "C:\\Users\\yong2\\AppData\\Local\\Temp\\ipykernel_28248\\2546454168.py:39: DeprecationWarning: find_elements_by_css_selector is deprecated. Please use find_elements(by=By.CSS_SELECTOR, value=css_selector) instead\n",
      "  spans = elem_exp.find_elements_by_css_selector(\"span.t-14 > span\")\n",
      "C:\\Users\\yong2\\AppData\\Local\\Temp\\ipykernel_28248\\2546454168.py:42: DeprecationWarning: find_elements_by_css_selector is deprecated. Please use find_elements(by=By.CSS_SELECTOR, value=css_selector) instead\n",
      "  title_spans = elem_exp.find_elements_by_css_selector(\"span.mr1 > span\")\n",
      "C:\\Users\\yong2\\AppData\\Local\\Temp\\ipykernel_28248\\2546454168.py:50: DeprecationWarning: find_elements_by_css_selector is deprecated. Please use find_elements(by=By.CSS_SELECTOR, value=css_selector) instead\n",
      "  div_edus = e_.find_elements_by_css_selector(\"div#education\")\n",
      "C:\\Users\\yong2\\AppData\\Local\\Temp\\ipykernel_28248\\2546454168.py:57: DeprecationWarning: find_elements_by_css_selector is deprecated. Please use find_elements(by=By.CSS_SELECTOR, value=css_selector) instead\n",
      "  elems_edu = elem_edu.find_elements_by_css_selector(\"div.pvs-list__outer-container div.display-flex.flex-column.full-width.align-self-center\")\n",
      "C:\\Users\\yong2\\AppData\\Local\\Temp\\ipykernel_28248\\2546454168.py:61: DeprecationWarning: find_elements_by_css_selector is deprecated. Please use find_elements(by=By.CSS_SELECTOR, value=css_selector) instead\n",
      "  spans = elem_edu.find_elements_by_css_selector(\"span.t-14 > span\")\n",
      "C:\\Users\\yong2\\AppData\\Local\\Temp\\ipykernel_28248\\2546454168.py:69: DeprecationWarning: find_elements_by_css_selector is deprecated. Please use find_elements(by=By.CSS_SELECTOR, value=css_selector) instead\n",
      "  div_skills = e_.find_elements_by_css_selector(\"div#skills\")\n",
      "C:\\Users\\yong2\\AppData\\Local\\Temp\\ipykernel_28248\\2546454168.py:76: DeprecationWarning: find_elements_by_css_selector is deprecated. Please use find_elements(by=By.CSS_SELECTOR, value=css_selector) instead\n",
      "  elems_skills = elem_skill.find_elements_by_css_selector(\"div.pvs-list__outer-container div.display-flex.flex-column.full-width.align-self-center\")\n",
      "C:\\Users\\yong2\\AppData\\Local\\Temp\\ipykernel_28248\\2546454168.py:80: DeprecationWarning: find_elements_by_css_selector is deprecated. Please use find_elements(by=By.CSS_SELECTOR, value=css_selector) instead\n",
      "  spans = elem_skill.find_elements_by_css_selector(\"span.mr1 > span\")\n"
     ]
    },
    {
     "name": "stdout",
     "output_type": "stream",
     "text": [
      "processing https://www.linkedin.com/in/bh-tan\n"
     ]
    },
    {
     "name": "stderr",
     "output_type": "stream",
     "text": [
      "C:\\Users\\yong2\\AppData\\Local\\Temp\\ipykernel_28248\\2546454168.py:18: DeprecationWarning: find_element_by_class_name is deprecated. Please use find_element(by=By.CLASS_NAME, value=name) instead\n",
      "  elem_name = driver.find_element_by_class_name(\"text-heading-xlarge\").text\n",
      "C:\\Users\\yong2\\AppData\\Local\\Temp\\ipykernel_28248\\2546454168.py:19: DeprecationWarning: find_element_by_css_selector is deprecated. Please use find_element(by=By.CSS_SELECTOR, value=css_selector) instead\n",
      "  elem_title = driver.find_element_by_css_selector(\"div.pv-text-details__left-panel > div.text-body-medium\").text\n",
      "C:\\Users\\yong2\\AppData\\Local\\Temp\\ipykernel_28248\\2546454168.py:20: DeprecationWarning: find_element_by_css_selector is deprecated. Please use find_element(by=By.CSS_SELECTOR, value=css_selector) instead\n",
      "  elem_loc = driver.find_element_by_css_selector(\"div.pv-text-details__left-panel > span.text-body-small\").text\n",
      "C:\\Users\\yong2\\AppData\\Local\\Temp\\ipykernel_28248\\2546454168.py:22: DeprecationWarning: find_elements_by_css_selector is deprecated. Please use find_elements(by=By.CSS_SELECTOR, value=css_selector) instead\n",
      "  es_ = driver.find_elements_by_css_selector(\"section.artdeco-card.ember-view.relative.break-words\")\n",
      "C:\\Users\\yong2\\AppData\\Local\\Temp\\ipykernel_28248\\2546454168.py:28: DeprecationWarning: find_elements_by_css_selector is deprecated. Please use find_elements(by=By.CSS_SELECTOR, value=css_selector) instead\n",
      "  div_exps = e_.find_elements_by_css_selector(\"div#experience\")\n",
      "C:\\Users\\yong2\\AppData\\Local\\Temp\\ipykernel_28248\\2546454168.py:35: DeprecationWarning: find_elements_by_css_selector is deprecated. Please use find_elements(by=By.CSS_SELECTOR, value=css_selector) instead\n",
      "  elems_exp = elem_exp.find_elements_by_css_selector(\"div.pvs-list__outer-container div.display-flex.flex-column.full-width.align-self-center\")\n",
      "C:\\Users\\yong2\\AppData\\Local\\Temp\\ipykernel_28248\\2546454168.py:39: DeprecationWarning: find_elements_by_css_selector is deprecated. Please use find_elements(by=By.CSS_SELECTOR, value=css_selector) instead\n",
      "  spans = elem_exp.find_elements_by_css_selector(\"span.t-14 > span\")\n",
      "C:\\Users\\yong2\\AppData\\Local\\Temp\\ipykernel_28248\\2546454168.py:42: DeprecationWarning: find_elements_by_css_selector is deprecated. Please use find_elements(by=By.CSS_SELECTOR, value=css_selector) instead\n",
      "  title_spans = elem_exp.find_elements_by_css_selector(\"span.mr1 > span\")\n",
      "C:\\Users\\yong2\\AppData\\Local\\Temp\\ipykernel_28248\\2546454168.py:50: DeprecationWarning: find_elements_by_css_selector is deprecated. Please use find_elements(by=By.CSS_SELECTOR, value=css_selector) instead\n",
      "  div_edus = e_.find_elements_by_css_selector(\"div#education\")\n",
      "C:\\Users\\yong2\\AppData\\Local\\Temp\\ipykernel_28248\\2546454168.py:57: DeprecationWarning: find_elements_by_css_selector is deprecated. Please use find_elements(by=By.CSS_SELECTOR, value=css_selector) instead\n",
      "  elems_edu = elem_edu.find_elements_by_css_selector(\"div.pvs-list__outer-container div.display-flex.flex-column.full-width.align-self-center\")\n",
      "C:\\Users\\yong2\\AppData\\Local\\Temp\\ipykernel_28248\\2546454168.py:61: DeprecationWarning: find_elements_by_css_selector is deprecated. Please use find_elements(by=By.CSS_SELECTOR, value=css_selector) instead\n",
      "  spans = elem_edu.find_elements_by_css_selector(\"span.t-14 > span\")\n",
      "C:\\Users\\yong2\\AppData\\Local\\Temp\\ipykernel_28248\\2546454168.py:69: DeprecationWarning: find_elements_by_css_selector is deprecated. Please use find_elements(by=By.CSS_SELECTOR, value=css_selector) instead\n",
      "  div_skills = e_.find_elements_by_css_selector(\"div#skills\")\n",
      "C:\\Users\\yong2\\AppData\\Local\\Temp\\ipykernel_28248\\2546454168.py:76: DeprecationWarning: find_elements_by_css_selector is deprecated. Please use find_elements(by=By.CSS_SELECTOR, value=css_selector) instead\n",
      "  elems_skills = elem_skill.find_elements_by_css_selector(\"div.pvs-list__outer-container div.display-flex.flex-column.full-width.align-self-center\")\n",
      "C:\\Users\\yong2\\AppData\\Local\\Temp\\ipykernel_28248\\2546454168.py:80: DeprecationWarning: find_elements_by_css_selector is deprecated. Please use find_elements(by=By.CSS_SELECTOR, value=css_selector) instead\n",
      "  spans = elem_skill.find_elements_by_css_selector(\"span.mr1 > span\")\n"
     ]
    },
    {
     "name": "stdout",
     "output_type": "stream",
     "text": [
      "processing https://www.linkedin.com/in/aqilahrose\n"
     ]
    },
    {
     "name": "stderr",
     "output_type": "stream",
     "text": [
      "C:\\Users\\yong2\\AppData\\Local\\Temp\\ipykernel_28248\\2546454168.py:18: DeprecationWarning: find_element_by_class_name is deprecated. Please use find_element(by=By.CLASS_NAME, value=name) instead\n",
      "  elem_name = driver.find_element_by_class_name(\"text-heading-xlarge\").text\n",
      "C:\\Users\\yong2\\AppData\\Local\\Temp\\ipykernel_28248\\2546454168.py:19: DeprecationWarning: find_element_by_css_selector is deprecated. Please use find_element(by=By.CSS_SELECTOR, value=css_selector) instead\n",
      "  elem_title = driver.find_element_by_css_selector(\"div.pv-text-details__left-panel > div.text-body-medium\").text\n",
      "C:\\Users\\yong2\\AppData\\Local\\Temp\\ipykernel_28248\\2546454168.py:20: DeprecationWarning: find_element_by_css_selector is deprecated. Please use find_element(by=By.CSS_SELECTOR, value=css_selector) instead\n",
      "  elem_loc = driver.find_element_by_css_selector(\"div.pv-text-details__left-panel > span.text-body-small\").text\n",
      "C:\\Users\\yong2\\AppData\\Local\\Temp\\ipykernel_28248\\2546454168.py:22: DeprecationWarning: find_elements_by_css_selector is deprecated. Please use find_elements(by=By.CSS_SELECTOR, value=css_selector) instead\n",
      "  es_ = driver.find_elements_by_css_selector(\"section.artdeco-card.ember-view.relative.break-words\")\n",
      "C:\\Users\\yong2\\AppData\\Local\\Temp\\ipykernel_28248\\2546454168.py:28: DeprecationWarning: find_elements_by_css_selector is deprecated. Please use find_elements(by=By.CSS_SELECTOR, value=css_selector) instead\n",
      "  div_exps = e_.find_elements_by_css_selector(\"div#experience\")\n",
      "C:\\Users\\yong2\\AppData\\Local\\Temp\\ipykernel_28248\\2546454168.py:35: DeprecationWarning: find_elements_by_css_selector is deprecated. Please use find_elements(by=By.CSS_SELECTOR, value=css_selector) instead\n",
      "  elems_exp = elem_exp.find_elements_by_css_selector(\"div.pvs-list__outer-container div.display-flex.flex-column.full-width.align-self-center\")\n",
      "C:\\Users\\yong2\\AppData\\Local\\Temp\\ipykernel_28248\\2546454168.py:39: DeprecationWarning: find_elements_by_css_selector is deprecated. Please use find_elements(by=By.CSS_SELECTOR, value=css_selector) instead\n",
      "  spans = elem_exp.find_elements_by_css_selector(\"span.t-14 > span\")\n",
      "C:\\Users\\yong2\\AppData\\Local\\Temp\\ipykernel_28248\\2546454168.py:42: DeprecationWarning: find_elements_by_css_selector is deprecated. Please use find_elements(by=By.CSS_SELECTOR, value=css_selector) instead\n",
      "  title_spans = elem_exp.find_elements_by_css_selector(\"span.mr1 > span\")\n",
      "C:\\Users\\yong2\\AppData\\Local\\Temp\\ipykernel_28248\\2546454168.py:50: DeprecationWarning: find_elements_by_css_selector is deprecated. Please use find_elements(by=By.CSS_SELECTOR, value=css_selector) instead\n",
      "  div_edus = e_.find_elements_by_css_selector(\"div#education\")\n",
      "C:\\Users\\yong2\\AppData\\Local\\Temp\\ipykernel_28248\\2546454168.py:57: DeprecationWarning: find_elements_by_css_selector is deprecated. Please use find_elements(by=By.CSS_SELECTOR, value=css_selector) instead\n",
      "  elems_edu = elem_edu.find_elements_by_css_selector(\"div.pvs-list__outer-container div.display-flex.flex-column.full-width.align-self-center\")\n",
      "C:\\Users\\yong2\\AppData\\Local\\Temp\\ipykernel_28248\\2546454168.py:61: DeprecationWarning: find_elements_by_css_selector is deprecated. Please use find_elements(by=By.CSS_SELECTOR, value=css_selector) instead\n",
      "  spans = elem_edu.find_elements_by_css_selector(\"span.t-14 > span\")\n"
     ]
    },
    {
     "name": "stdout",
     "output_type": "stream",
     "text": [
      "[{'link': 'https://www.linkedin.com/in/yx-00168', 'name': 'NG YING GI', 'current_title': 'Data Scientist at Top Glove', 'current_location': 'Penang, Malaysia', 'exps': [{'titles': ['Data Scientist'], 'exp': ['Top Glove · Full-time', 'Mar 2021 - Present · 1 yr 6 mos', 'Kulim, Kedah, Malaysia']}, {'titles': ['Data Reporting Analyst'], 'exp': ['Seagate Technology · Internship', 'Sep 2020 - Jan 2021 · 5 mos', 'Bayan Lepas, Penang, Malaysia']}, {'titles': ['Retail Sales Associate'], 'exp': ['Superdry Restoration, Inc · Part-time', 'Jun 2018 - Aug 2018 · 3 mos', 'Penang, Malaysia']}, {'titles': ['Retail Sales Associate'], 'exp': ['Chocolicious-the-chocolate · Full-time', 'Dec 2016 - Aug 2017 · 9 mos', 'Penang, Malaysia']}], 'edus': [['Bachelor of Computer Science, Data Science', 'Sep 2017 - Sep 2021']], 'skills': [['Machine Learning'], ['Hadoop'], ['PySpark']]}, {'link': 'https://www.linkedin.com/in/kexin-lee-222374122', 'name': 'Kexin Lee', 'current_title': 'Business Sr Analyst | Sr Data Analyst | Data Scientist | Project Program Management Advisor | Mentor | Dancer', 'current_location': 'Bayan Lepas, Penang, Malaysia', 'exps': [{'titles': ['Dell Technologies', 'Project Program Management Advisor', 'Senior Engineer, Technical Support', 'Project Program Management Sr Analyst'], 'exp': ['Full-time · 6 yrs 8 mos', 'Sep 2021 - Present · 1 yr', 'Bayan Lepas, Penang, Malaysia', 'Apr 2020 - Sep 2021 · 1 yr 6 mos', 'Bayan Lepas, Penang, Malaysia', 'Aug 2018 - Apr 2020 · 1 yr 9 mos', 'Bayan Lepas, Penang, Malaysia']}, {'titles': ['Project Program Management Advisor'], 'exp': ['Sep 2021 - Present · 1 yr', 'Bayan Lepas, Penang, Malaysia']}, {'titles': ['Senior Engineer, Technical Support'], 'exp': ['Apr 2020 - Sep 2021 · 1 yr 6 mos', 'Bayan Lepas, Penang, Malaysia']}, {'titles': ['Project Program Management Sr Analyst'], 'exp': ['Aug 2018 - Apr 2020 · 1 yr 9 mos', 'Bayan Lepas, Penang, Malaysia']}, {'titles': ['Front Office Agent'], 'exp': ['Resorts World Genting', 'Aug 2013 - Mar 2014 · 8 mos', 'Pahang, Malaysia']}], 'edus': [[\"Master's degree, Mathematics\", '2014 - 2015'], ['Bachelor of Science (B.Sc.), Computational Mathematics', '2010 - 2013']], 'skills': [['Program Management'], ['Leadership'], ['Data Analysis']]}, {'link': 'https://www.linkedin.com/in/daniel-yusoff-a40a4b166', 'name': 'Daniel Yusoff', 'current_title': 'R&D Data Scientist at Keysight Technologies', 'current_location': 'Penang, Malaysia', 'exps': [{'titles': ['R&D Data Scientist'], 'exp': ['Keysight Technologies', 'Feb 2021 - Present · 1 yr 7 mos', 'Malaysia']}, {'titles': ['Data Research Analyst'], 'exp': ['Universiti Sains Malaysia · Internship', 'Jun 2019 - Aug 2019 · 3 mos', 'Penang, Malaysia']}], 'edus': [['Masters of Data Science, Data Science & Engineering', '2020 - 2022'], ['Microdegree, Software Development & Test', 'Oct 2021'], ['Bachelor of Engineering, Aerospace', '2016 - 2020']], 'skills': [['Microsoft SQL Server'], ['Data Warehousing'], ['Python (Programming Language)']]}, {'link': 'https://www.linkedin.com/in/thkhaw', 'name': 'Thean Hong Khaw', 'current_title': 'Data Scientist at OSRAM OS', 'current_location': 'Penang, Malaysia', 'exps': [{'titles': ['Data Scientist'], 'exp': ['OSRAM', 'Apr 2017 - Present · 5 yrs 5 mos', 'Malaysia']}, {'titles': ['Senior Staff Engineer'], 'exp': ['Seagate Technology', '2011 - 2017 · 6 yrs', 'Penang, Malaysia']}, {'titles': ['Seagate Technology', 'Staff Engineer', 'Engineer I, Engineer II, Senior Engineer'], 'exp': ['11 yrs 1 mo', '2006 - 2010 · 4 yrs', 'Penang, Malaysia', '1999 - 2006 · 7 yrs', 'Penang, Malaysia']}, {'titles': ['Staff Engineer'], 'exp': ['2006 - 2010 · 4 yrs', 'Penang, Malaysia']}, {'titles': ['Engineer I, Engineer II, Senior Engineer'], 'exp': ['1999 - 2006 · 7 yrs', 'Penang, Malaysia']}], 'edus': [['Bachelor of Engineering (B.E.), Electrical and Electronics Engineering', '1999']], 'skills': [['Big Data Analytics'], ['Microsoft Power BI'], ['Machine Learning']]}, {'link': 'https://www.linkedin.com/in/ngkeanchew', 'name': 'Ng Kean Chew', 'current_title': 'Data Scientist', 'current_location': 'Penang, Malaysia', 'exps': [{'titles': ['Data Analyst, Data Analytics'], 'exp': ['Etiqa Insurance and Takaful · Full-time', 'Nov 2018 - Present · 3 yrs 10 mos', 'Kuala Lumpur, Malaysia']}, {'titles': ['Fusionex International', 'Senior Data Scientist', 'Data Scientist'], 'exp': ['Full-time · 3 yrs 2 mos', 'Petaling Jaya, Selangor, Malaysia', 'May 2017 - Oct 2018 · 1 yr 6 mos', 'Sep 2015 - Apr 2017 · 1 yr 8 mos']}, {'titles': ['Senior Data Scientist'], 'exp': ['May 2017 - Oct 2018 · 1 yr 6 mos']}, {'titles': ['Data Scientist'], 'exp': ['Sep 2015 - Apr 2017 · 1 yr 8 mos']}, {'titles': ['Internship (Data Analyst)'], 'exp': ['TAL Apparel Limited · Internship', 'Oct 2013 - Dec 2013 · 3 mos', 'Perak, Malaysia']}], 'edus': [['Bachelor of Science (HONS), Statistical Computing and Operations Research', '2011 - 2015']], 'skills': [['Python'], ['R'], ['Machine Learning']]}, {'link': 'https://www.linkedin.com/in/meng-kuan-lee-1089', 'name': 'Meng kuan Lee (Mario)', 'current_title': 'Data Scientist at OSRAM', 'current_location': 'Kedah, Malaysia', 'exps': [{'titles': ['Data Scientist'], 'exp': ['OSRAM · Full-time', 'Apr 2022 - Present · 5 mos', 'Bayan Lepas, Penang, Malaysia']}, {'titles': ['Data Analyst'], 'exp': ['Intel Corporation · Internship', 'Sep 2021 - Mar 2022 · 7 mos', 'Kulim, Kedah, Malaysia']}, {'titles': ['SMT (Surface Mount Technology), Packaging Engineering'], 'exp': ['Western Digital · Internship', 'Jun 2020 - Sep 2020 · 4 mos', 'Penang, Malaysia']}], 'edus': [[\"Master's degree, Data Science & Analytics\", '2020 - 2022'], ['Bachelor of Engineering - BE, Aerospace, Aeronautical and Astronautical Engineering', '2017 - 2020']], 'skills': [['Engineering'], ['English'], ['Communication']]}, {'link': 'https://www.linkedin.com/in/chiqin-lai-phd-4568a2119', 'name': 'chiqin, Lai, PhD', 'current_title': 'Senior Data Scientist at Intel Cooperation', 'current_location': 'Penang, Malaysia', 'exps': [{'titles': ['Senior Data Scientist'], 'exp': ['Intel Corporation · Full-time', 'Feb 2022 - Present · 7 mos', 'Penang, Malaysia']}, {'titles': ['Senior Lecturer'], 'exp': ['Peninsula College Malaysia · Full-time', 'Feb 2021 - Feb 2022 · 1 yr 1 mo']}, {'titles': ['Graduate Research Assistant (Phd)'], 'exp': ['Universiti Sains Malaysia', 'Feb 2017 - Jan 2020 · 3 yrs', 'Nibong Tebal, Penang']}, {'titles': ['Product Developement Engineer'], 'exp': ['Intel Corporation', 'Apr 2016 - Apr 2017 · 1 yr 1 mo']}], 'edus': [['Doctor of Philosophy - PhD, Artificial Intelligence', 'Feb 2017 - Sep 2020'], [\"Master's degree, Electrical and Electronics Engineering\", '2013 - 2016']], 'skills': [['Engineering'], ['English'], ['Communication']]}, {'link': 'https://www.linkedin.com/in/isaac-tan-how-ann-98147918a', 'name': 'Isaac Tan How Ann', 'current_title': 'Junior Data scientist | Full Stack developer | Web developer | Smart contract developer | 3D web developer', 'current_location': 'Butterworth, Penang, Malaysia', 'exps': [{'titles': ['Data Scientist'], 'exp': ['RPA Plus · Full-time', 'Apr 2022 - Present · 5 mos', 'Malaysia']}, {'titles': ['Data Scientist'], 'exp': ['12Make Sdn Bhd · Full-time', 'Oct 2021 - Apr 2022 · 7 mos', 'Penang, Malaysia']}], 'edus': [[\"Master's degree, Business Information System\", '2019 - 2021'], [\"Bachelor's degree, Finance, General\", '2018 - 2018'], [\"Bachelor's degree, Finance, General\", '2016 - 2018']], 'skills': [['SQL'], ['Machine Learning'], ['Solidity']]}, {'link': 'https://www.linkedin.com/in/jing-yi-ong-mango1105', 'name': 'Jing Yi Ong', 'current_title': 'Data Scientist', 'current_location': 'Ipoh, Perak, Malaysia', 'exps': [{'titles': ['Data Analyst'], 'exp': ['BH Global Advisers Sdn Bhd · Internship', 'Oct 2019 - Dec 2019 · 3 mos', 'Kuala Lumpur, Federal Territory of Kuala Lumpur, Malaysia']}], 'edus': [[\"Bachelor's degree, Statistical Computing and Operation Research\", '2017 - 2020']], 'skills': [['Risk Analytics'], ['Quantitative Analytics'], ['C++']]}, {'link': 'https://www.linkedin.com/in/vishal-singh-27a37838', 'name': 'Vishal Singh', 'current_title': 'Staff Data Scientist at Seagate Technology', 'current_location': 'Mukim 12 (Bayan Lepas), Penang, Malaysia', 'exps': [{'titles': ['Seagate Technology', 'Staff Data Scientist', 'Senior Data Scientist'], 'exp': ['Full-time · 3 yrs 4 mos', 'Aug 2021 - Present · 1 yr 1 mo', 'May 2019 - Aug 2021 · 2 yrs 4 mos']}, {'titles': ['Staff Data Scientist'], 'exp': ['Aug 2021 - Present · 1 yr 1 mo']}, {'titles': ['Senior Data Scientist'], 'exp': ['May 2019 - Aug 2021 · 2 yrs 4 mos']}, {'titles': ['Data Scientist'], 'exp': ['AXA Partners', 'Oct 2018 - Apr 2019 · 7 mos', 'Petaling Jaya, Selangor, Malaysia']}, {'titles': ['Research Associate'], 'exp': ['Universiti Sains Malaysia', 'May 2015 - Sep 2018 · 3 yrs 5 mos']}, {'titles': ['Research Assistant'], 'exp': ['University of Toronto Institute for Aerospace Studies', 'Sep 2012 - Oct 2014 · 2 yrs 2 mos', 'Toronto, Canada Area']}, {'titles': ['Mechanical Engineer Research Assistant'], 'exp': ['McMaster University', 'Apr 2012 - Aug 2012 · 5 mos', 'Hamilton']}], 'edus': [['Nanodegree, Data Structures and Algorithms', '2020 - 2020'], [\"Master's of Applied Science, Aerospace Engineering\", '2012 - 2014'], ['Bachelor; of, Mechanical Engineering and Co-op; 2011', '2006 - 2011']], 'skills': [['Finite Element Analysis'], ['CFD'], ['Fortran']]}, {'link': 'https://www.linkedin.com/in/hariharan-muniandy-88a84817a', 'name': 'Hariharan Muniandy', 'current_title': 'Data Scientist | Geo Scientist | Content Creator', 'current_location': 'Bukit Mertajam, Penang, Malaysia', 'exps': [{'titles': ['The Center of Applied Data Science (CADS)', 'Data Scientist', 'Associate'], 'exp': ['Full-time · 9 mos', 'Apr 2022 - Present · 5 mos', 'Kuala Lumpur, Federal Territory of Kuala Lumpur, Malaysia', 'Dec 2021 - May 2022 · 6 mos']}, {'titles': ['Data Scientist'], 'exp': ['Apr 2022 - Present · 5 mos', 'Kuala Lumpur, Federal Territory of Kuala Lumpur, Malaysia']}, {'titles': ['Associate'], 'exp': ['Dec 2021 - May 2022 · 6 mos']}, {'titles': ['Geophysicist Intern'], 'exp': ['CGG · Internship', 'Jan 2020 - Aug 2020 · 8 mos', 'Kuala Lumpur, KL, Malaysia']}], 'edus': [['Bachelor of Science - BS, Petroleum Geoscience (Geophysics)', '2017 - 2021'], ['Exchange Program', 'Jan 2018 - Jun 2018'], ['SPM', '2014 - 2015']], 'skills': [['Linux'], ['Seismic Imaging'], ['Stratigraphy']]}, {'link': 'https://www.linkedin.com/in/muhamad-haris-idris-463bb6114', 'name': 'Muhamad Haris Idris', 'current_title': 'Data Scientist at Continental Automotive Components Malaysia Sdn Bhd', 'current_location': 'Perai, Penang, Malaysia', 'exps': [{'titles': ['Data Scientist'], 'exp': ['Continental · Full-time', 'May 2018 - Present · 4 yrs 4 mos', 'Penang, Malaysia']}, {'titles': ['Python programming trainer (HRDF Certified)'], 'exp': ['Life Success Program Sdn Bhd ', 'Jan 2018 - Apr 2018 · 4 mos', 'Kuala Lumpur, Malaysia']}, {'titles': ['Data Scientist'], 'exp': ['ASEAN Data Analytics Exchange (ADAX) · Internship', 'Sep 2017 - Jan 2018 · 5 mos', 'Kuala Lumpur, Malaysia']}, {'titles': ['Mechanical Engineer'], 'exp': ['Sum Hing Engineering Sdn. Bhd', 'Jul 2015 - Jan 2017 · 1 yr 7 mos', 'cheras']}, {'titles': ['Final Year Student'], 'exp': ['RHEEM NEW ZEALAND LIMITED', 'Mar 2014 - Oct 2014 · 8 mos', 'Auckland, New Zealand']}], 'edus': [['Master of Science - MS, Data Science and Analytics', 'Feb 2019 - Feb 2021'], ['Bachelor’s Degree, Mechanical Engineering', '2011 - 2014']], 'skills': [['Mechanical Engineering'], ['Machine Learning Algorithms'], ['Machine Learning']]}, {'link': 'https://www.linkedin.com/in/philip-khor', 'name': 'Philip K.', 'current_title': 'Data Scientist', 'current_location': 'Penang, Malaysia', 'exps': [{'titles': ['Risk - Retail Modelling'], 'exp': ['CIMB · Full-time', 'Mar 2020 - May 2022 · 2 yrs 3 mos', 'Federal Territory of Kuala Lumpur, Malaysia']}, {'titles': ['Technical Writer'], 'exp': ['Skymind AI Berhad · Full-time', 'Oct 2019 - Dec 2019 · 3 mos', 'Penang, Malaysia']}, {'titles': ['Data Science Intern'], 'exp': ['GRID inc. · Internship', 'May 2019 - Aug 2019 · 4 mos', 'Tokyo, Japan']}, {'titles': ['Data Scientist Associate'], 'exp': ['The Center of Applied Data Science · Full-time', 'Jul 2018 - Apr 2019 · 10 mos', 'Kuala Lumpur, Malaysia']}, {'titles': ['Data Scientist Trainee'], 'exp': ['ASEAN Data Analytics Exchange (ADAX)', 'Feb 2018 - Jun 2018 · 5 mos', 'Kuala Lumpur, Malaysia']}], 'edus': [['Bachelor of Commerce (Honours), Economics', '2017 - 2018'], [\"Bachelor of Commerce (BCom), Dean's Scholar, Economics\", '2014 - Jun 2016'], ['Diploma in Business Studies, Accounting', '2012 - 2014']], 'skills': [['Data Analysis'], ['Machine Learning'], ['R (Programming Language)']]}, {'link': 'https://www.linkedin.com/in/hui-theng-chew-leong-17119a193', 'name': 'Hui Theng Chew Leong', 'current_title': 'Data Science, Big Data and Machine Learning Enthusiast', 'current_location': 'Mukim 18 (Tanjong Tokong), Penang, Malaysia', 'exps': [{'titles': ['Intel Corporation', 'Data Scientist', 'Graduate Engineering Trainee'], 'exp': ['Full-time · 3 yrs 10 mos', 'Feb 2020 - Present · 2 yrs 7 mos', 'Nov 2018 - Feb 2020 · 1 yr 4 mos', 'Penang, Malaysia']}, {'titles': ['Data Scientist'], 'exp': ['Feb 2020 - Present · 2 yrs 7 mos']}, {'titles': ['Graduate Engineering Trainee'], 'exp': ['Nov 2018 - Feb 2020 · 1 yr 4 mos', 'Penang, Malaysia']}, {'titles': ['Software Engineer'], 'exp': ['ENI tech Sdn Bhd', 'Feb 2017 - Jul 2018 · 1 yr 6 mos']}, {'titles': ['Graduate Engineering Trainee'], 'exp': ['Intel Corporation', 'Jan 2016 - Jan 2017 · 1 yr 1 mo']}, {'titles': ['Engineer Intern'], 'exp': ['Vitrox · Internship', 'Feb 2015 - Aug 2015 · 7 mos']}], 'edus': [['Master of Science - MS Data Science and Analytics, Data Science', '2018 - 2020'], [\"Bachelor's degree, Computer Science (Software Engineering)\", '2011 - 2015']], 'skills': [['R (Programming Language)'], ['SQL'], ['Artificial Intelligence (AI)']]}, {'link': 'https://www.linkedin.com/in/chungmeng', 'name': 'Chung Meng Lim', 'current_title': 'Data Scientist at Omnilytics', 'current_location': 'Greater Kuala Lumpur', 'exps': [{'titles': ['Data Scientist'], 'exp': ['Omnilytics', 'Apr 2018 - Present · 4 yrs 5 mos']}, {'titles': ['Data Scientist'], 'exp': ['NYC Data Science Academy', 'Oct 2017 - Jan 2018 · 4 mos']}, {'titles': ['Staff Circuit Design Engineer'], 'exp': ['eASIC', 'Mar 2010 - Sep 2017 · 7 yrs 7 mos', 'Penang, Malaysia']}, {'titles': ['Circuit Design Engineer'], 'exp': ['Altera', 'Oct 2007 - Feb 2010 · 2 yrs 5 mos', 'Penang, Malaysia']}], 'edus': [[\"Master's degree, Electrical and Electronics Engineering\", '2003 - 2007']], 'skills': [['Machine Learning'], ['R'], ['Python']]}, {'link': 'https://www.linkedin.com/in/thevesh', 'name': 'Thevesh Theva', 'current_title': 'Economist + Data Scientist', 'current_location': 'Bayan Lepas, Penang, Malaysia', 'exps': [{'titles': ['Bank Negara Malaysia', 'Economist', 'Associate Economist'], 'exp': ['3 yrs', 'Full-time', 'May 2021 - Present · 1 yr 4 mos', 'Sep 2019 - May 2021 · 1 yr 9 mos', 'Kuala Lumpur, Malaysia']}, {'titles': ['Economist'], 'exp': ['Full-time', 'May 2021 - Present · 1 yr 4 mos']}, {'titles': ['Associate Economist'], 'exp': ['Sep 2019 - May 2021 · 1 yr 9 mos', 'Kuala Lumpur, Malaysia']}, {'titles': ['Economics Tutor'], 'exp': ['EconomyRice', 'Jul 2017 - Present · 5 yrs 2 mos']}, {'titles': ['Perdana Fellow to the Minister of Finance'], 'exp': ['Ministry of Finance (Malaysia)', 'Aug 2018 - Sep 2018 · 2 mos']}, {'titles': ['Intern'], 'exp': ['Bank Negara Malaysia', 'Jul 2017 - Aug 2017 · 2 mos']}, {'titles': ['Intern'], 'exp': ['Penang Institute', 'Jul 2015 - Aug 2015 · 2 mos', 'Penang, Malaysia']}], 'edus': [['Bachelor of Arts - BA, Economics', '2016 - 2019'], ['A-levels', '2014 - 2016'], ['SPM (Malaysian O-level equivalent)', '2009 - 2013']], 'skills': [['Economics'], ['Public Speaking'], ['Leadership']]}, {'link': 'https://www.linkedin.com/in/abubakar-bala', 'name': 'Abubakar Bala', 'current_title': 'Data scientist | Python | Storyteller |', 'current_location': 'Teronoh, Perak, Malaysia', 'exps': [{'titles': ['Research Scientist'], 'exp': ['Universiti Teknologi PETRONAS · Contract', 'Mar 2022 - Present · 6 mos', 'Perak, Malaysia']}, {'titles': ['PhD student Intern'], 'exp': ['Intel Corporation · Internship', 'Aug 2021 - Feb 2022 · 7 mos', 'Malaysia']}, {'titles': ['Graduate Research Assistant'], 'exp': ['Universiti Teknologi PETRONAS', 'Aug 2017 - Aug 2021 · 4 yrs 1 mo', 'Perak, Malaysia']}], 'edus': [['Doctor of Philosophy - PhD', '2017'], ['Master of Science - MS, Computer Engineering', '2012 - 2015'], ['Bachelor of Engineering - BE, Computer Engineering', '2006 - 2011']], 'skills': [['Economics'], ['Public Speaking'], ['Leadership']]}, {'link': 'https://www.linkedin.com/in/m%C3%A5rten-bj%C3%B6rketun-12505536', 'name': 'Mårten Björketun', 'current_title': 'Data driven research scientist with experience from renewable energy and fintech industries', 'current_location': 'Penang, Malaysia', 'exps': [{'titles': ['Principal Data Scientist'], 'exp': ['Datium Insights · Full-time', 'Nov 2021 - Present · 10 mos', 'Kuala Lumpur, Federal Territory of Kuala Lumpur, Malaysia']}, {'titles': ['Research Scientist & Team Lead'], 'exp': ['MoneyLion', 'Mar 2018 - Aug 2021 · 3 yrs 6 mos', 'Kuala Lumpur, Malaysia']}, {'titles': ['Research Consultant'], 'exp': ['ExcelVite Sdn Bhd', 'Jan 2016 - Dec 2016 · 1 yr']}, {'titles': ['Postdoc / Researcher / Senior Researcher'], 'exp': ['Technical University of Denmark', 'Sep 2007 - May 2015 · 7 yrs 9 mos']}], 'edus': [['Doctor of Philosophy - PhD, Physics', '2002 - 2007'], ['Master of Science - MS, Applied Physics and Electrical Engineering', '1996 - 2000']], 'skills': [['Materials Science'], ['Nanotechnology'], ['Scientific Computing']]}, {'link': 'https://www.linkedin.com/in/bh-tan', 'name': 'BH (Sam) Tan', 'current_title': 'Data Scientist', 'current_location': 'George Town, Penang, Malaysia', 'exps': [{'titles': ['Assistant Officer'], 'exp': ['DOSM · Full-time', 'Jul 2009 - Present · 13 yrs 2 mos', 'George Town, Penang, Malaysia']}], 'edus': [['Master of Data Science, Data Science', '2018 - 2020'], ['Bachelor, Economics', '2012 - 2016']], 'skills': [['Data Science'], ['Teamwork'], ['Data Analysis']]}, {'link': 'https://www.linkedin.com/in/aqilahrose', 'name': 'Nur Aqilah', 'current_title': 'Data Scientist at Intel Corporation | PhD USM', 'current_location': 'Penang, Malaysia', 'exps': [{'titles': ['Data Scientist'], 'exp': ['Intel Corporation · Full-time', 'Jun 2022 - Present · 3 mos', 'Penang, Malaysia']}, {'titles': ['Graduate Research Assistant (PhD)'], 'exp': ['Universiti Sains Malaysia · Contract', 'Oct 2019 - May 2022 · 2 yrs 8 mos', 'pulau pinang']}, {'titles': ['Software Developer'], 'exp': ['Sophic Automation Sdn Bhd · Contract', 'May 2017 - Sep 2018 · 1 yr 5 mos', 'Pulau Pinang']}, {'titles': ['System Analyst'], 'exp': ['Bellfield Star Sdn Bhd · Full-time', 'Aug 2016 - Apr 2017 · 9 mos', 'Kuala Lumpur, Malaysia']}, {'titles': ['Internship Trainee'], 'exp': ['Computer science Universiti Sains Malaysia', 'Feb 2015 - Jul 2015 · 6 mos', 'Pulau Pinang']}], 'edus': [['Doctor of Philosophy - PhD, Artificial Intelligence', 'Oct 2019 - Sep 2022'], [\"Master's degree, Computer Science\", 'Apr 2017 - Sep 2018'], [\"Bachelor's degree, Computer Software Engineering\", '2012 - 2016']], 'skills': [['SIT'], ['Internet of Things (IoT)'], ['Programming Languages']]}]\n"
     ]
    },
    {
     "name": "stderr",
     "output_type": "stream",
     "text": [
      "C:\\Users\\yong2\\AppData\\Local\\Temp\\ipykernel_28248\\2546454168.py:69: DeprecationWarning: find_elements_by_css_selector is deprecated. Please use find_elements(by=By.CSS_SELECTOR, value=css_selector) instead\n",
      "  div_skills = e_.find_elements_by_css_selector(\"div#skills\")\n",
      "C:\\Users\\yong2\\AppData\\Local\\Temp\\ipykernel_28248\\2546454168.py:76: DeprecationWarning: find_elements_by_css_selector is deprecated. Please use find_elements(by=By.CSS_SELECTOR, value=css_selector) instead\n",
      "  elems_skills = elem_skill.find_elements_by_css_selector(\"div.pvs-list__outer-container div.display-flex.flex-column.full-width.align-self-center\")\n",
      "C:\\Users\\yong2\\AppData\\Local\\Temp\\ipykernel_28248\\2546454168.py:80: DeprecationWarning: find_elements_by_css_selector is deprecated. Please use find_elements(by=By.CSS_SELECTOR, value=css_selector) instead\n",
      "  spans = elem_skill.find_elements_by_css_selector(\"span.mr1 > span\")\n"
     ]
    }
   ],
   "source": [
    "from selenium.common.exceptions import NoSuchElementException\n",
    "import time\n",
    "import pandas as pd \n",
    "\n",
    "#i try avoid list comprehension here, fearing it adds overhead\n",
    "candidates = []\n",
    "driver.implicitly_wait(2)\n",
    "count = 0\n",
    "for link in links:\n",
    "    count = count + 1\n",
    "    if count <= 100:\n",
    "        continue\n",
    "    if count > 120:\n",
    "        break\n",
    "    print(f\"processing {link}\")\n",
    "    driver.get(link)\n",
    "    \n",
    "    elem_name = driver.find_element_by_class_name(\"text-heading-xlarge\").text\n",
    "    elem_title = driver.find_element_by_css_selector(\"div.pv-text-details__left-panel > div.text-body-medium\").text\n",
    "    elem_loc = driver.find_element_by_css_selector(\"div.pv-text-details__left-panel > span.text-body-small\").text\n",
    "    \n",
    "    es_ = driver.find_elements_by_css_selector(\"section.artdeco-card.ember-view.relative.break-words\")\n",
    "    \n",
    "    time.sleep(1)    \n",
    "    ###Experience###\n",
    "    section_exp = []\n",
    "    for e_ in es_:\n",
    "        div_exps = e_.find_elements_by_css_selector(\"div#experience\")\n",
    "        if len(div_exps) > 0:\n",
    "            section_exp.append(e_)\n",
    "            break\n",
    "    \n",
    "    if len(section_exp) > 0:\n",
    "        elem_exp = section_exp[0]\n",
    "        elems_exp = elem_exp.find_elements_by_css_selector(\"div.pvs-list__outer-container div.display-flex.flex-column.full-width.align-self-center\")\n",
    "\n",
    "        exps = []\n",
    "        for elem_exp in elems_exp:\n",
    "            spans = elem_exp.find_elements_by_css_selector(\"span.t-14 > span\")\n",
    "            exp = [span.text for span in spans if span.get_attribute(\"aria-hidden\") is not None]\n",
    "            \n",
    "            title_spans = elem_exp.find_elements_by_css_selector(\"span.mr1 > span\")\n",
    "            titles = [span.text for span in title_spans if span.get_attribute(\"aria-hidden\") is not None]\n",
    "            exps.append({\"titles\":titles, \"exp\": exp})\n",
    "    ##################\n",
    "    \n",
    "    ###Education###\n",
    "    section_edu = []\n",
    "    for e_ in es_:\n",
    "        div_edus = e_.find_elements_by_css_selector(\"div#education\")\n",
    "        if len(div_edus) > 0:\n",
    "            section_edu.append(e_)\n",
    "            break\n",
    "    \n",
    "    if len(section_edu) > 0:\n",
    "        elem_edu = section_edu[0]\n",
    "        elems_edu = elem_edu.find_elements_by_css_selector(\"div.pvs-list__outer-container div.display-flex.flex-column.full-width.align-self-center\")\n",
    "\n",
    "        edus = []\n",
    "        for elem_edu in elems_edu:\n",
    "            spans = elem_edu.find_elements_by_css_selector(\"span.t-14 > span\")\n",
    "            edu = [span.text for span in spans if span.get_attribute(\"aria-hidden\") is not None]\n",
    "            edus.append(edu)\n",
    "            \n",
    "            \n",
    "    ###Skills###\n",
    "    section_skill = []\n",
    "    for e_ in es_:\n",
    "        div_skills = e_.find_elements_by_css_selector(\"div#skills\")\n",
    "        if len(div_skills) > 0:\n",
    "            section_skill.append(e_)\n",
    "            break\n",
    "    \n",
    "    if len(section_skill) > 0:\n",
    "        elem_skill = section_skill[0]\n",
    "        elems_skills = elem_skill.find_elements_by_css_selector(\"div.pvs-list__outer-container div.display-flex.flex-column.full-width.align-self-center\")\n",
    "\n",
    "        skills = []\n",
    "        for elem_skill in elems_skills:\n",
    "            spans = elem_skill.find_elements_by_css_selector(\"span.mr1 > span\")\n",
    "            skill = [span.text for span in spans if span.get_attribute(\"aria-hidden\") is not None]\n",
    "            skills.append(skill)\n",
    "\n",
    "    candidate = {\"link\": link, \"name\": elem_name, \"current_title\": elem_title, \"current_location\": elem_loc, \n",
    "                           \"exps\": exps, \"edus\": edus, \"skills\": skills}\n",
    "    candidates.append(candidate)\n",
    "    \n",
    "    df = pd.DataFrame([candidate])\n",
    "    df.to_csv('full-all.csv', encoding=\"utf-16\", header=False, mode='a')\n",
    "    \n",
    "    \n",
    "    \n",
    "print(candidates)"
   ]
  },
  {
   "cell_type": "markdown",
   "id": "b71dd34e",
   "metadata": {},
   "source": [
    "###### IGNORE CELLS BELOW#############\n",
    "\n",
    "#person_url = \"https://www.linkedin.com/in/yong-yong-khoo-6597a3137/\"\n",
    "#person_url2 = \"https://www.linkedin.com/in/joey-sham-aa2a50122/\"\n",
    "\n",
    "#s_input = driver.find_element_by_css_selector(\"#global-nav-typeahead > input\")\n",
    "#s_input.send_keys(\"Data Scientist\")\n",
    "#s_input.send_keys(Keys.ENTER)\n",
    "\n",
    "#driver.get(links[2])\n",
    "#driver.implicitly_wait(10)\n",
    "\n",
    "#elems_with_artdeco = driver.find_elements_by_css_selector(\"section.artdeco-card.ember-view.relative.break-words\")\n",
    "#print(len(elems))\n",
    "#print(elem_by_xpath)\n",
    "#print(elem_by_xpath.get_attribute(\"innerHTML\"))\n",
    "#print(elems_exp.get_attribute(\"innerHTML\"))\n",
    "#div.display-flex.flex-column.full-width"
   ]
  },
  {
   "cell_type": "code",
   "execution_count": null,
   "id": "2025d5d7",
   "metadata": {},
   "outputs": [],
   "source": [
    "    \"\"\"   \n",
    "    #Section 4 = Experience\n",
    "    time.sleep(1)\n",
    "    exp_xpath = \"/html/body/div[5]/div[3]/div/div/div[2]/div/div/main/section[4]\"\n",
    "    exp_xpath = \"/html/body/div[4]/div[3]/div/div/div[2]/div/div/main/section[5]\"\n",
    "    #WebDriverWait(driver, 10).until(EC.presence_of_element_located((By.ID, \"experience\")))\n",
    "    \n",
    "    elem_by_xpath = driver.find_element_by_xpath(exp_xpath)\n",
    "    elems_exp = elem_by_xpath.find_elements_by_css_selector(\"div.pvs-list__outer-container div.display-flex.flex-column.full-width.align-self-center\")\n",
    "    exps = []\n",
    "    for elem_exp in elems_exp:\n",
    "        spans = elem_exp.find_elements_by_css_selector(\"span.t-14 > span\")\n",
    "        exp = [span.text for span in spans if span.get_attribute(\"aria-hidden\") is not None]\n",
    "        exps.append(exp)\n",
    "     \n",
    "    #Section 5 = Education\n",
    "    elem_by_xpath = driver.find_element_by_xpath(\"/html/body/div[5]/div[3]/div/div/div[2]/div/div/main/section[5]\")\n",
    "    elems_edus = elem_by_xpath.find_elements_by_css_selector(\"div.pvs-list__outer-container div.display-flex.flex-column.full-width.align-self-center\")\n",
    "    edus = []\n",
    "    for elem_edu in elems_edus:\n",
    "        spans = elem_exp.find_elements_by_css_selector(\"span.t-14 > span\")\n",
    "        edu = [span.text for span in spans if span.get_attribute(\"aria-hidden\") is not None]\n",
    "        edus.append(edu)\n",
    "    \n",
    "    \n",
    "    \"\"\""
   ]
  },
  {
   "cell_type": "code",
   "execution_count": 104,
   "id": "29eff20a",
   "metadata": {},
   "outputs": [
    {
     "name": "stdout",
     "output_type": "stream",
     "text": [
      "Woon Yen, Pang\n",
      "Data Scientist | BI Analyst | Pursuing Master of Data Science\n",
      "Petaling Jaya, Selangor, Malaysia\n"
     ]
    },
    {
     "name": "stderr",
     "output_type": "stream",
     "text": [
      "C:\\Users\\yong2\\AppData\\Local\\Temp\\ipykernel_23488\\2008645017.py:1: DeprecationWarning: find_element_by_class_name is deprecated. Please use find_element(by=By.CLASS_NAME, value=name) instead\n",
      "  elem_name = driver.find_element_by_class_name(\"text-heading-xlarge\")\n",
      "C:\\Users\\yong2\\AppData\\Local\\Temp\\ipykernel_23488\\2008645017.py:4: DeprecationWarning: find_element_by_css_selector is deprecated. Please use find_element(by=By.CSS_SELECTOR, value=css_selector) instead\n",
      "  elem_title = driver.find_element_by_css_selector(\"div.pv-text-details__left-panel > div.text-body-medium\")\n",
      "C:\\Users\\yong2\\AppData\\Local\\Temp\\ipykernel_23488\\2008645017.py:7: DeprecationWarning: find_element_by_css_selector is deprecated. Please use find_element(by=By.CSS_SELECTOR, value=css_selector) instead\n",
      "  elem_loc = driver.find_element_by_css_selector(\"div.pv-text-details__left-panel > span.text-body-small\")\n"
     ]
    }
   ],
   "source": [
    "elem_name = driver.find_element_by_class_name(\"text-heading-xlarge\")\n",
    "print(elem_name.text)\n",
    "\n",
    "elem_title = driver.find_element_by_css_selector(\"div.pv-text-details__left-panel > div.text-body-medium\")\n",
    "print(elem_title.text)\n",
    "\n",
    "elem_loc = driver.find_element_by_css_selector(\"div.pv-text-details__left-panel > span.text-body-small\")\n",
    "print(elem_loc.text)"
   ]
  },
  {
   "cell_type": "code",
   "execution_count": 88,
   "id": "7837f692",
   "metadata": {},
   "outputs": [
    {
     "name": "stderr",
     "output_type": "stream",
     "text": [
      "C:\\Users\\yong2\\AppData\\Local\\Temp\\ipykernel_23488\\2040392348.py:2: DeprecationWarning: find_element_by_xpath is deprecated. Please use find_element(by=By.XPATH, value=xpath) instead\n",
      "  elem_by_xpath = driver.find_element_by_xpath(\"/html/body/div[5]/div[3]/div/div/div[2]/div/div/main/section[4]\")\n",
      "C:\\Users\\yong2\\AppData\\Local\\Temp\\ipykernel_23488\\2040392348.py:6: DeprecationWarning: find_elements_by_css_selector is deprecated. Please use find_elements(by=By.CSS_SELECTOR, value=css_selector) instead\n",
      "  elems_exp = elem_by_xpath.find_elements_by_css_selector(\"div.pvs-list__outer-container div.display-flex.flex-column.full-width.align-self-center\")\n",
      "C:\\Users\\yong2\\AppData\\Local\\Temp\\ipykernel_23488\\2040392348.py:10: DeprecationWarning: find_elements_by_css_selector is deprecated. Please use find_elements(by=By.CSS_SELECTOR, value=css_selector) instead\n",
      "  spans = elem_exp.find_elements_by_css_selector(\"span.t-14 > span\")\n"
     ]
    },
    {
     "name": "stdout",
     "output_type": "stream",
     "text": [
      "<selenium.webdriver.remote.webelement.WebElement (session=\"1f5d01aa935c41faaa33adfb28743ba5\", element=\"753eaf62-5888-4f08-8a21-530ed8a9c48b\")>\n",
      "5\n",
      "Etiqa Insurance and Takaful · Full-time\n",
      "Dec 2021 - Present · 9 mos\n",
      "Kuala Lumpur, Federal Territory of Kuala Lumpur, Malaysia\n",
      "---\n",
      "DKSH SMOLLAN FIELD MARKETING · Full-time\n",
      "Nov 2020 - Nov 2021 · 1 yr 1 mo\n",
      "Petaling Jaya, Selangor, Malaysia\n",
      "---\n",
      "BoardRoom Limited · Full-time\n",
      "Nov 2019 - Oct 2020 · 1 yr\n",
      "Singapore\n",
      "---\n",
      "Cedar Fair Entertainment Company · Contract\n",
      "Jul 2019 - Sep 2019 · 3 mos\n",
      "Ohio, United States\n",
      "---\n",
      "Monash University · Internship\n",
      "Jul 2018 - Sep 2018 · 3 mos\n",
      "Johore, Malaysia\n",
      "---\n"
     ]
    }
   ],
   "source": [
    "#Section 4 = Experience\n",
    "elem_by_xpath = driver.find_element_by_xpath(\"/html/body/div[5]/div[3]/div/div/div[2]/div/div/main/section[4]\")\n",
    "elems_exp = elem_by_xpath.find_elements_by_css_selector(\"div.pvs-list__outer-container div.display-flex.flex-column.full-width.align-self-center\")\n",
    "\n",
    "for elem_exp in elems_exp:\n",
    "    spans = elem_exp.find_elements_by_css_selector(\"span.t-14 > span\")\n",
    "    for span in spans:\n",
    "        if span.get_attribute(\"aria-hidden\") is not None:\n",
    "            print(span.text)\n",
    "    print(\"---\")"
   ]
  },
  {
   "cell_type": "code",
   "execution_count": 89,
   "id": "5944fd92",
   "metadata": {},
   "outputs": [
    {
     "name": "stderr",
     "output_type": "stream",
     "text": [
      "C:\\Users\\yong2\\AppData\\Local\\Temp\\ipykernel_23488\\1093763539.py:2: DeprecationWarning: find_element_by_xpath is deprecated. Please use find_element(by=By.XPATH, value=xpath) instead\n",
      "  elem_by_xpath = driver.find_element_by_xpath(\"/html/body/div[5]/div[3]/div/div/div[2]/div/div/main/section[5]\")\n",
      "C:\\Users\\yong2\\AppData\\Local\\Temp\\ipykernel_23488\\1093763539.py:4: DeprecationWarning: find_elements_by_css_selector is deprecated. Please use find_elements(by=By.CSS_SELECTOR, value=css_selector) instead\n",
      "  elems_edus = elem_by_xpath.find_elements_by_css_selector(\"div.pvs-list__outer-container div.display-flex.flex-column.full-width.align-self-center\")\n",
      "C:\\Users\\yong2\\AppData\\Local\\Temp\\ipykernel_23488\\1093763539.py:6: DeprecationWarning: find_elements_by_css_selector is deprecated. Please use find_elements(by=By.CSS_SELECTOR, value=css_selector) instead\n",
      "  spans = elem_exp.find_elements_by_css_selector(\"span.t-14 > span\")\n"
     ]
    },
    {
     "name": "stdout",
     "output_type": "stream",
     "text": [
      "Monash University · Internship\n",
      "Jul 2018 - Sep 2018 · 3 mos\n",
      "Johore, Malaysia\n",
      "---\n",
      "Monash University · Internship\n",
      "Jul 2018 - Sep 2018 · 3 mos\n",
      "Johore, Malaysia\n",
      "---\n",
      "Monash University · Internship\n",
      "Jul 2018 - Sep 2018 · 3 mos\n",
      "Johore, Malaysia\n",
      "---\n"
     ]
    }
   ],
   "source": [
    "#Section 5 = Education\n",
    "elem_by_xpath = driver.find_element_by_xpath(\"/html/body/div[5]/div[3]/div/div/div[2]/div/div/main/section[5]\")\n",
    "elems_edus = elem_by_xpath.find_elements_by_css_selector(\"div.pvs-list__outer-container div.display-flex.flex-column.full-width.align-self-center\")\n",
    "for elem_edu in elems_edus:\n",
    "    spans = elem_exp.find_elements_by_css_selector(\"span.t-14 > span\")\n",
    "    for span in spans:\n",
    "        if span.get_attribute(\"aria-hidden\") is not None:\n",
    "            print(span.text)\n",
    "    print(\"---\")"
   ]
  },
  {
   "cell_type": "code",
   "execution_count": null,
   "id": "2095522a",
   "metadata": {},
   "outputs": [],
   "source": []
  }
 ],
 "metadata": {
  "kernelspec": {
   "display_name": "Python 3 (ipykernel)",
   "language": "python",
   "name": "python3"
  },
  "language_info": {
   "codemirror_mode": {
    "name": "ipython",
    "version": 3
   },
   "file_extension": ".py",
   "mimetype": "text/x-python",
   "name": "python",
   "nbconvert_exporter": "python",
   "pygments_lexer": "ipython3",
   "version": "3.9.12"
  }
 },
 "nbformat": 4,
 "nbformat_minor": 5
}
